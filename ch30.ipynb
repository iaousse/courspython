{
 "cells": [
  {
   "cell_type": "markdown",
   "metadata": {
    "tags": []
   },
   "source": [
    "Point sur les chaînes de caractères, les listes, les tuples et les dictionnaires: \n",
    "===========\n",
    "\n",
    "## Manupilation des chaînes de caractères (strings)\n",
    "\n",
    "```{admonition} Rappel\n",
    "Nous avons vu que:\n",
    "- Une chaîne est une liste ordonnee de caractères;\n",
    "- Un caractère est tout ce que vous pouvez taper sur le clavier en une seule frappe,\n",
    "comme une lettre (a, b, c, ...), un chiffre (0, 1, 3, ...), symboles (@, %, #,...), espace ou une backslash (\\);\n",
    "- Une chaîne vide est une chaîne qui contient 0 caractères ('');\n",
    "- Python reconnaît comme chaînes tout ce qui est délimité par des guillemets\n",
    "(\" \" ou alors ' ').\n",
    "- Pour affecter une chaîne de caractères a une variable:\n",
    "```python\n",
    "var = \"bonjour\"\n",
    "```\n",
    "```"
   ]
  },
  {
   "cell_type": "markdown",
   "metadata": {},
   "source": [
    "Maintenat nous Nous allons voir quelques caracteres speciaux\n",
    "\n",
    "Sous Python, la backslash `\"\\\"` est un caractère spécial, également appelé caractère `d'échappement`. Il est utilisé pour représenter certains caractères d'espacement : \"\\t\" est une tabulation, \"\\n\" est une nouvelle ligne et \"\\r\" est un retour chariot. Supposons que nous voulons afficher cette chaine `\"\\nous\\tenons a vous remericer\"`."
   ]
  },
  {
   "cell_type": "code",
   "execution_count": 17,
   "metadata": {},
   "outputs": [
    {
     "name": "stdout",
     "output_type": "stream",
     "text": [
      "\n",
      "ous\tenons a vous remericer\n"
     ]
    }
   ],
   "source": [
    "print(\"\\nous\\tenons a vous remericer\")"
   ]
  },
  {
   "cell_type": "markdown",
   "metadata": {},
   "source": [
    "Python ne comprend que `'\\n'` dons `\"\\nous\\tenons a vous remericer\"` est un retour a linge. La meme chose pour `'\\t'` est une tabulation (nous allons voir en details caractère dits `caractères speciaux`). Pour lui informer que nous ne voulons pas ca, on doit ajouter `\\` avant `\\` dans les deux cas (c'est-a-dire `\\\\`). Voila comment le faire:"
   ]
  },
  {
   "cell_type": "code",
   "execution_count": 18,
   "metadata": {},
   "outputs": [
    {
     "name": "stdout",
     "output_type": "stream",
     "text": [
      "\\nous\\tenons a vous remericer\n"
     ]
    }
   ],
   "source": [
    "print(\"\\\\nous\\\\tenons a vous remericer\")"
   ]
  },
  {
   "cell_type": "markdown",
   "metadata": {},
   "source": [
    "Aussi, lorsque nous voulons afficher une chaine de caracteres comme `'c'est magnifique'`"
   ]
  },
  {
   "cell_type": "code",
   "execution_count": 19,
   "metadata": {},
   "outputs": [
    {
     "ename": "SyntaxError",
     "evalue": "invalid syntax (892033391.py, line 1)",
     "output_type": "error",
     "traceback": [
      "\u001b[1;36m  File \u001b[1;32m\"C:\\Users\\usr\\AppData\\Local\\Temp\\ipykernel_10040\\892033391.py\"\u001b[1;36m, line \u001b[1;32m1\u001b[0m\n\u001b[1;33m    print('c'est magnifique')\u001b[0m\n\u001b[1;37m               ^\u001b[0m\n\u001b[1;31mSyntaxError\u001b[0m\u001b[1;31m:\u001b[0m invalid syntax\n"
     ]
    }
   ],
   "source": [
    "print('c'est magnifique')"
   ]
  },
  {
   "cell_type": "markdown",
   "metadata": {},
   "source": [
    "Python comprend que la deuxiem apostrophe termine la chaine de caractere donc le reste de la chaine (`est magnifique`) n'est pas compris. Nous devons mettre `\\` avant la deuxieme apostrophe pour elle soit un caractere de cette chaine:"
   ]
  },
  {
   "cell_type": "code",
   "execution_count": 20,
   "metadata": {},
   "outputs": [
    {
     "name": "stdout",
     "output_type": "stream",
     "text": [
      "c'est magnifique\n"
     ]
    }
   ],
   "source": [
    "print('c\\'est magnifique')"
   ]
  },
  {
   "cell_type": "markdown",
   "metadata": {},
   "source": [
    "La meme chose pour une chaine content `\"` est declaree par `\" \"` (comme `\"\"bonjour\"\"`)."
   ]
  },
  {
   "cell_type": "code",
   "execution_count": 21,
   "metadata": {},
   "outputs": [
    {
     "ename": "SyntaxError",
     "evalue": "invalid syntax (2877536476.py, line 1)",
     "output_type": "error",
     "traceback": [
      "\u001b[1;36m  File \u001b[1;32m\"C:\\Users\\usr\\AppData\\Local\\Temp\\ipykernel_10040\\2877536476.py\"\u001b[1;36m, line \u001b[1;32m1\u001b[0m\n\u001b[1;33m    print(\"\"bonjour\"\")\u001b[0m\n\u001b[1;37m                  ^\u001b[0m\n\u001b[1;31mSyntaxError\u001b[0m\u001b[1;31m:\u001b[0m invalid syntax\n"
     ]
    }
   ],
   "source": [
    "print(\"\"bonjour\"\")"
   ]
  },
  {
   "cell_type": "code",
   "execution_count": 22,
   "metadata": {},
   "outputs": [
    {
     "name": "stdout",
     "output_type": "stream",
     "text": [
      "\"bonjour\"\n"
     ]
    }
   ],
   "source": [
    "print(\"\\\"bonjour\\\"\")"
   ]
  },
  {
   "cell_type": "markdown",
   "metadata": {},
   "source": [
    "```{note}\n",
    "On peut utiliser `\"c'est magnifique\"` ou `'\"bonjour\"'` sans utiliser `\\` (entrer la chaine avec apostrophe s'elle contien des gueimmet ou l'invers).\n",
    "```"
   ]
  },
  {
   "cell_type": "code",
   "execution_count": 23,
   "metadata": {},
   "outputs": [
    {
     "name": "stdout",
     "output_type": "stream",
     "text": [
      "c'est magnifique\n",
      "\"bonjour\"\n"
     ]
    }
   ],
   "source": [
    "print(\"c'est magnifique\")\n",
    "print('\"bonjour\"')"
   ]
  },
  {
   "cell_type": "markdown",
   "metadata": {},
   "source": [
    "Voici une qulques des caracteres speciaux et leurs significations:\n",
    "- `\\n` - Nouvelle ligne\n",
    "- `\\t` - tabulation\n",
    "- `\\r` - Retour chariot\n",
    "- `\\b` - Retour en arrière\n",
    "- `\\f` - Saut de page\n",
    "- `\\'` - Apostrophe\n",
    "- `\\\"` - Guiellmets\n",
    "- `\\\\` -Backslash"
   ]
  },
  {
   "cell_type": "code",
   "execution_count": 65,
   "metadata": {
    "collapsed": true,
    "jupyter": {
     "outputs_hidden": true
    },
    "tags": []
   },
   "outputs": [
    {
     "name": "stdout",
     "output_type": "stream",
     "text": [
      "Bon\n",
      "jour\n",
      "----\n",
      "Bon\tjour\n",
      "----\n",
      "jour\n",
      "----\n",
      "Bojour\n",
      "----\n",
      "Bon\f",
      "\"jour\n",
      "----\n"
     ]
    }
   ],
   "source": [
    "print('Bon\\njour', end='\\n----\\n')\n",
    "print('Bon\\tjour', end='\\n----\\n')\n",
    "print('Bon\\rjour', end='\\n----\\n')\n",
    "print('Bon\\bjour', end='\\n----\\n')\n",
    "print('Bon\\fjour', end='\\n----\\n')"
   ]
  },
  {
   "cell_type": "markdown",
   "metadata": {},
   "source": [
    "### operations sur les chaînes de caractères\n",
    "\n",
    "On peut realiser quelques orperations sur les chaînes de caractères. Par exemple, pour concatiner deux chaînes de caractères on utilise `+`(`chaine1+chaine2`), pour repeter une chaîne de caractère n fois on multiplie n par la chaine (`n*chaine`)."
   ]
  },
  {
   "cell_type": "code",
   "execution_count": 72,
   "metadata": {},
   "outputs": [
    {
     "name": "stdout",
     "output_type": "stream",
     "text": [
      "helloworld\n",
      "hello world\n",
      "hellohellohellohellohello\n",
      "hello worldworldhello worldworldhello worldworldhello worldworld\n"
     ]
    }
   ],
   "source": [
    "var1 = 'hello'\n",
    "var2 = \"world\"\n",
    "print(var1+var2)\n",
    "print(var1+' '+var2)\n",
    "print(5*var1)\n",
    "print(4*(var1 + \" \"+ 2*var2))"
   ]
  },
  {
   "cell_type": "markdown",
   "metadata": {},
   "source": [
    "Si l'on désire déterminer le nombre de caractères présents dans une chaîne, on utilise la fonction\n",
    "intégrée `len()` :"
   ]
  },
  {
   "cell_type": "code",
   "execution_count": 73,
   "metadata": {},
   "outputs": [
    {
     "name": "stdout",
     "output_type": "stream",
     "text": [
      "21\n"
     ]
    }
   ],
   "source": [
    "var = \"bonjour tout le monde\"\n",
    "print(len(var))"
   ]
  },
  {
   "cell_type": "markdown",
   "metadata": {},
   "source": [
    "La varaible `var` contient une chaine de  21 caracteres (3 espace comptés)."
   ]
  },
  {
   "cell_type": "markdown",
   "metadata": {},
   "source": [
    "Les chaînes sont des séquences de caractères. Chacun de ceux-ci occupe une place précise dans cette séquence. Sous Python, les éléments d'une séquence sont toujours indicés (ou numérotés) de la même manière, c'est-à-dire à partir de zéro (python commence toujours avec 0 comme premier indice). Pour extraire un caractère specifique (ou plusieurs caractères) on utilise `[]`. Voici quelques exemple en utilisant `var = \"bonjour tout le monde\"`."
   ]
  },
  {
   "cell_type": "code",
   "execution_count": 76,
   "metadata": {},
   "outputs": [
    {
     "name": "stdout",
     "output_type": "stream",
     "text": [
      "b\n",
      "o\n",
      "n\n",
      "j\n",
      "e\n"
     ]
    }
   ],
   "source": [
    "var = \"bonjour tout le monde\"\n",
    "\n",
    "print(var[0])\n",
    "\n",
    "print(var[1])\n",
    "\n",
    "print(var[2])\n",
    "\n",
    "print(var[3])\n",
    "\n",
    "print(var[20])"
   ]
  },
  {
   "cell_type": "markdown",
   "metadata": {},
   "source": [
    "Dans certaines situations, Il est utile de pouvoir désigner l'emplacement d'un caractère par rapport à la fin de la chaîne.\n",
    "Pour cela, nous utilisons des indices négatifs: -1 désignera le dernier caractère, -2 l'avant dernier, et ainsi de suite."
   ]
  },
  {
   "cell_type": "code",
   "execution_count": 78,
   "metadata": {},
   "outputs": [
    {
     "name": "stdout",
     "output_type": "stream",
     "text": [
      "e\n",
      "d\n",
      "n\n",
      "b\n"
     ]
    }
   ],
   "source": [
    "\n",
    "var = \"bonjour tout le monde\"\n",
    "\n",
    "print(var[-1])\n",
    "\n",
    "print(var[-2])\n",
    "\n",
    "print(var[-3])\n",
    "\n",
    "print(var[-21])"
   ]
  },
  {
   "cell_type": "markdown",
   "metadata": {},
   "source": [
    "Il arrive souvent que l'on souhaite extraire une sous-sequence de caracteres d'une chaîne. Sous Python, on utilise une technique dite `slicing` (). La technique consiste à indiquer entre crochets `[]` les indices correspondant au\n",
    "début et à la fin de la sous-sequence que l'on souhaite extraire.\n",
    "```{warning}\n",
    "Le caracter ayant preimier indice est inclu. Cependant,**le caracter ayant le dernier indice n'est pas iclu!!**. Si l'on veut, par exemple les trois premiers caracters, on doit indiquer 0 et 4 entre `[]` (`[0:4]`).\n",
    "- Si l'on veut les `n` premier caracters: `[:n+1]`\n",
    "- Si l'on veut les caracters a partir de l'indice `n` jusqu'a la fin de la chaine: `[n:]`\n",
    "```\n",
    "Illustrons ca avec un exemple:"
   ]
  },
  {
   "cell_type": "code",
   "execution_count": 82,
   "metadata": {},
   "outputs": [
    {
     "name": "stdout",
     "output_type": "stream",
     "text": [
      "\n",
      "njo\n",
      "bon\n",
      "bon\n",
      "ur tout le monde\n",
      "ur tout le monde\n",
      "bonjour tout le monde\n"
     ]
    }
   ],
   "source": [
    "\n",
    "var = \"bonjour tout le monde\"\n",
    "\n",
    "print(var[0:0])\n",
    "print(var[2:5])\n",
    "print(var[0:3])\n",
    "\n",
    "print(var[:3])\n",
    "\n",
    "print(var[5:21])\n",
    "\n",
    "print(var[5:])\n",
    "\n",
    "print(var[:])"
   ]
  },
  {
   "cell_type": "markdown",
   "metadata": {},
   "source": [
    "Si l'on veut tester l'appartenece d'un caracter a une chaine on utilise l'operateur `in`. L'expression est la suivante : `caractere in chaine`. Cela nous renvoi `True` si `caractere`est dans `chaine`, sinon `False`. On peut aussi ecrire `caractere not in chaine` pour tester si le caractere n'est pas dans `chaine` (`True`) ou s'il est dans `chaine` (`False`). Voici quelques exemples:"
   ]
  },
  {
   "cell_type": "code",
   "execution_count": 86,
   "metadata": {},
   "outputs": [
    {
     "name": "stdout",
     "output_type": "stream",
     "text": [
      "True\n",
      "False\n",
      "False\n",
      "True\n"
     ]
    }
   ],
   "source": [
    "var = \"bonjour tout le monde\"\n",
    "\n",
    "print('b' in var)\n",
    "\n",
    "print('z' in var)\n",
    "\n",
    "print('o' not in var)\n",
    "\n",
    "print('x' not in var)"
   ]
  },
  {
   "cell_type": "markdown",
   "metadata": {},
   "source": [
    "### quelques methodes utiles pour les chaines des caracteres\n",
    "Dans cette sections nous allons voir qulques `methodes`  pour les chaines des caracteres (lorsque nous allons etudier la programmation orientee objet, nous allons comprendre la signification de ce terme. Pour l'instant nous allons accepter que `method` signifie une fonction dont l'expression generale est `chqine.method(separateur)`).\n",
    "- split: cette methode est utlisee pour nous rendre une liste dont les elements sont les caracteres de la chaine.  On peut choisir le caractère séparateur en le fournissant comme argument, sinon c'est un espace par défaut."
   ]
  },
  {
   "cell_type": "code",
   "execution_count": 102,
   "metadata": {},
   "outputs": [
    {
     "name": "stdout",
     "output_type": "stream",
     "text": [
      "bonjour tout le monde\n",
      "['bonjour', 'tout', 'le', 'monde']\n",
      "<class 'list'>\n",
      "['un,', 'deux,', 'trois,', 'cinq-six,', 'sept']\n",
      "['un', ' deux', ' trois', ' cinq-six', ' sept']\n",
      "['un, deux, trois, cinq', 'six, sept']\n"
     ]
    }
   ],
   "source": [
    "var = \"bonjour tout le monde\"\n",
    "\n",
    "splitted_var = var.split()\n",
    "print(var)\n",
    "print(splitted_var)\n",
    "print(type(splitted_var))\n",
    "\n",
    "var2 = \"un, deux, trois, cinq-six, sept\"\n",
    "print(var2.split())\n",
    "print(var2.split(','))\n",
    "print(var2.split('-'))"
   ]
  },
  {
   "cell_type": "markdown",
   "metadata": {},
   "source": [
    "- count: lorsque elle est appliquee a un chaine de caracteres avec un agrgument qui est aussi une chaine de caracteres (eventuellement un caractere), elle renvoi le nombre d'occurences la derniere chaine dans la premiere chaines. ` chaine1.count(chaine2)`."
   ]
  },
  {
   "cell_type": "code",
   "execution_count": 106,
   "metadata": {},
   "outputs": [
    {
     "name": "stdout",
     "output_type": "stream",
     "text": [
      "1\n",
      "2\n",
      "3\n"
     ]
    }
   ],
   "source": [
    "var = \"bonjour tout le monde\"\n",
    "print(var.count(\"b\"))\n",
    "\n",
    "print(var.count(\"on\"))\n",
    "\n",
    "print(var.count(\" \"))"
   ]
  },
  {
   "cell_type": "markdown",
   "metadata": {},
   "source": [
    "- find, index : Lorsque l'une de ces methodes est appliquee a une chaine de caractere avec un agrgument qui est aussi une chaine de caracteres (eventuellement un caractere), elle renvoi l'indicee  la chaine cherchee dans la premiere chaines (l'indice de la primiere occurence). `find` renvoit -1 si la chaine cherchee n'existe pas alors que index revoit une erreur dans la meme situation. ` chaine1.find(chaine2)` et ` chaine1.index(chaine2)`."
   ]
  },
  {
   "cell_type": "code",
   "execution_count": 143,
   "metadata": {},
   "outputs": [
    {
     "name": "stdout",
     "output_type": "stream",
     "text": [
      "0\n",
      "14\n",
      "8\n",
      "-1\n"
     ]
    }
   ],
   "source": [
    "var = \"bonjour tout le monde\"\n",
    "print(var.find('b'))\n",
    "print(var.find('e'))\n",
    "print(var.find('tout'))\n",
    "print(var.find('x'))"
   ]
  },
  {
   "cell_type": "code",
   "execution_count": 144,
   "metadata": {},
   "outputs": [
    {
     "name": "stdout",
     "output_type": "stream",
     "text": [
      "0\n",
      "14\n",
      "8\n"
     ]
    },
    {
     "ename": "ValueError",
     "evalue": "substring not found",
     "output_type": "error",
     "traceback": [
      "\u001b[1;31m---------------------------------------------------------------------------\u001b[0m",
      "\u001b[1;31mValueError\u001b[0m                                Traceback (most recent call last)",
      "\u001b[1;32m~\\AppData\\Local\\Temp\\ipykernel_10040\\458526427.py\u001b[0m in \u001b[0;36m<module>\u001b[1;34m\u001b[0m\n\u001b[0;32m      3\u001b[0m \u001b[0mprint\u001b[0m\u001b[1;33m(\u001b[0m\u001b[0mvar\u001b[0m\u001b[1;33m.\u001b[0m\u001b[0mindex\u001b[0m\u001b[1;33m(\u001b[0m\u001b[1;34m'e'\u001b[0m\u001b[1;33m)\u001b[0m\u001b[1;33m)\u001b[0m\u001b[1;33m\u001b[0m\u001b[1;33m\u001b[0m\u001b[0m\n\u001b[0;32m      4\u001b[0m \u001b[0mprint\u001b[0m\u001b[1;33m(\u001b[0m\u001b[0mvar\u001b[0m\u001b[1;33m.\u001b[0m\u001b[0mindex\u001b[0m\u001b[1;33m(\u001b[0m\u001b[1;34m'tout'\u001b[0m\u001b[1;33m)\u001b[0m\u001b[1;33m)\u001b[0m\u001b[1;33m\u001b[0m\u001b[1;33m\u001b[0m\u001b[0m\n\u001b[1;32m----> 5\u001b[1;33m \u001b[0mprint\u001b[0m\u001b[1;33m(\u001b[0m\u001b[0mvar\u001b[0m\u001b[1;33m.\u001b[0m\u001b[0mindex\u001b[0m\u001b[1;33m(\u001b[0m\u001b[1;34m'x'\u001b[0m\u001b[1;33m)\u001b[0m\u001b[1;33m)\u001b[0m\u001b[1;33m\u001b[0m\u001b[1;33m\u001b[0m\u001b[0m\n\u001b[0m",
      "\u001b[1;31mValueError\u001b[0m: substring not found"
     ]
    }
   ],
   "source": [
    "var = \"bonjour tout le monde\"\n",
    "print(var.index('b'))\n",
    "print(var.index('e'))\n",
    "print(var.index('tout'))\n",
    "print(var.index('x'))"
   ]
  },
  {
   "cell_type": "markdown",
   "metadata": {},
   "source": [
    "- lower, upper, title, capitalize, swapcase: Lorsque l'une de ces methodes est appliquee a une chaine de caractere, elle la convertit on minuscule (`lower`), majuscule (`upper`), majuscule a l'initial de chaque mot (`title`), mjuscule a l'initial du premier mot (`capitalize`), et les majuscules en minuscules, et vice-versa (`swapecase`)."
   ]
  },
  {
   "cell_type": "code",
   "execution_count": 138,
   "metadata": {},
   "outputs": [
    {
     "name": "stdout",
     "output_type": "stream",
     "text": [
      "BONJOUR TOUT LE MONDE\n",
      "Bonjour Tout Le Monde\n",
      "Bonjour tout le monde\n",
      "bonjour tout le monde\n",
      "BONJOUR TOUT LE MONDE\n"
     ]
    }
   ],
   "source": [
    "var1 = \"bonjour tout le monde\"\n",
    "var2 = \"Bonjour tout le monde\"\n",
    "var3 = \"BONJOUR tout le monde\"\n",
    "\n",
    "print(var1.upper())\n",
    "print(var1.title())\n",
    "print(var1.capitalize())\n",
    "print(var3.lower())\n",
    "print(var1.swapcase())"
   ]
  },
  {
   "cell_type": "markdown",
   "metadata": {},
   "source": [
    "- strip: enlève les espaces (s'ils existent) au début et à la fin de la chaîne."
   ]
  },
  {
   "cell_type": "code",
   "execution_count": 140,
   "metadata": {},
   "outputs": [
    {
     "name": "stdout",
     "output_type": "stream",
     "text": [
      "bonjour tout le monde\n",
      "Bonjour tout le monde\n"
     ]
    }
   ],
   "source": [
    "var1 = \"bonjour tout le monde\"\n",
    "var2 = \"   Bonjour tout le monde   \"\n",
    "\n",
    "print(var1.strip())\n",
    "print(var2.strip())"
   ]
  },
  {
   "cell_type": "markdown",
   "metadata": {},
   "source": [
    "- replace: remplace une cahine de caracteres (eventuellement un seul caractere) par une autre cahine de caractere."
   ]
  },
  {
   "cell_type": "code",
   "execution_count": 142,
   "metadata": {},
   "outputs": [
    {
     "name": "stdout",
     "output_type": "stream",
     "text": [
      "Bonjour tout le monde\n",
      "bonsoir tout le monde\n"
     ]
    }
   ],
   "source": [
    "var = \"bonjour tout le monde\"\n",
    "print(var.replace('b', 'B'))\n",
    "\n",
    "print(var.replace('bonjour', 'bonsoir'))"
   ]
  },
  {
   "cell_type": "markdown",
   "metadata": {},
   "source": [
    "Formatage des chaînes de caractères\n",
    "\n",
    "Les chaines de caracters en python sont riche en terme de fonctionalite (vous allez, au fur et mesure, decouvrir des nouvelles methods et technique avancees). Dans cette section, nou allons presenter une derniere une technique de traitement très puissante, que l’on appelle formatage des chaînes. \n",
    "\n",
    "Nous pouvons, d'ailleurs, faire ce que cette technique fait avec la concatenation des chaines (avec `+`). Cependant le formatage est plus lisible est ne necessite pas du code additionel. Illustrons ca avec un exemple.\n",
    "\n",
    "\n",
    "\n",
    "3 %, format, f'"
   ]
  },
  {
   "cell_type": "code",
   "execution_count": 152,
   "metadata": {},
   "outputs": [
    {
     "name": "stdout",
     "output_type": "stream",
     "text": [
      "python est le meilleur language de programmation\n"
     ]
    }
   ],
   "source": [
    "message = ' est le meilleur language de programmation'\n",
    "nom_du_langage = 'python'\n",
    "print(nom_du_langage + message)"
   ]
  },
  {
   "cell_type": "code",
   "execution_count": 153,
   "metadata": {},
   "outputs": [
    {
     "name": "stdout",
     "output_type": "stream",
     "text": [
      "python est le meilleur language de programmation\n"
     ]
    }
   ],
   "source": [
    "message = '{} est le meilleur language de programmation'\n",
    "nom_du_langage = 'python'\n",
    "print(message.format(nom_du_langage))"
   ]
  },
  {
   "cell_type": "code",
   "execution_count": 154,
   "metadata": {},
   "outputs": [
    {
     "name": "stdout",
     "output_type": "stream",
     "text": [
      "python est le meilleur language de programmation\n"
     ]
    }
   ],
   "source": [
    "message = '%s est le meilleur language de programmation'\n",
    "nom_du_langage = 'python'\n",
    "print(message % nom_du_langage)"
   ]
  },
  {
   "cell_type": "code",
   "execution_count": 157,
   "metadata": {},
   "outputs": [
    {
     "name": "stdout",
     "output_type": "stream",
     "text": [
      "python est le meilleur language de programmation\n"
     ]
    }
   ],
   "source": [
    "nom_du_langage = 'python'\n",
    "message = f'{nom_du_langage} est le meilleur language de programmation'\n",
    "\n",
    "print(message)"
   ]
  },
  {
   "cell_type": "code",
   "execution_count": null,
   "metadata": {},
   "outputs": [],
   "source": []
  },
  {
   "cell_type": "code",
   "execution_count": null,
   "metadata": {},
   "outputs": [],
   "source": []
  },
  {
   "cell_type": "markdown",
   "metadata": {},
   "source": [
    "# Manupilation des liste\n"
   ]
  }
 ],
 "metadata": {
  "kernelspec": {
   "display_name": "Python 3 (ipykernel)",
   "language": "python",
   "name": "python3"
  },
  "language_info": {
   "codemirror_mode": {
    "name": "ipython",
    "version": 3
   },
   "file_extension": ".py",
   "mimetype": "text/x-python",
   "name": "python",
   "nbconvert_exporter": "python",
   "pygments_lexer": "ipython3",
   "version": "3.7.3"
  },
  "widgets": {
   "application/vnd.jupyter.widget-state+json": {
    "state": {},
    "version_major": 2,
    "version_minor": 0
   }
  }
 },
 "nbformat": 4,
 "nbformat_minor": 4
}
