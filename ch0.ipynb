{
 "cells": [
  {
   "cell_type": "markdown",
   "metadata": {
    "tags": []
   },
   "source": [
    "Avant de commencer\n",
    "=======================\n",
    "\n",
    "Le présent Chapitre contiendra :\n",
    "\n",
    "- Liens utiles\n",
    "- Guide d'installation\n",
    "- interpréteur Python\n",
    "- IPython\n",
    "- Jupyter notebook\n",
    "- Google Colab\n",
    "\n",
    "# Liens utile:\n",
    "\n",
    "- [python.org](https://www.python.org/)\n",
    "- [telecharger python pour windows](https://www.python.org/downloads/windows/)\n",
    "- [telecharger python pour max os](https://www.python.org/downloads/macos/)\n",
    "\n",
    "- [anaconda](https://www.anaconda.com/)\n",
    "- [telecharger anaconda pour windows](https://repo.anaconda.com/archive/Anaconda3-2022.05-Windows-x86_64.exe)\n",
    "- [telecharger vscode](https://code.visualstudio.com/Download)\n",
    "- [atom](https://atom.io/)\n",
    "- [pycharm](https://www.jetbrains.com/pycharm/)\n",
    "- [Google colab](https://research.google.com/colaboratory/) (compte google necessaire)\n",
    "\n",
    "# Guide d'installation:\n",
    "- [python](https://realpython.com/installing-python/)\n",
    "- [vscode](https://code.visualstudio.com/docs/setup/setup-overview)\n",
    "- [pycharm](https://www.jetbrains.com/help/pycharm/installation-guide.html)\n",
    "- [atom](https://flight-manual.atom.io/getting-started/sections/installing-atom/)\n",
    "- [anaconda](https://docs.anaconda.com/anaconda/install/windows/)\n",
    "\n",
    "# interpréteur Python\n",
    "\n",
    "Apres l'installation de python sur machine, On peut utiliser l'interpréteur Python  de manière interactive. On tape `python` dans  le terminal et on y est. Ensuite, on peut directement lui fournir du code Python à exécuter et nous allons recevoir les résultats immédiatement. \n",
    "\n",
    ":::{figure-md} markdown-fig\n",
    "<img src=\"interpwindows.PNG\" alt=\"interpwin\" class=\"bg-primary mb-1\" width=\"400px\">\n",
    "\n",
    "Lancer l'interpréteur Python dans le terminal windows\n",
    ":::\n",
    "\n",
    "\n",
    "Cette option est très utile si on souhaite tester rapidement des bouts de code ou pour l'apprentissage.\n",
    "En revanche, si on souhaite ecrire un programe relativemnt long, on devrait ecrire notre programme dans un editeur de text (simple comme notpad, vim, ... ou un editeur avance comme vscode, pycharm, atom, ....) et on enregistre le fichier sous un intetule qui se termine par l'extension `.py`. \n",
    "\n",
    ":::{figure-md} markdown-fig1\n",
    "<img src=\"scriptnote.PNG\" alt=\"interpwin\" class=\"bg-primary mb-1\" width=\"400px\">\n",
    "\n",
    "Les etapes pour ecrire et executer un programme avec Notepad\n",
    ":::\n",
    "\n",
    "\n",
    "# IPython\n",
    "IPython est un terminal interactif plus develope qui propose des fonctionnalités telles que l'introspection, une syntaxe additionnelle, la complétion et un historique riche. IPython doit etre installe a l'aide de la commande `pip install ipython` (voir [ici](https://ipython.org/install.html) pour plus de details).\n",
    "\n",
    "# Jupyter notebook\n",
    "Les `notebooks Jupyter` sont des cahiers électroniques dont on peut, a la fois, produire du texte, inserer des images, des formules mathématiques et du code informatique exécutable. Ils sont manipulables interactivement dans un navigateur web. Jupyter est developpe dans un premier temps pour les langages de programmation Julia, Python et R (d'où le nom Jupyter). actuellement les notebooks supportent près de 40 langages différents.\n",
    "\n",
    "La cellule est l'élément de base d'un notebook Jupyter. Elle peut contenir du texte formaté au format Markdown ou du code informatique qui pourra être exécuté. Le present cours est ecrit avec `jupyterbook` et chaque chapitre est un `notebook jupyter`. Le present text est ecrit dans une cellule markdown. la cellue suivante une cellule code ( qui est par defaut l'interpreteur IPython)."
   ]
  },
  {
   "cell_type": "code",
   "execution_count": 1,
   "metadata": {},
   "outputs": [
    {
     "name": "stdout",
     "output_type": "stream",
     "text": [
      "Hello world!\n"
     ]
    },
    {
     "data": {
      "text/plain": [
       "7"
      ]
     },
     "execution_count": 1,
     "metadata": {},
     "output_type": "execute_result"
    }
   ],
   "source": [
    "# la presente cellule est une cellule code, en dessous de la cellule s'affiche le resultat du code\n",
    "print(\"Hello world!\")\n",
    "5+2"
   ]
  },
  {
   "cell_type": "markdown",
   "metadata": {},
   "source": [
    "Voir [ici](https://docs.jupyter.org/en/latest/) pour plus de detail sur le projet `jupyter`.\n",
    "# Google Colab\n",
    "\n",
    "Etant un projet incontournable dans le domaine du `machine learning` et `l'intellegence artificielle`, Google propose une version cloud de `jupyter`: **Google Colab**  ou **Colaboratory**: il s'agit un service cloud, offert par Google qui est essentiellement destiné à la formation et à la recherche dans les domaines susmentionnes. Google Colab permet d'entraîner des modèles de Machine Learning directement dans le cloud. Ceci dit, nous n'avons besoin d'installer quoi que ce soit (python, anaconda, editeur,...) sur la machine, la seule chose requise est un navigateur. (voir la section liens utiles pour les personnes interssees)."
   ]
  }
 ],
 "metadata": {
  "kernelspec": {
   "display_name": "Python 3 (ipykernel)",
   "language": "python",
   "name": "python3"
  },
  "language_info": {
   "codemirror_mode": {
    "name": "ipython",
    "version": 3
   },
   "file_extension": ".py",
   "mimetype": "text/x-python",
   "name": "python",
   "nbconvert_exporter": "python",
   "pygments_lexer": "ipython3",
   "version": "3.7.3"
  },
  "widgets": {
   "application/vnd.jupyter.widget-state+json": {
    "state": {},
    "version_major": 2,
    "version_minor": 0
   }
  }
 },
 "nbformat": 4,
 "nbformat_minor": 4
}
