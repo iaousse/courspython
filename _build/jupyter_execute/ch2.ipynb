{
 "cells": [
  {
   "cell_type": "markdown",
   "metadata": {
    "tags": []
   },
   "source": [
    "# Instructions conditionnelles et boucles\n",
    "\n",
    "\n",
    "## Instructions conditionnelles (tests)\n",
    "En Python, il existe trois structures de test :\n",
    "\n",
    "- La première est la plus simple contenant juste `if` :\n",
    "\n",
    "```python\n",
    "if condition:\n",
    "    instructions\n",
    "```\n",
    "- La deuxième fait apparaitre `else` :\n",
    "```python\n",
    "if condition:\n",
    "    instructions_1\n",
    "else:\n",
    "    instructions_2\n",
    "```\n",
    "\n",
    "\n",
    "- La dernière fait apparaitre `elif` :\n",
    "```python\n",
    "if condition_1:\n",
    "    Bloc d'instructions 1\n",
    "elif condition_2:\n",
    "    Bloc d'instructions 2\n",
    "elif condition_3:\n",
    "    Bloc d'instructions 3\n",
    "...\n",
    "elif condition_n:\n",
    "    Bloc d'instructions n\n",
    "else:\n",
    "    Bloc d'instructions n+1\n",
    "```\n",
    "\n",
    "- pour la structure simple `if`: si  la condition est vrai, le bloc d'instructions en dessous est exécuté. Sinon, il ne sera pas exécuté."
   ]
  },
  {
   "cell_type": "code",
   "execution_count": 19,
   "metadata": {},
   "outputs": [
    {
     "name": "stdout",
     "output_type": "stream",
     "text": [
      "10 est plus petit que 15\n"
     ]
    }
   ],
   "source": [
    "x = 10\n",
    "# la condition est x<15\n",
    "if x < 15:\n",
    "    print(x, \"est plus petit que 15\")\n"
   ]
  },
  {
   "cell_type": "code",
   "execution_count": 17,
   "metadata": {},
   "outputs": [],
   "source": [
    "x = 10\n",
    "# la condition est x==15\n",
    "if x == 15:\n",
    "    print(x, \"est egale a 15\")"
   ]
  },
  {
   "cell_type": "markdown",
   "metadata": {},
   "source": [
    "- Pour la structure `if...else` : si la condition de `if` est vrai, le bloc d'instructions en dessous de `if` sera exécuté. Sinon, le bloc en dessous de `else` sera exécuté."
   ]
  },
  {
   "cell_type": "code",
   "execution_count": 1,
   "metadata": {},
   "outputs": [
    {
     "name": "stdout",
     "output_type": "stream",
     "text": [
      "10 est plus petit ou égale à 10\n"
     ]
    }
   ],
   "source": [
    "x = 10\n",
    "# la condition est x<10\n",
    "if x < 10:\n",
    "    print(x, \"est plus grand que 10\")\n",
    "else:\n",
    "    print(x, \"est plus petit ou égale à 10\")"
   ]
  },
  {
   "cell_type": "markdown",
   "metadata": {},
   "source": [
    "- Pour la structure ‘if...elif.....else`: si  la condition de if est vrai, le bloc d'instructions en dessous de `if` sera exécuté. Sinon, si le bloc de `elif` est vrai le bloc en dessous de `elif` sera exécuté…. Sinon, si le bloc de `else` est vrai le bloc en dessous de `else` sera exécuté."
   ]
  },
  {
   "cell_type": "code",
   "execution_count": 2,
   "metadata": {},
   "outputs": [
    {
     "name": "stdout",
     "output_type": "stream",
     "text": [
      "10 est égale à 10\n"
     ]
    }
   ],
   "source": [
    "x = 10\n",
    "# la condition est x>10\n",
    "if x > 10:\n",
    "    print(x, \"est plus grand que 10\")\n",
    "elif x < 10:\n",
    "    print(x, \"est plus petit ou égale à 10\")\n",
    "else:\n",
    "    print(x, \"est égale à 10\")"
   ]
  },
  {
   "cell_type": "markdown",
   "metadata": {},
   "source": [
    "On peut également avoir une structure de test au sien d'une autre structure de test. Aussi, les conditions peuvent être composé de plusieurs conditions à l'aide des opérateurs logiques (`or`, `and`, et `not`).\n",
    "\n",
    "Explorer le code ci-dessous est essayer de savoir son output."
   ]
  },
  {
   "cell_type": "code",
   "execution_count": 3,
   "metadata": {},
   "outputs": [
    {
     "name": "stdout",
     "output_type": "stream",
     "text": [
      "6 n'est pas premier\n"
     ]
    }
   ],
   "source": [
    "#\n",
    "x = 6\n",
    "# les conditions\n",
    "condition1 = x>0; condition2 = x<9; condition3= x==2; condition4 = x == 3; \n",
    "condition5 = (x==5) or (x==7); condition6 = x<0; condition7= x>9\n",
    "\n",
    "if condition1 and condition2:  ## remarquer qu'on a pas besoin de faire condition1==True\n",
    "    if condition3 or condition4 or condition5:\n",
    "        print(x, \"est premier\")\n",
    "    else:\n",
    "        print(x, \"n'est pas premier\")\n",
    "else:\n",
    "    if condition6:\n",
    "        print(x, \"est négatif\")\n",
    "    else:\n",
    "        print(x, \"est supérieur à 9\")"
   ]
  },
  {
   "cell_type": "markdown",
   "metadata": {},
   "source": [
    "## Les Boucles\n",
    "Lorsqu'on voulait répéter plusieurs fois l'exécution d'une partie du programme, on utilise les boucles. Il en existe deux types : \n",
    "### Les boucles bornées \n",
    "Elles sont utilisées lorsqu'on a une idée a priori sur le nombre de répétition. Il s'agit de la boucle `for` ; la syntaxe de la boucle for est la suivante : \n",
    "```python\n",
    "for var in valeurs_possibles:\n",
    "    instructions\n",
    "```\n",
    "    * `var` est le nom d'une variable locale à la fonction `for()` \n",
    "    * `valeurs_possibles` un objet comprenant des éléments définissant les valeurs que prendra objet pour chaque itération, \n",
    "    *  `instructions` est le bloc d'instructions qui seront exécutées à chaque itération.\n",
    "Voici deux exemples simples de l'utilisation de la boucle `for` :\n",
    "1. Calculer le carrée de chaque nombre 1, 2, 3 et 4;\n",
    "2. Calculer la somme des nombres 1, 2, 3 et 4."
   ]
  },
  {
   "cell_type": "code",
   "execution_count": 6,
   "metadata": {},
   "outputs": [
    {
     "name": "stdout",
     "output_type": "stream",
     "text": [
      "le carré de 1 est: 1\n",
      "le carré de 2 est: 4\n",
      "le carré de 3 est: 9\n",
      "le carré de 4 est: 16\n"
     ]
    }
   ],
   "source": [
    "for i in [1, 2, 3, 4]:\n",
    "    print(\"le carré de\", i, \"est:\", i**2)"
   ]
  },
  {
   "cell_type": "code",
   "execution_count": 4,
   "metadata": {},
   "outputs": [
    {
     "name": "stdout",
     "output_type": "stream",
     "text": [
      "10\n"
     ]
    }
   ],
   "source": [
    "somme = 0\n",
    "for i in [1, 2, 3, 4]:\n",
    "    somme += i\n",
    "print(somme)"
   ]
  },
  {
   "cell_type": "markdown",
   "metadata": {},
   "source": [
    "Une fonction très importante qui est souvent utilisée en Python pour la boucle `for` est la fonction `range()`. Cette fonction prend les arguments suivants :\n",
    "- `start` : (optionnel, par défaut, 0) valeur de début pour la séquence (inclue) ;\n",
    "- `stop` : valeur de fin de la séquence (**non inclue**) ;\n",
    "- `step` : (optionnel, par défaut 1) le pas.\n",
    "\n",
    "\n",
    "On peut refaire les exemples suivants comme suit :"
   ]
  },
  {
   "cell_type": "code",
   "execution_count": 7,
   "metadata": {},
   "outputs": [
    {
     "name": "stdout",
     "output_type": "stream",
     "text": [
      "le carré de 1 est: 1\n",
      "le carré de 2 est: 4\n",
      "le carré de 3 est: 9\n",
      "le carré de 4 est: 16\n"
     ]
    }
   ],
   "source": [
    "for i in range(1, 5):\n",
    "    print(\"le carré de\", i, \"est:\", i**2)"
   ]
  },
  {
   "cell_type": "code",
   "execution_count": 6,
   "metadata": {},
   "outputs": [
    {
     "name": "stdout",
     "output_type": "stream",
     "text": [
      "10\n"
     ]
    }
   ],
   "source": [
    "somme = 0\n",
    "for i in range(5):\n",
    "    somme += i\n",
    "print(somme)"
   ]
  },
  {
   "cell_type": "markdown",
   "metadata": {},
   "source": [
    "Rien n'empêche avoir une boucle for dans un bloc d'instructions d'une autre boucle for. Ou encore une instruction conditionnelle dans un bloc de la boucle for (vice versa). Par exemple si on veut calculer le produit de chaque élément de la liste `[1, 5, 9, 10]` par chaque élément de la liste `[2, 3, 5]`:"
   ]
  },
  {
   "cell_type": "code",
   "execution_count": 8,
   "metadata": {},
   "outputs": [
    {
     "name": "stdout",
     "output_type": "stream",
     "text": [
      "Le produit de 1 fois 2 est: 2\n",
      "Le produit de 1 fois 3 est: 3\n",
      "Le produit de 1 fois 5 est: 5\n",
      "Le produit de 5 fois 2 est: 10\n",
      "Le produit de 5 fois 3 est: 15\n",
      "Le produit de 5 fois 5 est: 25\n",
      "Le produit de 9 fois 2 est: 18\n",
      "Le produit de 9 fois 3 est: 27\n",
      "Le produit de 9 fois 5 est: 45\n",
      "Le produit de 10 fois 2 est: 20\n",
      "Le produit de 10 fois 3 est: 30\n",
      "Le produit de 10 fois 5 est: 50\n"
     ]
    }
   ],
   "source": [
    "for i in [1, 5, 9, 10]:\n",
    "    for j in [2, 3, 5]:\n",
    "        print(\"Le produit de\", i, \"fois\", j, \"est:\", i*j)"
   ]
  },
  {
   "cell_type": "markdown",
   "metadata": {},
   "source": [
    "Ou si l'on veut tester la parité de chaque élément entre 3, et 14 `(range(3,15)`);"
   ]
  },
  {
   "cell_type": "code",
   "execution_count": 9,
   "metadata": {},
   "outputs": [
    {
     "name": "stdout",
     "output_type": "stream",
     "text": [
      "Le nombre 3 est impair\n",
      "Le nombre 4 est pair\n",
      "Le nombre 5 est impair\n",
      "Le nombre 6 est pair\n",
      "Le nombre 7 est impair\n",
      "Le nombre 8 est pair\n",
      "Le nombre 9 est impair\n",
      "Le nombre 10 est pair\n",
      "Le nombre 11 est impair\n",
      "Le nombre 12 est pair\n",
      "Le nombre 13 est impair\n",
      "Le nombre 14 est pair\n"
     ]
    }
   ],
   "source": [
    "for i in range(3, 15):\n",
    "    if i%2==0:\n",
    "        print(\"Le nombre\", i, \"est pair\")\n",
    "    else:\n",
    "        print(\"Le nombre\", i, \"est impair\") "
   ]
  },
  {
   "cell_type": "markdown",
   "metadata": {},
   "source": [
    "### Les boucles non bornées \n",
    "Elles sont utilisées si on ne connait pas à l'avance le nombre de répétitions. Il s'agit de la boucle `while`.\n",
    "Le principe d'une boucle `while()` est que les instructions à l'intérieur de la boucle seront répétées tant qu'une condition est respectée. L'idée est de faire dépendre cette condition d'un ou plusieurs objets qui seront modifiés au cours des itérations (sans cela, la boucle tournerait à l'infini).\n",
    "\n",
    "La syntaxe est la suivante :\n",
    "```python\n",
    "while condition:\n",
    "    instructions\n",
    "```\n",
    "    \n",
    "Nous allons illustrer le rôle de chaque boucle dans l'exemple suivant. Supposons que nous voulons calculer le factoriel d'un nombre (soit 10), voici le code pour le calculer :"
   ]
  },
  {
   "cell_type": "code",
   "execution_count": 13,
   "metadata": {},
   "outputs": [
    {
     "name": "stdout",
     "output_type": "stream",
     "text": [
      "3628800\n"
     ]
    }
   ],
   "source": [
    "i = 1\n",
    "fact = 1\n",
    "while i<=10:\n",
    "    fact *= i\n",
    "    i+=1\n",
    "\n",
    "print(fact)"
   ]
  },
  {
   "cell_type": "markdown",
   "metadata": {},
   "source": [
    "Reprenons l'exemple précédant dont on veut tester la parité de chaque élément entre 3, et 14 avec la boucle while:"
   ]
  },
  {
   "cell_type": "code",
   "execution_count": 10,
   "metadata": {},
   "outputs": [
    {
     "name": "stdout",
     "output_type": "stream",
     "text": [
      "Le nombre 3 est impair\n",
      "Le nombre 4 est pair\n",
      "Le nombre 5 est impair\n",
      "Le nombre 6 est pair\n",
      "Le nombre 7 est impair\n",
      "Le nombre 8 est pair\n",
      "Le nombre 9 est impair\n",
      "Le nombre 10 est pair\n",
      "Le nombre 11 est impair\n",
      "Le nombre 12 est pair\n",
      "Le nombre 13 est impair\n",
      "Le nombre 14 est pair\n"
     ]
    }
   ],
   "source": [
    "i = 3\n",
    "while i<15:\n",
    "    if i%2==0:\n",
    "        print(\"Le nombre\", i, \"est pair\")\n",
    "    else:\n",
    "        print(\"Le nombre\", i, \"est impair\")\n",
    "    i+=1\n"
   ]
  }
 ],
 "metadata": {
  "kernelspec": {
   "display_name": "Python 3 (ipykernel)",
   "language": "python",
   "name": "python3"
  },
  "language_info": {
   "codemirror_mode": {
    "name": "ipython",
    "version": 3
   },
   "file_extension": ".py",
   "mimetype": "text/x-python",
   "name": "python",
   "nbconvert_exporter": "python",
   "pygments_lexer": "ipython3",
   "version": "3.7.3"
  },
  "widgets": {
   "application/vnd.jupyter.widget-state+json": {
    "state": {},
    "version_major": 2,
    "version_minor": 0
   }
  }
 },
 "nbformat": 4,
 "nbformat_minor": 4
}