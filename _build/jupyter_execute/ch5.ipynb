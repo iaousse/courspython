{
 "cells": [
  {
   "cell_type": "markdown",
   "metadata": {
    "tags": []
   },
   "source": [
    "# Manipulation des dictionnaires (dictionnaries) et ensembles (sets)\n",
    "\n",
    "## Dictionnaire (dictionnary)\n",
    "\n",
    "Contrairement au objets construits que nous avons vu (`strings`, `lists`, `tuples`), les dictionnaires (`dictionnary`) sont utilisés pour stocker des valeurs de données dans des paires clé:valeur. Un dictionnaire est une collection ordonnée, modifiable et qui n'autorise pas les doublons (Depuis la version 3.7 de Python, les dictionnaires demeurent ordonnés. Dans les versions antérieures (Python 3.6 et moins), les dictionnaires ne sont pas ordonnés).\n",
    "\n",
    "- Les dictionnaires sont écrits avec des accolades et ont des clés et des valeurs.  Pour créer un dictionnaire et l'affecter a une variable : \n",
    "```python\n",
    "var_dict = {cle_1: valeur_1, cle_2:valeur_2,...., cle_n:valeur_n}\n",
    "```\n",
    "- Un dictionnaire vide est un dictionnaire qui contient 0 élément ({} ou dict());\n",
    "- Les dictionnaires sont **mutable**, on peut modifier leur contenu et leur taille.\n"
   ]
  },
  {
   "cell_type": "code",
   "execution_count": 3,
   "metadata": {},
   "outputs": [
    {
     "name": "stdout",
     "output_type": "stream",
     "text": [
      "<class 'dict'>\n",
      "{1: 'lundi', 2: 'mardi', 3: 'mercredi', 4: 'jeudi', 5: 'vendredi', 6: 'samedi', 7: 'dimanche'}\n"
     ]
    }
   ],
   "source": [
    "# dictionnaire vide\n",
    "var = {} # ou var = dict()\n",
    "print(type(var))\n",
    "les_jours = {1:\"lundi\", 2:\"mardi\", 3:\"mercredi\", 4:\"jeudi\", 5:\"vendredi\", 6:\"samedi\", 7:\"dimanche\"}\n",
    "print(les_jours)"
   ]
  },
  {
   "cell_type": "code",
   "execution_count": 4,
   "metadata": {},
   "outputs": [
    {
     "name": "stdout",
     "output_type": "stream",
     "text": [
      "{1: 'lundi', 2: 'mardi', 3: 'mercredi', 4: 'jeudi', 5: 'vendredi', 6: 'samedi', 7: 'dimanche'}\n"
     ]
    }
   ],
   "source": [
    "les_jours2 = {}\n",
    "\n",
    "les_jours2[1] = 'lundi'\n",
    "les_jours2[2] = 'mardi'\n",
    "les_jours2[3] = 'mercredi'\n",
    "les_jours2[4] = 'jeudi'\n",
    "les_jours2[5] = 'vendredi'\n",
    "les_jours2[6] = 'samedi'\n",
    "les_jours2[7] = 'dimanche'\n",
    "\n",
    "print(les_jours2)"
   ]
  },
  {
   "cell_type": "markdown",
   "metadata": {},
   "source": [
    "Les clés et les valeurs peuvent être de n'importe quel type de données. Par exemple on peut créer le dictionnaire suivant :"
   ]
  },
  {
   "cell_type": "code",
   "execution_count": 5,
   "metadata": {},
   "outputs": [
    {
     "name": "stdout",
     "output_type": "stream",
     "text": [
      "{'lundi': 1, 'mardi': 2, 'mercredi': 3, 'jeudi': 4, 'vendredi': 5, 'samedi': 6, 'dimanche': 7}\n"
     ]
    }
   ],
   "source": [
    "les_jours3 = {}\n",
    "\n",
    "les_jours3['lundi'] = 1\n",
    "les_jours3['mardi'] = 2\n",
    "les_jours3['mercredi'] = 3\n",
    "les_jours3['jeudi'] = 4\n",
    "les_jours3['vendredi'] = 5\n",
    "les_jours3['samedi'] = 6\n",
    "les_jours3['dimanche'] = 7\n",
    "\n",
    "print(les_jours3)"
   ]
  },
  {
   "cell_type": "markdown",
   "metadata": {},
   "source": [
    "Contrairement aux chaines de caractères et aux listes, pour accéder à une valeur dans un dictionnaire nous devons utiliser les clés. Par exemple, si nous voulons accéder a la valeur associée a la clé `jeudi` dans `les_jours3`, la manière de le faire est la suivante :"
   ]
  },
  {
   "cell_type": "code",
   "execution_count": 8,
   "metadata": {},
   "outputs": [
    {
     "name": "stdout",
     "output_type": "stream",
     "text": [
      "4\n"
     ]
    }
   ],
   "source": [
    "print(les_jours3['jeudi'])"
   ]
  },
  {
   "cell_type": "markdown",
   "metadata": {},
   "source": [
    "Les dictionnaires ne peuvent pas avoir des clés dupliquées (les valeurs peuvent être dupliquées). En effet, les valeurs en double écraseront les valeurs existantes. Illustrons ça avec l'exemple suivant :"
   ]
  },
  {
   "cell_type": "code",
   "execution_count": 10,
   "metadata": {},
   "outputs": [
    {
     "name": "stdout",
     "output_type": "stream",
     "text": [
      "{'lundi': 0, 'mardi': 2, 'mercredi': 3, 'jeudi': 4, 'vendredi': 5, 'samedi': 6, 'dimanche': 7}\n"
     ]
    }
   ],
   "source": [
    "les_jours4 = {}\n",
    "\n",
    "les_jours4['lundi'] = 0\n",
    "les_jours4['mardi'] = 1\n",
    "les_jours4['mardi'] = 2\n",
    "les_jours4['mercredi'] = 3\n",
    "les_jours4['jeudi'] = 4\n",
    "les_jours4['vendredi'] = 5\n",
    "les_jours4['samedi'] = 6\n",
    "les_jours4['dimanche'] = 7\n",
    "\n",
    "print(les_jours4)"
   ]
  },
  {
   "cell_type": "code",
   "execution_count": 11,
   "metadata": {},
   "outputs": [
    {
     "name": "stdout",
     "output_type": "stream",
     "text": [
      "{'lundi': 0, 'mardi': 0, 'mercredi': 0, 'jeudi': 5, 'vendredi': 0, 'samedi': 0, 'dimanche': 0}\n"
     ]
    }
   ],
   "source": [
    "les_jours5 = {}\n",
    "\n",
    "les_jours5['lundi'] = 0\n",
    "les_jours5['mardi'] = 0\n",
    "les_jours5['mercredi'] = 0\n",
    "les_jours5['jeudi'] = 5\n",
    "les_jours5['vendredi'] = 0\n",
    "les_jours5['samedi'] = 0\n",
    "les_jours5['dimanche'] = 0\n",
    "\n",
    "print(les_jours5)"
   ]
  },
  {
   "cell_type": "markdown",
   "metadata": {},
   "source": [
    "## Opérations sur les dictionnaires\n",
    "\n",
    "Python possède un ensemble de méthodes intégrées que nous pouvons utiliser pour manipuler les dictionnaires :\n",
    "\n",
    "| Méthode       | Description                                                                                                 |\n",
    "|--------------|-------------------------------------------------------------------------------------------------------------|\n",
    "| `clear()`      | Supprime tous les éléments du dictionnaire                                                                |\n",
    "| `copy()`       | Renvoie une copie du dictionnaire                                                                            |\n",
    "| `fromkeys()`   | Renvoie un dictionnaire avec les clés et la valeur spécifiées                                                      |\n",
    "| `get()`        | Renvoie la valeur de la clé spécifiée                                                                      |\n",
    "| `items()`      | Renvoie une liste contenant un tuple pour chaque paire clé-valeur                                                   |\n",
    "| `keys()`       | Retourne une liste contenant les clés du dictionnaire                                                             |\n",
    "| `pop()`        | Supprime l'élément avec la clé spécifiée                                                                  |\n",
    "| `popitem()`    | Supprime la dernière paire clé-valeur insérée                                                                   |\n",
    "| `setdefault()` | Renvoie la valeur de la clé spécifiée. Si la clé n'existe pas : insérez la clé, avec la valeur spécifiée |\n",
    "| `update()`     | Met à jour le dictionnaire avec les paires clé-valeur spécifiées                                                   |\n",
    "| `values()`     | Renvoie une liste de toutes les valeurs du dictionnaire                                                         |\n"
   ]
  },
  {
   "cell_type": "code",
   "execution_count": 46,
   "metadata": {},
   "outputs": [
    {
     "name": "stdout",
     "output_type": "stream",
     "text": [
      "{}\n"
     ]
    }
   ],
   "source": [
    "# clear\n",
    "les_jours.clear()\n",
    "\n",
    "print(les_jours)"
   ]
  },
  {
   "cell_type": "code",
   "execution_count": 47,
   "metadata": {},
   "outputs": [
    {
     "name": "stdout",
     "output_type": "stream",
     "text": [
      "{1: 'lundi', 2: 'mardi', 3: 'mercredi', 4: 'jeudi', 5: 'vendredi', 6: 'samedi', 7: 'dimanche'}\n"
     ]
    }
   ],
   "source": [
    "# copy\n",
    "les_jours2_copie = les_jours2.copy()\n",
    "\n",
    "print(les_jours2_copie)"
   ]
  },
  {
   "cell_type": "code",
   "execution_count": 48,
   "metadata": {},
   "outputs": [
    {
     "name": "stdout",
     "output_type": "stream",
     "text": [
      "{0: None, 1: None, 2: None, 3: None, 4: None, 5: None}\n"
     ]
    }
   ],
   "source": [
    "# fromkeys\n",
    "# creer un dictionnaire avec des cles mais pas de valeurs (None)\n",
    "\n",
    "cles = range(6)\n",
    "dict_vide = dict.fromkeys(cles)\n",
    "print(dict_vide)"
   ]
  },
  {
   "cell_type": "code",
   "execution_count": 49,
   "metadata": {},
   "outputs": [
    {
     "name": "stdout",
     "output_type": "stream",
     "text": [
      "{'a': 'voyelle', 'e': 'voyelle', 'i': 'voyelle', 'o': 'voyelle', 'u': 'voyelle', 'y': 'voyelle'}\n"
     ]
    }
   ],
   "source": [
    "# fromkeys\n",
    "# creer un dictionnaire avec des cles a la meme valeur\n",
    "var = ['a', 'e', 'i', 'o', 'u', 'y']\n",
    "valeur = 'voyelle'\n",
    "dict_voyelles = dict.fromkeys(var, valeur)\n",
    "\n",
    "print(dict_voyelles)"
   ]
  },
  {
   "cell_type": "code",
   "execution_count": 50,
   "metadata": {},
   "outputs": [
    {
     "name": "stdout",
     "output_type": "stream",
     "text": [
      "mercredi\n"
     ]
    }
   ],
   "source": [
    "# get\n",
    "print(les_jours2.get(3))"
   ]
  },
  {
   "cell_type": "code",
   "execution_count": 51,
   "metadata": {},
   "outputs": [
    {
     "name": "stdout",
     "output_type": "stream",
     "text": [
      "dict_items([(1, 'lundi'), (2, 'mardi'), (3, 'mercredi'), (4, 'jeudi'), (5, 'vendredi'), (6, 'samedi'), (7, 'dimanche')])\n"
     ]
    }
   ],
   "source": [
    "# items\n",
    "print(les_jours2.items())"
   ]
  },
  {
   "cell_type": "code",
   "execution_count": 54,
   "metadata": {},
   "outputs": [
    {
     "name": "stdout",
     "output_type": "stream",
     "text": [
      "dict_keys([1, 2, 3, 4, 5, 6, 7])\n"
     ]
    }
   ],
   "source": [
    "# keys\n",
    "print(les_jours2.keys())"
   ]
  },
  {
   "cell_type": "code",
   "execution_count": 55,
   "metadata": {},
   "outputs": [
    {
     "name": "stdout",
     "output_type": "stream",
     "text": [
      "dict_values(['lundi', 'mardi', 'mercredi', 'jeudi', 'vendredi', 'samedi', 'dimanche'])\n"
     ]
    }
   ],
   "source": [
    "# values\n",
    "print(les_jours2.values())"
   ]
  },
  {
   "cell_type": "code",
   "execution_count": 56,
   "metadata": {},
   "outputs": [
    {
     "name": "stdout",
     "output_type": "stream",
     "text": [
      "{1: 'lundi', 2: 'mardi', 3: 'mercredi', 5: 'vendredi', 6: 'samedi', 7: 'dimanche'}\n"
     ]
    }
   ],
   "source": [
    "# pop\n",
    "les_jours2.pop(4)\n",
    "\n",
    "print(les_jours2)"
   ]
  },
  {
   "cell_type": "code",
   "execution_count": 58,
   "metadata": {},
   "outputs": [
    {
     "name": "stdout",
     "output_type": "stream",
     "text": [
      "{1: 'lundi', 2: 'mardi', 3: 'mercredi', 5: 'vendredi', 6: 'samedi', 7: 'dimanche', 'la dirniere cles ajoutee': 'La valeur associee a la derniere cles'}\n"
     ]
    }
   ],
   "source": [
    "# popitem \n",
    "# inserer une cles-valeur arbitraire\n",
    "les_jours2['la dirniere cles ajoutee'] = 'La valeur associee a la derniere cles'\n",
    "\n",
    "print(les_jours2)"
   ]
  },
  {
   "cell_type": "code",
   "execution_count": 59,
   "metadata": {},
   "outputs": [
    {
     "name": "stdout",
     "output_type": "stream",
     "text": [
      "{1: 'lundi', 2: 'mardi', 3: 'mercredi', 5: 'vendredi', 6: 'samedi', 7: 'dimanche'}\n"
     ]
    }
   ],
   "source": [
    "# popitem\n",
    "les_jours2.popitem()\n",
    "\n",
    "print(les_jours2)"
   ]
  },
  {
   "cell_type": "code",
   "execution_count": 61,
   "metadata": {},
   "outputs": [
    {
     "name": "stdout",
     "output_type": "stream",
     "text": [
      "lundi\n",
      "{1: 'lundi', 2: 'mardi', 3: 'mercredi', 5: 'vendredi', 6: 'samedi', 7: 'dimanche'}\n"
     ]
    }
   ],
   "source": [
    "# setdefault()\n",
    "# si la cles existe\n",
    "print(les_jours2.setdefault(1, \"LUNDI\"))\n",
    "# pusique la cles existe, la valeur ne va pas changer. Elle va etre affichee. Le dictionnaire ne va pas changer aussi.\n",
    "print(les_jours2)"
   ]
  },
  {
   "cell_type": "code",
   "execution_count": 62,
   "metadata": {},
   "outputs": [
    {
     "name": "stdout",
     "output_type": "stream",
     "text": [
      "mercredi\n",
      "{1: 'lundi', 2: 'mardi', 3: 'mercredi', 5: 'vendredi', 6: 'samedi', 7: 'dimanche', 4: 'mercredi'}\n"
     ]
    }
   ],
   "source": [
    "# setdefault()\n",
    "# si la cles existe\n",
    "# puisque la cles 4 n'existe pas. La valeur 'mercredi' va etre affichee. Le dictionnaire va etre modifie aussi\n",
    "print(les_jours2.setdefault(4, \"mercredi\"))\n",
    "print(les_jours2)"
   ]
  },
  {
   "cell_type": "code",
   "execution_count": null,
   "metadata": {},
   "outputs": [],
   "source": [
    "# update\n",
    "premier"
   ]
  },
  {
   "cell_type": "markdown",
   "metadata": {},
   "source": [
    "La fonction intégrée `len()` est aussi appliquable pour les dictionnaires. Si l'on désire déterminer le nombre d'elements:"
   ]
  },
  {
   "cell_type": "code",
   "execution_count": 13,
   "metadata": {},
   "outputs": [
    {
     "data": {
      "text/plain": [
       "7"
      ]
     },
     "execution_count": 13,
     "metadata": {},
     "output_type": "execute_result"
    }
   ],
   "source": [
    "len(les_jours)"
   ]
  },
  {
   "cell_type": "markdown",
   "metadata": {},
   "source": [
    "La variable `les_jours` contient 7 éléments."
   ]
  },
  {
   "cell_type": "markdown",
   "metadata": {},
   "source": [
    "## Ensembles (sets)\n",
    "\n",
    "On a vu que les chaines de caractères, les liste et tuples sont des séquences ordonnées d'éléments dans les éléments peuvent être dupliquée. Nous avons besoins (dans certaines situations) d’un type de données composite dont l'ordre n'est pas tenu en compte et les répétitions ne sont pas permises : il s'agit des ensembles (`sets`).\n",
    "\n",
    "- Les ensembles sont utilisés pour stocker plusieurs éléments dans une seule variable. Un ensemble est une collection non ordonnée, non modifiable* et non indexée. Toutefois, il est à noter que malgré que les éléments de l'ensemble ne soient pas modifiables, on peut supprimer des éléments et en ajouter de nouveaux.\n",
    "\n",
    "\n",
    "- Les ensemble sont écrits avec des accolades (comme les dictionnaires) mais ils n’ont pas des clés et des valeurs (juste des éléments).  Pour créer un ensemble et l'affecter a une variable : \n",
    "```python\n",
    "var_set = {valeur_1, valeur_2,...., valeur_n}\n",
    "```\n",
    "- Un ensemble vide est un ensemble qui contient 0 élément (`set()`);\n"
   ]
  },
  {
   "cell_type": "code",
   "execution_count": 2,
   "metadata": {},
   "outputs": [
    {
     "name": "stdout",
     "output_type": "stream",
     "text": [
      "{False, 1, 2, 3, 'bonjour'}\n"
     ]
    }
   ],
   "source": [
    "ensemble = {\"bonjour\", False, False, 'bonjour', 1, 2, 3, True, 3, 3, 3}\n",
    "print(ensemble)"
   ]
  },
  {
   "cell_type": "code",
   "execution_count": 5,
   "metadata": {},
   "outputs": [
    {
     "name": "stdout",
     "output_type": "stream",
     "text": [
      "{False, 1, 2, 3, 'bonjour'}\n",
      "<class 'set'>\n"
     ]
    }
   ],
   "source": [
    "ensemble = set((\"bonjour\", False, False, 'bonjour', 1, 2, 3, True, 3, 3, 3))\n",
    "print(ensemble)\n",
    "print(type(ensemble))"
   ]
  },
  {
   "cell_type": "markdown",
   "metadata": {},
   "source": [
    "On peut déterminer la taille d'un ensemble avec `len()`:"
   ]
  },
  {
   "cell_type": "code",
   "execution_count": 4,
   "metadata": {},
   "outputs": [
    {
     "name": "stdout",
     "output_type": "stream",
     "text": [
      "5\n"
     ]
    }
   ],
   "source": [
    "print(len(ensemble))"
   ]
  },
  {
   "cell_type": "markdown",
   "metadata": {},
   "source": [
    "On ne peut pas accéder aux éléments d'un ensemble en se référant à un index (le cas des chaines de caractères, liste et tuples) ou à une clé (le cas des dictionnaires). Toutefois, on peut parcourir les éléments de l'ensemble à l'aide d'une boucle `for()` ou demander si une valeur spécifiée est présente dans un ensemble à l'aide du mot-clé (l'opérateur) `in`."
   ]
  },
  {
   "cell_type": "code",
   "execution_count": 6,
   "metadata": {},
   "outputs": [
    {
     "name": "stdout",
     "output_type": "stream",
     "text": [
      "False\n",
      "1\n",
      "2\n",
      "3\n",
      "bonjour\n"
     ]
    }
   ],
   "source": [
    "for x in ensemble:\n",
    "  print(x)"
   ]
  },
  {
   "cell_type": "code",
   "execution_count": 7,
   "metadata": {},
   "outputs": [
    {
     "name": "stdout",
     "output_type": "stream",
     "text": [
      "True\n",
      "False\n",
      "True\n",
      "False\n"
     ]
    }
   ],
   "source": [
    "print( 3 in ensemble)\n",
    "print(100 in ensemble)\n",
    "print( 555 not in ensemble)\n",
    "print(False not in ensemble)"
   ]
  },
  {
   "cell_type": "markdown",
   "metadata": {},
   "source": [
    "## Opérations sur les ensembles\n",
    "\n",
    "### Ajouter des éléments\n",
    "Comment nous avons dit, une fois créé, on ne peut pas modifier les éléments d'un ensemble, mais on peut ajouter de nouveaux éléments. Pour ce faire, on utilise la méthode `add()`.\n"
   ]
  },
  {
   "cell_type": "code",
   "execution_count": 8,
   "metadata": {},
   "outputs": [
    {
     "name": "stdout",
     "output_type": "stream",
     "text": [
      "{False, 1, 2, 3, 100, 'bonjour', 'rebonjour'}\n"
     ]
    }
   ],
   "source": [
    "ensemble.add(100)\n",
    "ensemble.add(\"rebonjour\")\n",
    "\n",
    "print(ensemble)"
   ]
  },
  {
   "cell_type": "markdown",
   "metadata": {},
   "source": [
    "On peut aussi ajouter les éléments d'un ensemble a un autre en utilisant la méthode `update()`."
   ]
  },
  {
   "cell_type": "code",
   "execution_count": 9,
   "metadata": {},
   "outputs": [
    {
     "name": "stdout",
     "output_type": "stream",
     "text": [
      "{False, 1, 2, 3, 100, 'bonjour', 'rebonjour', 555, 'Python'}\n"
     ]
    }
   ],
   "source": [
    "autre_ensemble = {True, 555, \"Python\"}\n",
    "ensemble.update(autre_ensemble)\n",
    "\n",
    "print(ensemble)"
   ]
  },
  {
   "cell_type": "markdown",
   "metadata": {},
   "source": [
    "### Retirer des éléments\n",
    "Pour supprimer un élément d'un ensemble, on utilise la méthode `remove()` ou `discard()`.\n"
   ]
  },
  {
   "cell_type": "code",
   "execution_count": 10,
   "metadata": {},
   "outputs": [
    {
     "name": "stdout",
     "output_type": "stream",
     "text": [
      "{False, 2, 3, 100, 'bonjour', 'rebonjour', 555, 'Python'}\n"
     ]
    }
   ],
   "source": [
    "ensemble.remove(True)\n",
    "\n",
    "print(ensemble)"
   ]
  },
  {
   "cell_type": "code",
   "execution_count": 14,
   "metadata": {},
   "outputs": [
    {
     "name": "stdout",
     "output_type": "stream",
     "text": [
      "{False, 2, 3, 100, 'bonjour', 'rebonjour', 'Python'}\n"
     ]
    }
   ],
   "source": [
    "ensemble.discard(555)\n",
    "\n",
    "print(ensemble)"
   ]
  },
  {
   "cell_type": "markdown",
   "metadata": {},
   "source": [
    "Si l'élément n'existe pas, `remove()` va renvoyer une erreur alors que `discard()` ne va pas la renvoyer."
   ]
  },
  {
   "cell_type": "code",
   "execution_count": 16,
   "metadata": {},
   "outputs": [
    {
     "ename": "KeyError",
     "evalue": "1000",
     "output_type": "error",
     "traceback": [
      "\u001b[1;31m---------------------------------------------------------------------------\u001b[0m",
      "\u001b[1;31mKeyError\u001b[0m                                  Traceback (most recent call last)",
      "\u001b[1;32m~\\AppData\\Local\\Temp\\ipykernel_13428\\3741799239.py\u001b[0m in \u001b[0;36m<module>\u001b[1;34m\u001b[0m\n\u001b[1;32m----> 1\u001b[1;33m \u001b[0mensemble\u001b[0m\u001b[1;33m.\u001b[0m\u001b[0mremove\u001b[0m\u001b[1;33m(\u001b[0m\u001b[1;36m1000\u001b[0m\u001b[1;33m)\u001b[0m\u001b[1;33m\u001b[0m\u001b[1;33m\u001b[0m\u001b[0m\n\u001b[0m\u001b[0;32m      2\u001b[0m \u001b[1;33m\u001b[0m\u001b[0m\n\u001b[0;32m      3\u001b[0m \u001b[0mprint\u001b[0m\u001b[1;33m(\u001b[0m\u001b[0mensemble\u001b[0m\u001b[1;33m)\u001b[0m\u001b[1;33m\u001b[0m\u001b[1;33m\u001b[0m\u001b[0m\n",
      "\u001b[1;31mKeyError\u001b[0m: 1000"
     ]
    }
   ],
   "source": [
    "ensemble.remove(1000)\n",
    "\n",
    "print(ensemble)"
   ]
  },
  {
   "cell_type": "code",
   "execution_count": 17,
   "metadata": {},
   "outputs": [
    {
     "name": "stdout",
     "output_type": "stream",
     "text": [
      "{False, 2, 3, 100, 'bonjour', 'rebonjour', 'Python'}\n"
     ]
    }
   ],
   "source": [
    "ensemble.discard(1000)\n",
    "\n",
    "print(ensemble)"
   ]
  },
  {
   "cell_type": "markdown",
   "metadata": {},
   "source": [
    "On peut utiliser la méthode `pop()` pour supprimer le dernier élément, **Cependant, les ensembles ne sont pas ordonnés**. Donc lorsqu'on utilise la méthode `pop()`, on va pas savoir quel élément est supprimé."
   ]
  },
  {
   "cell_type": "code",
   "execution_count": 18,
   "metadata": {},
   "outputs": [
    {
     "name": "stdout",
     "output_type": "stream",
     "text": [
      "{2, 3, 100, 'bonjour', 'rebonjour', 'Python'}\n"
     ]
    }
   ],
   "source": [
    "ensemble.pop()\n",
    "\n",
    "print(ensemble)"
   ]
  },
  {
   "cell_type": "markdown",
   "metadata": {},
   "source": [
    "La méthode `copy()` permet de copier l'ensemble. La méthode `clear()` vide l'ensemble. Le mot-clé `del` supprimera complètement l'ensemble."
   ]
  },
  {
   "cell_type": "code",
   "execution_count": 21,
   "metadata": {},
   "outputs": [
    {
     "name": "stdout",
     "output_type": "stream",
     "text": [
      "{2, 3, 100, 'bonjour', 'rebonjour', 'Python'}\n",
      "{2, 3, 100, 'bonjour', 'rebonjour', 'Python'}\n"
     ]
    }
   ],
   "source": [
    "ensemble2 = ensemble.copy()\n",
    "\n",
    "print(ensemble)\n",
    "print(ensemble2)"
   ]
  },
  {
   "cell_type": "code",
   "execution_count": 22,
   "metadata": {},
   "outputs": [
    {
     "name": "stdout",
     "output_type": "stream",
     "text": [
      "set()\n"
     ]
    }
   ],
   "source": [
    "ensemble.clear()\n",
    "\n",
    "print(ensemble)"
   ]
  },
  {
   "cell_type": "code",
   "execution_count": 24,
   "metadata": {},
   "outputs": [
    {
     "ename": "NameError",
     "evalue": "name 'ensemble' is not defined",
     "output_type": "error",
     "traceback": [
      "\u001b[1;31m---------------------------------------------------------------------------\u001b[0m",
      "\u001b[1;31mNameError\u001b[0m                                 Traceback (most recent call last)",
      "\u001b[1;32m~\\AppData\\Local\\Temp\\ipykernel_13428\\744214974.py\u001b[0m in \u001b[0;36m<module>\u001b[1;34m\u001b[0m\n\u001b[0;32m      1\u001b[0m \u001b[1;32mdel\u001b[0m \u001b[0mensemble\u001b[0m\u001b[1;33m\u001b[0m\u001b[1;33m\u001b[0m\u001b[0m\n\u001b[0;32m      2\u001b[0m \u001b[1;33m\u001b[0m\u001b[0m\n\u001b[1;32m----> 3\u001b[1;33m \u001b[0mprint\u001b[0m\u001b[1;33m(\u001b[0m\u001b[0mensemble\u001b[0m\u001b[1;33m)\u001b[0m\u001b[1;33m\u001b[0m\u001b[1;33m\u001b[0m\u001b[0m\n\u001b[0m",
      "\u001b[1;31mNameError\u001b[0m: name 'ensemble' is not defined"
     ]
    }
   ],
   "source": [
    "del ensemble\n",
    "\n",
    "print(ensemble)"
   ]
  },
  {
   "cell_type": "markdown",
   "metadata": {},
   "source": [
    "Les ensembles ont des opérations similaires au même concept en mathématiques. On peut faire la réunion, l'intersection, la différence, tester l'inclusion d'un ensemble dans un autre et ainsi de suite.\n",
    "Voici une table contenant les méthodes des ensembles (quelques-unes sont déjà vues).\n",
    "\n",
    "| Méthode                        | Description                                                                    |\n",
    "|-------------------------------|--------------------------------------------------------------------------------|\n",
    "| `add()`                         | Ajoute un élément à l'ensemble                                                    |\n",
    "| `clear()`                       | Supprime tous les éléments de l'ensemble                                          |\n",
    "| `copy()`                        | Renvoie une copie de l'ensemble                                                      |\n",
    "| `difference()`                  | Renvoie un ensemble contenant la différence entre deux ou plusieurs ensembles               |\n",
    "| `difference_update()`           | Supprime les éléments de cet ensemble qui sont également inclus dans un autre ensemble spécifié |\n",
    "| `discard()`                     |Supprimer l'élément spécifié                                                      |\n",
    "| `intersection()`                | Renvoie un ensemble, c'est-à-dire l'intersection de deux autres ensembles                      |\n",
    "| `intersection_update()`         | Supprime les éléments de cet ensemble qui ne sont pas présents dans d'autres ensembles spécifiés |\n",
    "| `isdisjoint()`                  | Renvoie si deux ensembles ont une intersection ou non                            |\n",
    "| `issubset()`                    | Retourne si un autre ensemble contient cet ensemble ou non                           |\n",
    "| `issuperset()`                  | Retourne si cet ensemble contient un autre ensemble ou non                           |\n",
    "| `pop()`                         | Supprime un élément de l'ensemble                                                |\n",
    "| `remove()`                      | Supprime l'élément spécifié                                                  |\n",
    "| `symmetric_difference()`        | Renvoie un ensemble avec les différences symétriques de deux ensembles                       |\n",
    "| `symmetric_difference_update()` | insère les différences symétriques de cet ensemble et d'un autre                    |\n",
    "| `union()`                       | Renvoie un ensemble contenant l'union d'ensembles                                      |\n",
    "| `update()`                      | Mettre à jour l'ensemble avec l'union de cet ensemble et d'autres                           |\n"
   ]
  }
 ],
 "metadata": {
  "kernelspec": {
   "display_name": "Python 3 (ipykernel)",
   "language": "python",
   "name": "python3"
  },
  "language_info": {
   "codemirror_mode": {
    "name": "ipython",
    "version": 3
   },
   "file_extension": ".py",
   "mimetype": "text/x-python",
   "name": "python",
   "nbconvert_exporter": "python",
   "pygments_lexer": "ipython3",
   "version": "3.7.3"
  },
  "widgets": {
   "application/vnd.jupyter.widget-state+json": {
    "state": {},
    "version_major": 2,
    "version_minor": 0
   }
  }
 },
 "nbformat": 4,
 "nbformat_minor": 4
}