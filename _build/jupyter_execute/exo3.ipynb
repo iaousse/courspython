{
 "cells": [
  {
   "cell_type": "markdown",
   "metadata": {},
   "source": [
    "# Essayez vous-meme!\n",
    "\n",
    "<hr style=\"border:2px solid gray\"> </hr>\n",
    "\n",
    "## Exercice 1. \n",
    "Soit la variable suivante `all_alphabet = \"the quick brown fox jumps over the lazy dog\"`. \n",
    "- afficher les 10 premiers caracteres de cette vaiable (espaces comris)\n",
    "- afficher les 5 derniers caracters de cette variable (espaces compris)\n",
    "- Déterminez ce qui se passe lorsque l’un ou l’autre des indices de découpage est erroné, et décrivez cela le mieux possible. (Exemple: Si le second indice est plus petit que le premier, ou bien si le second indice est plus grand que la taille de la chaîne. Vous pouvez tester d'autres situations)."
   ]
  },
  {
   "cell_type": "code",
   "execution_count": 12,
   "metadata": {},
   "outputs": [],
   "source": [
    "## votre code ici"
   ]
  },
  {
   "cell_type": "markdown",
   "metadata": {},
   "source": [
    "<hr style=\"border:2px solid gray\"> </hr>\n",
    "\n",
    "## Exercice 2.\n",
    "Afficher la phrase suivantes `'bonjour tout le monde'` dans les trois figures suivantes (ajouter les caracters speciaux dans la chaines):\n",
    "- retour a lingne :\n",
    "\n",
    "```python\n",
    "bonjour\n",
    "tout\n",
    "le\n",
    "monde\n",
    "```\n",
    "- tabulation :\n",
    "\n",
    "```python\n",
    "bonjour\ttout\tle\tmonde\n",
    "```\n",
    "- tabulation et retour a la linge :\n",
    "\n",
    "```python\n",
    "bonjour\n",
    "    tout\n",
    "        le\n",
    "            monde\n",
    "```"
   ]
  },
  {
   "cell_type": "code",
   "execution_count": 4,
   "metadata": {},
   "outputs": [
    {
     "data": {
      "text/plain": [
       "' '"
      ]
     },
     "execution_count": 4,
     "metadata": {},
     "output_type": "execute_result"
    }
   ],
   "source": [
    "## votre code ici"
   ]
  },
  {
   "cell_type": "markdown",
   "metadata": {},
   "source": [
    "<hr style=\"border:2px solid gray\"> </hr>\n",
    "\n",
    "## Exercice 3. \n",
    "tester les methodes suivantes a l'aide d'une chaines de caracters contenant des lettres, des chiffres, et des symboles (exemple `'my_n@me%is$meth0s!'`): `.isalpha()` et `.isdigit()` (emple: qui sera l'output de cette instruction: `'my_n@me%is$meth0s!'[0].islpha()`? Faite ca avec d'autres elements de la chaines et affecter la a une variable avant de faire ces tests).\n",
    "\n",
    "Compter toutes les lettres, chiffres et symboles spéciaux d'une chaîne donnée\n",
    "\n",
    "Exemple:\n",
    "\n",
    "Pour la chaine `'my_n@me%is$meth0s!'`:\n",
    "\n",
    "Nombre total de caractères, chiffres et symboles\n",
    "\n",
    "Caractères = 12\n",
    "\n",
    "Chiffres = 1\n",
    "\n",
    "Symbole = 5"
   ]
  },
  {
   "cell_type": "code",
   "execution_count": 1,
   "metadata": {},
   "outputs": [],
   "source": [
    "## votre code ici"
   ]
  },
  {
   "cell_type": "markdown",
   "metadata": {},
   "source": [
    "<hr style=\"border:2px solid gray\"> </hr>\n",
    "\n",
    "## Exercice 4. \n",
    "donner plusieurs technique (slincing, boucle for, boucle while, ...)d'inverser une chaine de caractere (utiliser la chaine `bonjour`)."
   ]
  },
  {
   "cell_type": "code",
   "execution_count": 35,
   "metadata": {},
   "outputs": [],
   "source": [
    "## votre code ici"
   ]
  },
  {
   "cell_type": "markdown",
   "metadata": {},
   "source": [
    "<hr style=\"border:2px solid gray\"> </hr>\n",
    "\n",
    "## Exercice 5. \n",
    "A l'aide de `'*'` et la boucle `for`, afficher les trois modèles suivants: \n",
    "\n",
    "\n",
    "\n",
    "```\n",
    "*****\n",
    "*****\n",
    "*****\n",
    "*****\n",
    "*****\n",
    "```\n",
    "\n",
    "\n",
    "\n",
    "```\n",
    "******\n",
    "*****\n",
    "****\n",
    "***\n",
    "**\n",
    "*\n",
    "```\n",
    "\n",
    "\n",
    "\n",
    "```\n",
    "     *\n",
    "    **\n",
    "   ***\n",
    "  ****\n",
    " *****\n",
    "******\n",
    "```\n"
   ]
  },
  {
   "cell_type": "code",
   "execution_count": 7,
   "metadata": {},
   "outputs": [],
   "source": [
    "## votre code ici"
   ]
  },
  {
   "cell_type": "markdown",
   "metadata": {},
   "source": [
    "<hr style=\"border:2px solid gray\"> </hr>\n",
    "\n",
    "## Exercice 6. \n",
    "- Écrire un programme Python pour obtenir le plus petit nombre d'une liste (appliquer le programme sur la liste `ma_liste =[39, 35, 53, 21, 19, 33, 22]`. Comparer votre resulat avec `min(liste)`.\n",
    "- Écrire un programme Python pour obtenir le plus gand nombre d'une liste (appliquer le programme sur la liste `ma_liste =[39, 35, 53, 21, 19, 33, 22]`. Comparer votre resulat avec `max(liste)`.\n",
    "\n",
    "- Écrire un programme Python qui permet a l'utilisateur d'entrer des nombre. Apres vous donner la somme, le max, le min, le produit, et la moyenne de ces nombres (ne pas utiliser les fonctions `sum(), min(),...`) et qui affiche l'ordre croissant et l'ordre decroissant (ne pas utilise des fonctions et methodes qui permettent que d'ordonner les nombres comme `sorted()` et `.sort()`) .\n",
    "- Refaire le meme programme en utilisant les fonctions qui vous convient (`sum(), min()`,`sorted()` ou `.sort()` etc.)."
   ]
  },
  {
   "cell_type": "code",
   "execution_count": 45,
   "metadata": {},
   "outputs": [],
   "source": [
    "## votre code ici"
   ]
  },
  {
   "cell_type": "markdown",
   "metadata": {},
   "source": [
    "<hr style=\"border:2px solid gray\"> </hr>\n",
    "\n",
    "## Exercice 7. \n",
    "Executer le programme suivant:\n",
    "```python\n",
    "var1 = [1, 4, 4, 3]\n",
    "var2 = var1\n",
    "print(var1)\n",
    "print(var2)\n",
    "var2[0] = 111\n",
    "print(var2)\n",
    "print(var1)\n",
    "```\n",
    "Expliquer ce qui c'est passe (faite une petite recherche) et proposer une solution pour remidier a ce probleme."
   ]
  },
  {
   "cell_type": "code",
   "execution_count": 47,
   "metadata": {},
   "outputs": [],
   "source": [
    "## votre code ici"
   ]
  },
  {
   "cell_type": "markdown",
   "metadata": {},
   "source": [
    "<hr style=\"border:2px solid gray\"> </hr>\n",
    "\n",
    "## Exercice 8. \n",
    "La table suivante contient les notes des étudiants d'une classe.\n",
    "\n",
    "| apogee   | math | python | java | gestion | algorithmique |\n",
    "|----------|:----:|:------:|:----:|:-------:|:-------------:|\n",
    "| 19021549 |   -   |   14   |  13  |    9    |       15      |\n",
    "| 19021547 |  12  |   16   |  14  |    10   |       14      |\n",
    "| 19021563 |  11  |   15   |  12  |    10   |       15      |\n",
    "| 19021545 |  15  |   17   |  16  |    12   |       17      |\n",
    "| 19021553 |  14  |   15   |  14  |    12   |       16      |\n",
    "| 19021559 |  11  |   14   |  12  |    9    |         -      |\n",
    "| 19021557 |  13  |   15   |  14  |    12   |       12      |\n",
    "| 19021550 |   8  |   -     |  10  |    8    |       12      |\n",
    "| 19021548 |  10  |   14   |  11  |    8    |       13      |\n",
    "\n",
    "- Créer 5 listes et les affecter aux variables `apogee`, `math`, `python`, `java`, `gestion`, `algorithmique` contenant les notes de chaque matière (penser à remplir les éléments manquants par un mot-clé qui montre que les valeurs sont vides).\n",
    "- créer les dictionnaires nommes `notes_math`, `notes_info`, et `notes_gestion`.\n",
    "- Créer un dictionnaire nomme `notes` contenant les notes des étudiants ;\n",
    "\n",
    "Pour Les étudiants ayant des notes non saisies, la table suivante contient leurs notes :\n",
    "\n",
    "| apogee   | math | python | java | gestion | algorithmique |\n",
    "|----------|:----:|:------:|:----:|:-------:|:-------------:|\n",
    "| 19021549 |   12   |   14   |  13  |    9    |       15      |\n",
    "| 19021559 |  11  |   14   |  12  |    9    |         12     |\n",
    "| 19021550 |   8  |   10    |  10  |    8    |       12      |\n",
    "\n",
    "\n",
    "- créer un autre dictionnaire vide nomme `note_actualisee`, puis remplir en utilisant les données de la table ci-dessus :\n",
    "- Actualiser les notes manquantes dans `notes` en utilisant `notes_actualisee`.\n",
    "\n",
    "- L'étudiant ayant le code apogée `19021545` n'appartient pas a cette classe, supprimer le du dictionnaire `notes` ;\n",
    "- En utilisant une boucle, calculer :\n",
    "    - la note moyenne de la classe en math, et en python\n",
    "    - la note moyenne de chaque étudiant\n",
    "\n",
    "\n",
    "_NB: les codes apogées sont fictifs et toute ressemblance avec des étudiants existant ou ayant existé serait purement fortuite._\n"
   ]
  },
  {
   "cell_type": "code",
   "execution_count": 6,
   "metadata": {},
   "outputs": [],
   "source": [
    "## votre code ici"
   ]
  },
  {
   "cell_type": "markdown",
   "metadata": {},
   "source": [
    "Les variables suivantes contiennent les nomes des quelques étudiants (des prénoms sélectionnés aléatoirement dans le monde entier), leur sexe et l'appartenance à l'une des trois classes : `classe_a`, `classe_b` et `classe_c`. Les classes ne sont pas mutuellement exclusives. Ceci dit, un étudiant peut être dans deux, voire trois, classe a la fois.\n",
    "\n",
    "- \n",
    "```python\n",
    "hommes = {'Jakhi', 'Arjen', 'Davidmichael', 'Albert', 'Staton', 'Konstantinos', 'Rasheen', 'Thalamus', 'Gabryel', 'Ladavian', \n",
    "         'Lendel', 'Sargon', 'Artadius', 'Tyer', 'Ignacio', 'Mckale', 'Jarvin', 'Raydrick', \n",
    "         'Renn', 'Rony', 'Yasine'}\n",
    "```\n",
    "\n",
    "- \n",
    "```python\n",
    "femmes = {'Geryl', 'Khamyah', 'Comelia', 'Joneka', 'Teia', 'Sameria', 'Lourinda', 'Martrice', 'Bettianne', 'Blandy', 'Allynn', \n",
    "          'Dashia', 'Neneh', 'Jovanka', 'Valeriana', 'Zhanasia', 'Naiyma', 'Kerrah', 'Ayaa', 'Johanna', 'Tawasha', 'Roxi', \n",
    "          'Shaughnessy', 'Nyema', 'Janene', 'Diamyn', 'Carly', 'Giner', 'Efthymia'}\n",
    "```\n",
    "\n",
    "- \n",
    "```python\n",
    "classe_a = {'Geryl', 'Comelia', 'Joneka', 'Lendel', 'Artadius', 'Mckale','Teia', 'Martrice', 'Allynn', 'Neneh', 'Shaughnessy', 'Diamyn', 'Jakhi', 'Davidmichael', \n",
    "            'Thalamus', 'Ladavian', 'Renn'}\n",
    "```\n",
    "- \n",
    "```python\n",
    "classe_b = {'Geryl', 'Comelia', 'Joneka', 'Teia', 'Martrice', 'Allynn','Lourinda', 'Bettianne', 'Blandy', 'Jovanka', 'Kerrah', 'Johanna', 'Tawasha', 'Roxi', 'Janene', 'Giner', 'Efthymia', \n",
    "            'Staton', 'Konstantinos', 'Rasheen', 'Sargon', 'Tyer', 'Ignacio', 'Jarvin', 'Yasine'}\n",
    "```\n",
    "\n",
    "- \n",
    "```python\n",
    "classe_c = {'Geryl', 'Comelia', 'Joneka', 'Teia', 'Martrice', 'Allynn','Khamyah', 'Sameria', 'Dashia', 'Valeriana', 'Zhanasia', 'Naiyma', 'Ayaa', 'Nyema', 'Carly', 'Arjen', 'Albert', 'Gabryel', \n",
    "             'Lendel', 'Artadius', 'Mckale', 'Raydrick', 'Rony', 'Rasheen', 'Sargon', 'Tyer', 'Ignacio', 'Jarvin', 'Yasine'}\n",
    "```\n",
    "- Copier les ensembles ci-dessus dans la cellule code (ou dans votre éditeur que vous utilisez).\n",
    "- Créer un ensemble `etudiant` contenant tous les étudiants.\n",
    "- A quelle(s) classe(s) `Yassin` appartient-il ?\n",
    "- Quelles sont les étudiants de sexe masculin qui appartiennent à la classe `classe_a` ? \n",
    "- Quelles sont les étudiants de sexe féminin qui appartiennent à la classe `classe_c` ?\n",
    "- Quelles sont les étudiants de sexe masculin qui appartiennent à la classe `classe_a` et la classe `classe_c` ?\n",
    "- Quelles sont les étudiants de sexe féminin qui appartiennent a la classe `classe_b` et n'appartiennent pas à la classe `classe_c` ?\n",
    "- L'étudiant `Mohamed` appartient à la classe la classe `classe_b`. Ajouter le aux ensembles adéquats.\n",
    "- Utiliser une boucle pour afficher pour chaque étudiantes le message suivant :\n",
    "     - Si l'étudiante appartient à la classe `classe_c` : ` L'étudiante 'nom' appartient à la classe classe_c`.\n",
    "     - Si l'étudiante n'appartient à la classe `classe_c` : ` L'étudiante 'nom' n'appartient pas à la classe classe_c`.\n"
   ]
  },
  {
   "cell_type": "code",
   "execution_count": 14,
   "metadata": {},
   "outputs": [],
   "source": [
    "## votre code ici"
   ]
  },
  {
   "cell_type": "markdown",
   "metadata": {},
   "source": []
  }
 ],
 "metadata": {
  "kernelspec": {
   "display_name": "Python 3 (ipykernel)",
   "language": "python",
   "name": "python3"
  },
  "language_info": {
   "codemirror_mode": {
    "name": "ipython",
    "version": 3
   },
   "file_extension": ".py",
   "mimetype": "text/x-python",
   "name": "python",
   "nbconvert_exporter": "python",
   "pygments_lexer": "ipython3",
   "version": "3.7.3"
  },
  "widgets": {
   "application/vnd.jupyter.widget-state+json": {
    "state": {},
    "version_major": 2,
    "version_minor": 0
   }
  }
 },
 "nbformat": 4,
 "nbformat_minor": 4
}