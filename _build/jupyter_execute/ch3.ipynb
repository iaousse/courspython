{
 "cells": [
  {
   "cell_type": "markdown",
   "metadata": {
    "tags": []
   },
   "source": [
    "# Les chaînes de caractères (strings)\n",
    "\n",
    ":::{admonition} Rappel\n",
    "\n",
    "Nous avons vu que :\n",
    "- Une chaîne est une liste ordonnée de caractères ;\n",
    "- un caractère est tout ce que vous pouvez taper sur le clavier en une seule frappe,\n",
    "Comme une lettre (a, b, c, ...), un chiffre (0, 1, 3, ...), symboles (@, %, #,...), espace ou une backslash (\\);\n",
    "- une chaîne vide est une chaîne qui contient 0 caractères ('') ;\n",
    "- Python reconnaît comme chaînes tout ce qui est délimité par des guillemets\n",
    "(\" \" ou alors ' ') ;\n",
    "- pour affecter une chaîne de caractères a une variable :\n",
    "\n",
    "```python\n",
    "var = \"bonjour\"\n",
    "```\n",
    "\n",
    ":::\n"
   ]
  },
  {
   "cell_type": "markdown",
   "metadata": {},
   "source": [
    "Maintenant, nous Nous allons voir quelques caractères spéciaux\n",
    "\n",
    "Sous Python, la backslash `\"\\\"` est un caractère spécial, également appelé caractère `d'échappement`. Il est utilisé pour représenter certains caractères d'espacement : \"\\t\" est une tabulation, \"\\n\" est une nouvelle ligne et \"\\r\" est un retour chariot. Supposons que nous voulons afficher cette chaine `\"\\nous\\tenons à vous remercier\"`."
   ]
  },
  {
   "cell_type": "code",
   "execution_count": 1,
   "metadata": {},
   "outputs": [
    {
     "name": "stdout",
     "output_type": "stream",
     "text": [
      "\n",
      "ous\tenons à vous remercier\n"
     ]
    }
   ],
   "source": [
    "print(\"\\nous\\tenons à vous remercier\")"
   ]
  },
  {
   "cell_type": "markdown",
   "metadata": {},
   "source": [
    "Python ne comprend que `'\\n'` dons `\"\\nous\\tenons à vous remercier\"` est un retour à linge. La même chose pour `'\\t'` : c’est une tabulation (nous allons voir en détails caractère dits `caractères spéciaux`). Pour lui informer que nous ne voulons pas ça, on doit ajouter `\\` avant `\\` dans les deux cas (c'est-à-dire `\\\\`). Voilà comment le faire :"
   ]
  },
  {
   "cell_type": "code",
   "execution_count": 2,
   "metadata": {},
   "outputs": [
    {
     "name": "stdout",
     "output_type": "stream",
     "text": [
      "\\nous\\tenons à vous remercier\n"
     ]
    }
   ],
   "source": [
    "print(\"\\\\nous\\\\tenons à vous remercier\")"
   ]
  },
  {
   "cell_type": "markdown",
   "metadata": {},
   "source": [
    "Aussi, lorsque nous voulons afficher une chaine de caractères comme `'c'est magnifique'`"
   ]
  },
  {
   "cell_type": "code",
   "execution_count": 19,
   "metadata": {},
   "outputs": [
    {
     "ename": "SyntaxError",
     "evalue": "invalid syntax (892033391.py, line 1)",
     "output_type": "error",
     "traceback": [
      "\u001b[1;36m  File \u001b[1;32m\"C:\\Users\\usr\\AppData\\Local\\Temp\\ipykernel_10040\\892033391.py\"\u001b[1;36m, line \u001b[1;32m1\u001b[0m\n\u001b[1;33m    print('c'est magnifique')\u001b[0m\n\u001b[1;37m               ^\u001b[0m\n\u001b[1;31mSyntaxError\u001b[0m\u001b[1;31m:\u001b[0m invalid syntax\n"
     ]
    }
   ],
   "source": [
    "print('c'est magnifique')"
   ]
  },
  {
   "cell_type": "markdown",
   "metadata": {},
   "source": [
    "Python comprend que la deuxième apostrophe termine la chaine de caractères. Donc le reste de la chaine (`est magnifique`) n'est pas compris. Nous devons mettre `\\` avant la deuxième apostrophe pour elle soit un caractère de cette chaine :"
   ]
  },
  {
   "cell_type": "code",
   "execution_count": 20,
   "metadata": {},
   "outputs": [
    {
     "name": "stdout",
     "output_type": "stream",
     "text": [
      "c'est magnifique\n"
     ]
    }
   ],
   "source": [
    "print('c\\'est magnifique')"
   ]
  },
  {
   "cell_type": "markdown",
   "metadata": {},
   "source": [
    "La même chose pour une chaine content `\"` et déclarée par `\" \"` (comme `\"\"bonjour\"\"`)."
   ]
  },
  {
   "cell_type": "code",
   "execution_count": 21,
   "metadata": {},
   "outputs": [
    {
     "ename": "SyntaxError",
     "evalue": "invalid syntax (2877536476.py, line 1)",
     "output_type": "error",
     "traceback": [
      "\u001b[1;36m  File \u001b[1;32m\"C:\\Users\\usr\\AppData\\Local\\Temp\\ipykernel_10040\\2877536476.py\"\u001b[1;36m, line \u001b[1;32m1\u001b[0m\n\u001b[1;33m    print(\"\"bonjour\"\")\u001b[0m\n\u001b[1;37m                  ^\u001b[0m\n\u001b[1;31mSyntaxError\u001b[0m\u001b[1;31m:\u001b[0m invalid syntax\n"
     ]
    }
   ],
   "source": [
    "print(\"\"bonjour\"\")"
   ]
  },
  {
   "cell_type": "code",
   "execution_count": 22,
   "metadata": {},
   "outputs": [
    {
     "name": "stdout",
     "output_type": "stream",
     "text": [
      "\"bonjour\"\n"
     ]
    }
   ],
   "source": [
    "print(\"\\\"bonjour\\\"\")"
   ]
  },
  {
   "cell_type": "markdown",
   "metadata": {},
   "source": [
    "```{note}\n",
    "On peut utiliser `\"c'est magnifique\"` ou `'\"bonjour\"'` sans utiliser `\\` (entrer la chaine avec apostrophe s'elle contient des guillemets ou l'inverse).\n",
    "```"
   ]
  },
  {
   "cell_type": "code",
   "execution_count": 23,
   "metadata": {},
   "outputs": [
    {
     "name": "stdout",
     "output_type": "stream",
     "text": [
      "c'est magnifique\n",
      "\"bonjour\"\n"
     ]
    }
   ],
   "source": [
    "print(\"c'est magnifique\")\n",
    "print('\"bonjour\"')"
   ]
  },
  {
   "cell_type": "markdown",
   "metadata": {},
   "source": [
    "Voici une quelques des caractères spéciaux et leurs significations :\n",
    "- `\\n` - Nouvelle ligne\n",
    "- `\\t` - tabulation\n",
    "- `\\r` - Retour chariot\n",
    "- `\\b` - Retour en arrière\n",
    "- `\\f` - Saut de page\n",
    "- `\\'` - Apostrophe\n",
    "- `\\\"` - Guillemets\n",
    "- `\\\\` -Backslash"
   ]
  },
  {
   "cell_type": "code",
   "execution_count": 65,
   "metadata": {
    "collapsed": true,
    "jupyter": {
     "outputs_hidden": true
    },
    "tags": []
   },
   "outputs": [
    {
     "name": "stdout",
     "output_type": "stream",
     "text": [
      "Bon\n",
      "jour\n",
      "----\n",
      "Bon\tjour\n",
      "----\n",
      "jour\n",
      "----\n",
      "Bojour\n",
      "----\n",
      "Bon\f",
      "\"jour\n",
      "----\n"
     ]
    }
   ],
   "source": [
    "print('Bon\\njour', end='\\n----\\n')\n",
    "print('Bon\\tjour', end='\\n----\\n')\n",
    "print('Bon\\rjour', end='\\n----\\n')\n",
    "print('Bon\\bjour', end='\\n----\\n')\n",
    "print('Bon\\fjour', end='\\n----\\n')"
   ]
  },
  {
   "cell_type": "markdown",
   "metadata": {},
   "source": [
    "## Opérations sur les chaînes de caractères\n",
    "\n",
    "On peut réaliser quelques opérations sur les chaînes de caractères. Par exemple, pour concaténer deux chaînes de caractères on utilise `+`(`chaine1+chaine2`), pour répéter une chaîne de caractère n fois on multiplie n par la chaine (`n*chaine`)."
   ]
  },
  {
   "cell_type": "code",
   "execution_count": 72,
   "metadata": {},
   "outputs": [
    {
     "name": "stdout",
     "output_type": "stream",
     "text": [
      "helloworld\n",
      "hello world\n",
      "hellohellohellohellohello\n",
      "hello worldworldhello worldworldhello worldworldhello worldworld\n"
     ]
    }
   ],
   "source": [
    "var1 = 'hello'\n",
    "var2 = \"world\"\n",
    "print(var1+var2)\n",
    "print(var1+' '+var2)\n",
    "print(5*var1)\n",
    "print(4*(var1 + \" \"+ 2*var2))"
   ]
  },
  {
   "cell_type": "markdown",
   "metadata": {},
   "source": [
    "Si l'on désire déterminer le nombre de caractères présents dans une chaîne, on utilise la fonction intégrée `len()` :"
   ]
  },
  {
   "cell_type": "code",
   "execution_count": 73,
   "metadata": {},
   "outputs": [
    {
     "name": "stdout",
     "output_type": "stream",
     "text": [
      "21\n"
     ]
    }
   ],
   "source": [
    "var = \"bonjour tout le monde\"\n",
    "print(len(var))"
   ]
  },
  {
   "cell_type": "markdown",
   "metadata": {},
   "source": [
    "La variable `var` contient une chaine de 21 caractères (3 espace comptés)."
   ]
  },
  {
   "cell_type": "markdown",
   "metadata": {},
   "source": [
    "Les chaînes sont des séquences de caractères. Chacun de ceux-ci occupe une place précise dans cette séquence. Sous Python, les éléments d'une séquence sont toujours indicés (ou numérotés) de la même manière, c'est-à-dire à partir de zéro (python commence toujours avec 0 comme premier indice). Pour extraire un caractère spécifique (ou plusieurs caractères) on utilise `[]`. Voici quelques exemples en utilisant `var = \"bonjour tout le monde\"`."
   ]
  },
  {
   "cell_type": "code",
   "execution_count": 76,
   "metadata": {},
   "outputs": [
    {
     "name": "stdout",
     "output_type": "stream",
     "text": [
      "b\n",
      "o\n",
      "n\n",
      "j\n",
      "e\n"
     ]
    }
   ],
   "source": [
    "var = \"bonjour tout le monde\"\n",
    "\n",
    "print(var[0])\n",
    "\n",
    "print(var[1])\n",
    "\n",
    "print(var[2])\n",
    "\n",
    "print(var[3])\n",
    "\n",
    "print(var[20])"
   ]
  },
  {
   "cell_type": "markdown",
   "metadata": {},
   "source": [
    "Dans certaines situations, Il est utile de pouvoir désigner l'emplacement d'un caractère par rapport à la fin de la chaîne.\n",
    "Pour cela, nous utilisons des indices négatifs : -1 désignera le dernier caractère, -2 l'avant dernier, et ainsi de suite."
   ]
  },
  {
   "cell_type": "code",
   "execution_count": 78,
   "metadata": {},
   "outputs": [
    {
     "name": "stdout",
     "output_type": "stream",
     "text": [
      "e\n",
      "d\n",
      "n\n",
      "b\n"
     ]
    }
   ],
   "source": [
    "\n",
    "var = \"bonjour tout le monde\"\n",
    "\n",
    "print(var[-1])\n",
    "\n",
    "print(var[-2])\n",
    "\n",
    "print(var[-3])\n",
    "\n",
    "print(var[-21])"
   ]
  },
  {
   "cell_type": "markdown",
   "metadata": {},
   "source": [
    "Il arrive souvent que l'on souhaite extraire une sous-séquence de caractères d'une chaîne. Sous Python, on utilise une technique dite `slicing` (). La technique consiste à indiquer entre crochets `[]` les indices correspondant au début et à la fin de la sous-séquence que l'on souhaite extraire.\n",
    "```{warning}\n",
    "Le caractère ayant premier indice est inclus. Cependant, **le caractère ayant le dernier indice n'est pas inclus !!**. Si l'on veut, par exemple les trois premiers caractères, on doit indiquer 0 et 4 entre `[]` (`[0:4]`).\n",
    "- Si l'on veut les `n` premier caractères : `[:n+1]`\n",
    "- Si l'on veut tous les caractères à partir de l'indice `n` jusqu'à la fin de la chaine : `[n:]`\n",
    "```\n",
    "Illustrons ça avec un exemple :"
   ]
  },
  {
   "cell_type": "code",
   "execution_count": 82,
   "metadata": {},
   "outputs": [
    {
     "name": "stdout",
     "output_type": "stream",
     "text": [
      "\n",
      "njo\n",
      "bon\n",
      "bon\n",
      "ur tout le monde\n",
      "ur tout le monde\n",
      "bonjour tout le monde\n"
     ]
    }
   ],
   "source": [
    "\n",
    "var = \"bonjour tout le monde\"\n",
    "\n",
    "print(var[0:0])\n",
    "print(var[2:5])\n",
    "print(var[0:3])\n",
    "\n",
    "print(var[:3])\n",
    "\n",
    "print(var[5:21])\n",
    "\n",
    "print(var[5:])\n",
    "\n",
    "print(var[:])"
   ]
  },
  {
   "cell_type": "markdown",
   "metadata": {},
   "source": [
    "Si l'on veut tester l'appartenance d'un caractère à une chaine on utilise l'opérateur `in`. L'expression est la suivante : `caractere in chaine`. Cela nous renvoi `True` si `caractere` est dans `chaine`, sinon `False`. On peut aussi écrire `caractere not in chaine` pour tester si `caractere` n'est pas dans `chaine` (`True`) ou s'il est dans `chaine` (`False`). Voici quelques exemples :"
   ]
  },
  {
   "cell_type": "code",
   "execution_count": 86,
   "metadata": {},
   "outputs": [
    {
     "name": "stdout",
     "output_type": "stream",
     "text": [
      "True\n",
      "False\n",
      "False\n",
      "True\n"
     ]
    }
   ],
   "source": [
    "var = \"bonjour tout le monde\"\n",
    "\n",
    "print('b' in var)\n",
    "\n",
    "print('z' in var)\n",
    "\n",
    "print('o' not in var)\n",
    "\n",
    "print('x' not in var)"
   ]
  },
  {
   "cell_type": "markdown",
   "metadata": {},
   "source": [
    "## Méthodes utiles pour les chaines des caractères\n",
    "Dans cette section nous allons voir quelques `méthodes` pour les chaines des caractères (lorsque nous allons étudier la programmation orientée objet, nous allons comprendre la signification de ce terme. Pour l'instant nous allons accepter que `method` signifie une fonction dont l'expression générale est `chaine.method(args)` ou `args` sont des arguments qui peuvent être obligatoires ou facultatifs selon la méthode).\n",
    "- split: cette méthode est utilisée pour nous rendre une liste dont les éléments sont les caractères de la chaine: `chaine.split(sep)`.  On peut choisir le caractère séparateur `sep` en le fournissant comme argument, sinon c'est un espace par défaut."
   ]
  },
  {
   "cell_type": "code",
   "execution_count": 102,
   "metadata": {},
   "outputs": [
    {
     "name": "stdout",
     "output_type": "stream",
     "text": [
      "bonjour tout le monde\n",
      "['bonjour', 'tout', 'le', 'monde']\n",
      "<class 'list'>\n",
      "['un,', 'deux,', 'trois,', 'cinq-six,', 'sept']\n",
      "['un', ' deux', ' trois', ' cinq-six', ' sept']\n",
      "['un, deux, trois, cinq', 'six, sept']\n"
     ]
    }
   ],
   "source": [
    "var = \"bonjour tout le monde\"\n",
    "\n",
    "splitted_var = var.split()\n",
    "print(var)\n",
    "print(splitted_var)\n",
    "print(type(splitted_var))\n",
    "\n",
    "var2 = \"un, deux, trois, cinq-six, sept\"\n",
    "print(var2.split())\n",
    "print(var2.split(','))\n",
    "print(var2.split('-'))"
   ]
  },
  {
   "cell_type": "markdown",
   "metadata": {},
   "source": [
    "- count: lorsque elle est appliquée a un chaine de caractères avec un argument qui est aussi une chaine de caractères (éventuellement un seul caractère), elle renvoi le nombre d'occurrences la dernière chaine dans la première chaines. ` chaine1.count(chaine2)`."
   ]
  },
  {
   "cell_type": "code",
   "execution_count": 106,
   "metadata": {},
   "outputs": [
    {
     "name": "stdout",
     "output_type": "stream",
     "text": [
      "1\n",
      "2\n",
      "3\n"
     ]
    }
   ],
   "source": [
    "var = \"bonjour tout le monde\"\n",
    "print(var.count(\"b\"))\n",
    "\n",
    "print(var.count(\"on\"))\n",
    "\n",
    "print(var.count(\" \"))"
   ]
  },
  {
   "cell_type": "markdown",
   "metadata": {},
   "source": [
    "- find, index : Lorsque l'une de ces méthodes est appliquée a une chaine de caractère avec un argument qui est aussi une chaine de caractères (éventuellement un seul caractère), elle renvoi l'indice de la chaine cherchée dans la première chaines (l'indice de la première occurrence). `find` renvoi -1 si la chaine cherchée n'existe pas alors que index revoit une erreur dans la même situation. ` chaine1.find(chaine2)` et ` chaine1.index(chaine2)`."
   ]
  },
  {
   "cell_type": "code",
   "execution_count": 143,
   "metadata": {},
   "outputs": [
    {
     "name": "stdout",
     "output_type": "stream",
     "text": [
      "0\n",
      "14\n",
      "8\n",
      "-1\n"
     ]
    }
   ],
   "source": [
    "var = \"bonjour tout le monde\"\n",
    "print(var.find('b'))\n",
    "print(var.find('e'))\n",
    "print(var.find('tout'))\n",
    "print(var.find('x'))"
   ]
  },
  {
   "cell_type": "code",
   "execution_count": 144,
   "metadata": {},
   "outputs": [
    {
     "name": "stdout",
     "output_type": "stream",
     "text": [
      "0\n",
      "14\n",
      "8\n"
     ]
    },
    {
     "ename": "ValueError",
     "evalue": "substring not found",
     "output_type": "error",
     "traceback": [
      "\u001b[1;31m---------------------------------------------------------------------------\u001b[0m",
      "\u001b[1;31mValueError\u001b[0m                                Traceback (most recent call last)",
      "\u001b[1;32m~\\AppData\\Local\\Temp\\ipykernel_10040\\458526427.py\u001b[0m in \u001b[0;36m<module>\u001b[1;34m\u001b[0m\n\u001b[0;32m      3\u001b[0m \u001b[0mprint\u001b[0m\u001b[1;33m(\u001b[0m\u001b[0mvar\u001b[0m\u001b[1;33m.\u001b[0m\u001b[0mindex\u001b[0m\u001b[1;33m(\u001b[0m\u001b[1;34m'e'\u001b[0m\u001b[1;33m)\u001b[0m\u001b[1;33m)\u001b[0m\u001b[1;33m\u001b[0m\u001b[1;33m\u001b[0m\u001b[0m\n\u001b[0;32m      4\u001b[0m \u001b[0mprint\u001b[0m\u001b[1;33m(\u001b[0m\u001b[0mvar\u001b[0m\u001b[1;33m.\u001b[0m\u001b[0mindex\u001b[0m\u001b[1;33m(\u001b[0m\u001b[1;34m'tout'\u001b[0m\u001b[1;33m)\u001b[0m\u001b[1;33m)\u001b[0m\u001b[1;33m\u001b[0m\u001b[1;33m\u001b[0m\u001b[0m\n\u001b[1;32m----> 5\u001b[1;33m \u001b[0mprint\u001b[0m\u001b[1;33m(\u001b[0m\u001b[0mvar\u001b[0m\u001b[1;33m.\u001b[0m\u001b[0mindex\u001b[0m\u001b[1;33m(\u001b[0m\u001b[1;34m'x'\u001b[0m\u001b[1;33m)\u001b[0m\u001b[1;33m)\u001b[0m\u001b[1;33m\u001b[0m\u001b[1;33m\u001b[0m\u001b[0m\n\u001b[0m",
      "\u001b[1;31mValueError\u001b[0m: substring not found"
     ]
    }
   ],
   "source": [
    "var = \"bonjour tout le monde\"\n",
    "print(var.index('b'))\n",
    "print(var.index('e'))\n",
    "print(var.index('tout'))\n",
    "print(var.index('x'))"
   ]
  },
  {
   "cell_type": "markdown",
   "metadata": {},
   "source": [
    "- lower, upper, title, capitalize, swapcase: Lorsque l'une de ces méthodes est appliquée a une chaine de caractère, elle la convertit on minuscule (`lower`), majuscule (`upper`), majuscule a l'initial de chaque mot (`title`), majuscule a l'initial du premier mot (`capitalize`), et les majuscules en minuscules, et vice-versa (`swapecase`)."
   ]
  },
  {
   "cell_type": "code",
   "execution_count": 138,
   "metadata": {},
   "outputs": [
    {
     "name": "stdout",
     "output_type": "stream",
     "text": [
      "BONJOUR TOUT LE MONDE\n",
      "Bonjour Tout Le Monde\n",
      "Bonjour tout le monde\n",
      "bonjour tout le monde\n",
      "BONJOUR TOUT LE MONDE\n"
     ]
    }
   ],
   "source": [
    "var1 = \"bonjour tout le monde\"\n",
    "var2 = \"Bonjour tout le monde\"\n",
    "var3 = \"BONJOUR tout le monde\"\n",
    "\n",
    "print(var1.upper())\n",
    "print(var1.title())\n",
    "print(var1.capitalize())\n",
    "print(var3.lower())\n",
    "print(var1.swapcase())"
   ]
  },
  {
   "cell_type": "markdown",
   "metadata": {},
   "source": [
    "- strip: enlève les espaces (s'ils existent) au début et à la fin de la chaîne."
   ]
  },
  {
   "cell_type": "code",
   "execution_count": 140,
   "metadata": {},
   "outputs": [
    {
     "name": "stdout",
     "output_type": "stream",
     "text": [
      "bonjour tout le monde\n",
      "Bonjour tout le monde\n"
     ]
    }
   ],
   "source": [
    "var1 = \"bonjour tout le monde\"\n",
    "var2 = \"   Bonjour tout le monde   \"\n",
    "\n",
    "print(var1.strip())\n",
    "print(var2.strip())"
   ]
  },
  {
   "cell_type": "markdown",
   "metadata": {},
   "source": [
    "- replace : remplace une chaine de caractères (éventuellement un seul caractère) par une autre chaine de caractère."
   ]
  },
  {
   "cell_type": "code",
   "execution_count": 142,
   "metadata": {},
   "outputs": [
    {
     "name": "stdout",
     "output_type": "stream",
     "text": [
      "Bonjour tout le monde\n",
      "bonsoir tout le monde\n"
     ]
    }
   ],
   "source": [
    "var = \"bonjour tout le monde\"\n",
    "print(var.replace('b', 'B'))\n",
    "\n",
    "print(var.replace('bonjour', 'bonsoir'))"
   ]
  },
  {
   "cell_type": "markdown",
   "metadata": {},
   "source": [
    "## Formatage des chaînes de caractères\n",
    "### Ancienne version\n",
    "Les chaines de caractères en python sont riches en termes de fonctionnalité (vous allez, au fur et mesure, découvrir des nouvelles méthodes et technique avancées). Dans cette section, nous allons présenter une autre technique de traitement très puissante, que l’on appelle formatage des chaînes. \n",
    "\n",
    "Les chaînes de caractères ont une opération intégrée unique accessible avec l'opérateur `%`. Cela vous permet d'effectuer très facilement un formatage simple (formatting). Si vous avez déjà travaillé avec une fonction de style `printf` en `C`, vous reconnaîtrez immédiatement comment cela fonctionne. Voici un exemple simple :"
   ]
  },
  {
   "cell_type": "code",
   "execution_count": 3,
   "metadata": {},
   "outputs": [
    {
     "name": "stdout",
     "output_type": "stream",
     "text": [
      "Python est le meilleur langage de programmation\n"
     ]
    }
   ],
   "source": [
    "langage = \"Python\"\n",
    "print('%s est le meilleur langage de programmation'%langage)"
   ]
  },
  {
   "cell_type": "markdown",
   "metadata": {},
   "source": [
    "Cette technique n'est propre à `print` mais plutôt au chaines de caractères."
   ]
  },
  {
   "cell_type": "code",
   "execution_count": 4,
   "metadata": {},
   "outputs": [
    {
     "name": "stdout",
     "output_type": "stream",
     "text": [
      "Python est le meilleur language de programmation\n"
     ]
    }
   ],
   "source": [
    "langage = \"Python\"\n",
    "message = '%s est le meilleur language de programmation'\n",
    "\n",
    "print(message%langage)"
   ]
  },
  {
   "cell_type": "code",
   "execution_count": 5,
   "metadata": {},
   "outputs": [
    {
     "name": "stdout",
     "output_type": "stream",
     "text": [
      "Python est le meilleur language de programmation\n"
     ]
    }
   ],
   "source": [
    "langage = \"Python\"\n",
    "message = '%s est le meilleur language de programmation'%langage\n",
    "\n",
    "print(message)"
   ]
  },
  {
   "cell_type": "markdown",
   "metadata": {},
   "source": [
    "%s, %d, %f ....."
   ]
  },
  {
   "cell_type": "code",
   "execution_count": 20,
   "metadata": {},
   "outputs": [
    {
     "name": "stdout",
     "output_type": "stream",
     "text": [
      "Python 3.6 3 3.600000 3.6\n"
     ]
    }
   ],
   "source": [
    "langage ='Python'\n",
    "\n",
    "version = 3.6\n",
    "\n",
    "print('%s %s %d %f %g' % (langage, version, version, version, version))"
   ]
  },
  {
   "cell_type": "markdown",
   "metadata": {},
   "source": [
    "### Nouvelle version \n",
    "Python 3 a introduit une nouvelle façon de formater les chaînes. Ce formatage de chaîne n'utilise pas l'opérateur `%`. Le formatage est maintenant realise en appelant la methode `.format()` sur une chaîne de caracteres."
   ]
  },
  {
   "cell_type": "code",
   "execution_count": 11,
   "metadata": {},
   "outputs": [
    {
     "name": "stdout",
     "output_type": "stream",
     "text": [
      "Python est le meilleur langage de programmation\n"
     ]
    }
   ],
   "source": [
    "langage = \"Python\"\n",
    "print('{} est le meilleur langage de programmation'.format(langage))"
   ]
  },
  {
   "cell_type": "code",
   "execution_count": 6,
   "metadata": {},
   "outputs": [
    {
     "name": "stdout",
     "output_type": "stream",
     "text": [
      "Python est le meilleur language de programmation\n"
     ]
    }
   ],
   "source": [
    "langage = \"Python\"\n",
    "message = '{} est le meilleur language de programmation'\n",
    "\n",
    "print(message.format(langage))"
   ]
  },
  {
   "cell_type": "code",
   "execution_count": 7,
   "metadata": {},
   "outputs": [
    {
     "name": "stdout",
     "output_type": "stream",
     "text": [
      "Python est le meilleur language de programmation\n"
     ]
    }
   ],
   "source": [
    "langage = \"Python\"\n",
    "message = '{} est le meilleur language de programmation'.format(langage)\n",
    "\n",
    "print(message)"
   ]
  },
  {
   "cell_type": "markdown",
   "metadata": {},
   "source": [
    "### f-Strings (Python 3.6+)\n",
    "Python 3.6 a ajouté une nouvelle approche de formatage de chaîne appelée `f-strings`. "
   ]
  },
  {
   "cell_type": "code",
   "execution_count": 12,
   "metadata": {},
   "outputs": [
    {
     "name": "stdout",
     "output_type": "stream",
     "text": [
      "Python est le meilleur langage de programmation\n"
     ]
    }
   ],
   "source": [
    "langage = \"Python\"\n",
    "print(f'{langage} est le meilleur langage de programmation')"
   ]
  },
  {
   "cell_type": "code",
   "execution_count": 10,
   "metadata": {},
   "outputs": [
    {
     "name": "stdout",
     "output_type": "stream",
     "text": [
      "Python est le meilleur language de programmation\n"
     ]
    }
   ],
   "source": [
    "langage = \"Python\"\n",
    "message = f'{langage} est le meilleur language de programmation'\n",
    "\n",
    "print(message)"
   ]
  }
 ],
 "metadata": {
  "kernelspec": {
   "display_name": "Python 3 (ipykernel)",
   "language": "python",
   "name": "python3"
  },
  "language_info": {
   "codemirror_mode": {
    "name": "ipython",
    "version": 3
   },
   "file_extension": ".py",
   "mimetype": "text/x-python",
   "name": "python",
   "nbconvert_exporter": "python",
   "pygments_lexer": "ipython3",
   "version": "3.7.3"
  },
  "widgets": {
   "application/vnd.jupyter.widget-state+json": {
    "state": {},
    "version_major": 2,
    "version_minor": 0
   }
  }
 },
 "nbformat": 4,
 "nbformat_minor": 4
}