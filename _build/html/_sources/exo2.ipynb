{
 "cells": [
  {
   "cell_type": "markdown",
   "metadata": {},
   "source": [
    "# Essayez-vous-même!\n",
    "\n",
    "<hr style=\"border:2px solid gray\"> </hr>\n",
    "\n",
    "## Exercice 1. \n",
    "Ecrire un programme qui permet de résoudre l'équation suivante : \n",
    "\n",
    "$$\n",
    "ax+b=0\n",
    "$$\n",
    "\n",
    "- Le programme doit demander à l'utilisateur les paramètres a et b (pas la peine de contrôler le type des paramètres)\n",
    "- Le programme doit afficher le résultat de la manière la plus sophistiquée possible.\n",
    "\n",
    "_indication_ : \n",
    "- _convertir les données entrées au type de données adéquat_.\n",
    "- utiliser les instructions conditionnelles (faite une recherche sur la solution de l'équation $ax+b=0$).\n"
   ]
  },
  {
   "cell_type": "code",
   "execution_count": 35,
   "metadata": {},
   "outputs": [],
   "source": [
    "## votre code ici"
   ]
  },
  {
   "cell_type": "markdown",
   "metadata": {},
   "source": [
    "<hr style=\"border:2px solid gray\"> </hr>\n",
    "\n",
    "## Exercice 2. \n",
    "Ecrire un programme qui demande aux étudiant d'entrer les notes des modules suivants : math, informatique, français. Le programme doit afficher les éléments suivants :\n",
    "- si les modules sont valides (note supérieure à 10).\n",
    "- la moyenne des trois modules (moyenne = .5*note_de_math + .4*note_informatique + .1*note_francais)\n",
    "- excellent si la moyenne dépasse 18, très bien si la moyenne entre 16 et 18, bien si la moyenne entre 12 et 16, passable si la moyenne entre 10 et 12, non valide sinon."
   ]
  },
  {
   "cell_type": "code",
   "execution_count": null,
   "metadata": {},
   "outputs": [],
   "source": [
    "## votre code ici"
   ]
  },
  {
   "cell_type": "markdown",
   "metadata": {},
   "source": [
    "<hr style=\"border:2px solid gray\"> </hr>\n",
    "\n",
    "## Exercice 3. \n",
    "Une fonction qui permet de calculer la somme des éléments d'une liste (et d'autre objets que nous allons voir) est `sum()`. La syntaxe est `sum(liste)` tout simplement. Voici une liste pour calculer la somme de ses éléments : `ma_liste = [ 1, 5, 18181, 55, 100]`\n",
    "\n",
    "- créer un variable `somme_avec_sum` qui va contenir la somme des éléments de la liste avec la fonction `sum()`\n",
    "- créer une variable `somme_avec_for` qui va contenir la somme des éléments de la liste en utilisant la boucle `for`.\n",
    "- créer une variable `test_somme` qui va contenir le test d’égalité des deux variables `somme_avec_sum` et `somme_avec_for`.\n",
    "- afficher chaque variable.\n",
    "\n",
    "_note_: vous devez avoir True pour `test_somme` sinon vous avez mal calculé de `somme_avec_for`!"
   ]
  },
  {
   "cell_type": "code",
   "execution_count": 2,
   "metadata": {},
   "outputs": [],
   "source": [
    "## votre code ici\n",
    "#ma_liste = [ 1, 5, 18181, 55, 100]"
   ]
  },
  {
   "cell_type": "markdown",
   "metadata": {},
   "source": [
    "<hr style=\"border:2px solid gray\"> </hr>\n",
    "\n",
    "## Exercice 4. \n",
    "Ecrire un programme qui permet d'afficher les 20 premiers nombres multiples de 3 avec `while`\n",
    "\n",
    "Refaire le programme précédant avec la boucle `for`"
   ]
  },
  {
   "cell_type": "code",
   "execution_count": 7,
   "metadata": {},
   "outputs": [],
   "source": [
    "## votre code ici"
   ]
  },
  {
   "cell_type": "markdown",
   "metadata": {},
   "source": [
    "<hr style=\"border:2px solid gray\"> </hr>\n",
    "\n",
    "## Exercice 5. \n",
    "Ecrire un programme qui permet d'afficher le modèle suivant à l'aide d'une boucle :\n",
    "```\n",
    "1 \n",
    "1 2 \n",
    "1 2 3 \n",
    "1 2 3 4 \n",
    "1 2 3 4 5\n",
    "1 2 3 4 5 6\n",
    "1 2 3 4 5 6 7\n",
    "```"
   ]
  },
  {
   "cell_type": "code",
   "execution_count": 5,
   "metadata": {},
   "outputs": [],
   "source": [
    "## votre code ici"
   ]
  },
  {
   "cell_type": "markdown",
   "metadata": {},
   "source": [
    "<hr style=\"border:2px solid gray\"> </hr>\n",
    "\n",
    "## Exercice 6. \n",
    "\n",
    "La suite de Fibonacci est une suite de nombres. On calcule les éléments de cette suite de la manière suivante :\n",
    "- Les deux premiers chiffres sont 0 et 1 ;\n",
    "- un élément de la suite est calculer en additionnant les deux nombres qui le précèdent. \n",
    "Par exemple, 0, 1 (les deux premières éléments), 1 (obtenu par 0+1), 2 (obtenu par 1+1), 3 (obtenu par 1+2), 5, 8, 13. \n",
    "Le nombre suivant dans cette suite est : 8+13 = 21. Et ainsi de suite.\n",
    "\n",
    "Calculer les 12 premiers éléments de cette suite."
   ]
  },
  {
   "cell_type": "code",
   "execution_count": 23,
   "metadata": {},
   "outputs": [],
   "source": [
    "## votre code ici"
   ]
  },
  {
   "cell_type": "markdown",
   "metadata": {},
   "source": [
    "<hr style=\"border:2px solid gray\"> </hr>\n",
    "\n",
    "## Exercice 7. \n",
    "\n",
    "Ecrire un programme qui permet d'inverser un nombre entier donné (par exemple : inverser le nombre 89457 revient à donner le nombre 75498)."
   ]
  },
  {
   "cell_type": "code",
   "execution_count": 16,
   "metadata": {},
   "outputs": [],
   "source": [
    "## votre code ici"
   ]
  },
  {
   "cell_type": "markdown",
   "metadata": {},
   "source": [
    "<hr style=\"border:2px solid gray\"> </hr>\n",
    "\n",
    "## Exercice 8. \n",
    "(**Can you find the secret number?**)\n",
    "\n",
    "Ecrire un programme qui implémente le jeu suivant :\n",
    "- décider un nombre secret (par exemple 24) ;\n",
    "- Afficher un message du bienvenu au jeu qui détaille les règles du jeu (par exemple \"bienvenu a notre jeu\", …)\n",
    "- vous dites au joueur qu'il a 4 tentatives de jeu\n",
    "- vous demander au joueur d'entrer un nombre \n",
    "- si le nombre entre est inférieur au nombre secret, vous afficher un message disant que le nombre entre est plus petit que le nombre secret\n",
    "- si le nombre entre est supérieure nombre secret, vous afficher un message disant que le nombre entre est plus grands que le nombre secret\n",
    "- après chaque tentative, afficher un message disant au joueur qu'il reste moins de tentative (exemple : après la première tentative incorrecte vous afficher qu’il reste 3 tentatives seulement)\n",
    "- après la tentative correcte afficher un message de félicitations\n",
    "- après 4 tentatives incorrectes afficher un message de regret et le nombre qui doit être …."
   ]
  },
  {
   "cell_type": "code",
   "execution_count": 28,
   "metadata": {},
   "outputs": [],
   "source": [
    "## votre code ici"
   ]
  }
 ],
 "metadata": {
  "kernelspec": {
   "display_name": "Python 3 (ipykernel)",
   "language": "python",
   "name": "python3"
  },
  "language_info": {
   "codemirror_mode": {
    "name": "ipython",
    "version": 3
   },
   "file_extension": ".py",
   "mimetype": "text/x-python",
   "name": "python",
   "nbconvert_exporter": "python",
   "pygments_lexer": "ipython3",
   "version": "3.7.3"
  },
  "widgets": {
   "application/vnd.jupyter.widget-state+json": {
    "state": {},
    "version_major": 2,
    "version_minor": 0
   }
  }
 },
 "nbformat": 4,
 "nbformat_minor": 4
}
