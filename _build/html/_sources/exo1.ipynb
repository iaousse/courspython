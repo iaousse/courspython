{
 "cells": [
  {
   "cell_type": "markdown",
   "metadata": {},
   "source": [
    "# Essayez-vous-même !\n",
    "\n",
    "<hr style=\"border:2px solid gray\"> </hr>\n",
    "\n",
    "## Exercice 1. \n",
    "Ordre des opérations : quelle est selon vous le résultat de ces opérations :\n",
    "- $(4/2)^2\\times 2 + 1$, $4/2^{(2\\times 2)} + 1$, \n",
    "- $4/2^2\\times (2 + 1)$, \n",
    "- $4/2^2\\times 2 + 1$ \n",
    "verifier avec Python."
   ]
  },
  {
   "cell_type": "code",
   "execution_count": 35,
   "metadata": {},
   "outputs": [],
   "source": [
    "## votre code ici"
   ]
  },
  {
   "cell_type": "markdown",
   "metadata": {},
   "source": [
    "<hr style=\"border:2px solid gray\"> </hr>\n",
    "\n",
    "## Exercice 2. \n",
    "Un père a une somme d'argent de 1554 dh, il veut la partager sur ses 9 enfants de manière équitable et s'il reste quelque dirham, il va acheter des chocolats a 1 dh l'unité. Combien chaque enfant va recevoir ? combien d'unité de chocolat peut-il acheter avec le reste?"
   ]
  },
  {
   "cell_type": "code",
   "execution_count": null,
   "metadata": {},
   "outputs": [],
   "source": [
    "## votre code ici"
   ]
  },
  {
   "cell_type": "markdown",
   "metadata": {},
   "source": [
    "<hr style=\"border:2px solid gray\"> </hr>\n",
    "\n",
    "## Exercice 3. \n",
    "Quel est le type de données de valeurs suivantes :\n",
    "- `1`\n",
    "- `1.`\n",
    "- `False`\n",
    "- `\"False\"`\n",
    "- `\"5.4\"`\n",
    "- `var1/var2` avec `var1 = 1` et `var2 = 2`\n",
    "- `list()`\n",
    "- `None`\n",
    "- `\"\"`"
   ]
  },
  {
   "cell_type": "code",
   "execution_count": 7,
   "metadata": {},
   "outputs": [],
   "source": [
    "## votre code ici"
   ]
  },
  {
   "cell_type": "markdown",
   "metadata": {},
   "source": [
    "<hr style=\"border:2px solid gray\"> </hr>\n",
    "\n",
    "## Exercice 4. \n",
    "Convertir, si c'est possible, de valeurs suivantes aux types de données que nous avons vues. Expliciter les cas qui ne sont pas possible :\n",
    "- `1`\n",
    "- `1.`\n",
    "- `False`\n",
    "- `\"False\"`\n",
    "- `\"5.4\"`\n",
    "- `var1/var2` avec `var1 = 1` et `var2 = 2`\n",
    "- `list()`\n",
    "- `None`\n",
    "- `\"\"`"
   ]
  },
  {
   "cell_type": "code",
   "execution_count": 7,
   "metadata": {},
   "outputs": [],
   "source": [
    "## votre code ici"
   ]
  },
  {
   "cell_type": "markdown",
   "metadata": {},
   "source": [
    "<hr style=\"border:2px solid gray\"> </hr>\n",
    "\n",
    "## Exercice 5. \n",
    "Soient `x = True`, `y= 7<6`, and `z= not y`. Déterminer la valeur logique de `x, y,` et `z` (`True` ou `False`) puis la valeur de chacun des expression suivantes:\n",
    "- `x != False`\n",
    "- `x and y`\n",
    "- `x or y`\n",
    "- `not y`\n",
    "- `x and (y or z)`\n",
    "- `(x and y) or z`\n",
    "- `(not x or not y) and (not z)`\n",
    "- `not ((x and y) or z)`"
   ]
  },
  {
   "cell_type": "code",
   "execution_count": 23,
   "metadata": {},
   "outputs": [],
   "source": [
    "## votre code ici"
   ]
  },
  {
   "cell_type": "markdown",
   "metadata": {},
   "source": [
    "<hr style=\"border:2px solid gray\"> </hr>\n",
    "\n",
    "## Exercice 6. \n",
    "On veut recevoir ce message avec `print()`:\n",
    "```\n",
    "La valeur de x est : @@True@@\n",
    "*********==============********\n",
    "```\n",
    "En utilisant les arguments suivants :\n",
    "- `x = True`\n",
    "- `a = \"la valeur de x est :\"`\n",
    "\n",
    "Toute modification devra être faite au niveau de `sep=`, et `end=`."
   ]
  },
  {
   "cell_type": "code",
   "execution_count": 24,
   "metadata": {},
   "outputs": [],
   "source": [
    "## votre code ici"
   ]
  },
  {
   "cell_type": "markdown",
   "metadata": {},
   "source": [
    "<hr style=\"border:2px solid gray\"> </hr>\n",
    "\n",
    "## Exercice 7. \n",
    "Ecrire un petit programme qui permet de demander à l'utilisateur d'entrer son nom, son poids en kilogramme (sans entrer l'unité), et sa taille en mètre (sans entrer l'unité). Puis il affiche l'indice du poids (Body mass index (BMI)) :\n",
    "_Formule du BMI_ : $BMI = \\dfrac{poids}{taille^2}$."
   ]
  },
  {
   "cell_type": "markdown",
   "metadata": {},
   "source": [
    "<hr style=\"border:2px solid gray\"> </hr>\n",
    "\n",
    "## Exercice 8. \n",
    "Il existe plusieurs methodes d'affectation des variables. Essayer le code ci-dissous:"
   ]
  },
  {
   "cell_type": "code",
   "execution_count": 24,
   "metadata": {},
   "outputs": [],
   "source": [
    "## votre code ici\n",
    "## votre code ici\n",
    "#initialisation\n",
    "a, b, c, d = 1,1, 0, 4\n",
    "print('==================')\n",
    "print('Initialisation')\n",
    "print('==================')\n",
    "print(a,b,c,d, sep='\\n')\n",
    "\n",
    "# reaffectation des variables\n",
    "a, b, c, d = d, -a, c+b, 5\n",
    "print('==================')\n",
    "print('Reaffectation')\n",
    "print('==================')\n",
    "print(a,b,c,d, sep='\\n')"
   ]
  }
 ],
 "metadata": {
  "kernelspec": {
   "display_name": "Python 3 (ipykernel)",
   "language": "python",
   "name": "python3"
  },
  "language_info": {
   "codemirror_mode": {
    "name": "ipython",
    "version": 3
   },
   "file_extension": ".py",
   "mimetype": "text/x-python",
   "name": "python",
   "nbconvert_exporter": "python",
   "pygments_lexer": "ipython3",
   "version": "3.7.3"
  },
  "widgets": {
   "application/vnd.jupyter.widget-state+json": {
    "state": {},
    "version_major": 2,
    "version_minor": 0
   }
  }
 },
 "nbformat": 4,
 "nbformat_minor": 4
}
