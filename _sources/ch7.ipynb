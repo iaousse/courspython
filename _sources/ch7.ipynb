{
 "cells": [
  {
   "cell_type": "markdown",
   "metadata": {
    "tags": []
   },
   "source": [
    "# Les modules\n",
    "\n",
    "## Définition\n",
    "Les modules sont des programmes Python qui contiennent des fonctions qui peuvent être réutilisées souvent. Les modules sont aussi dits bibliothèques ou librairies. Les modules peuvent être considérés comme des **boîtes à outils** qui vont être très utiles.\n",
    "\n",
    "La communauté des développeurs de Python a réalisé plusieurs (PLUSIEURS !) modules qui effectuent beaucoup (BEAUCOUP !) de tâches. Pour cette raison, lors de la réalisation d'un programme on doit s'assurer qu'il n'existe pas déjà sous forme de module !\n",
    "\n",
    "La plupart de ces modules sont déjà installés dans les versions standards de Python. [Voici](https://docs.python.org/fr/3/py-modindex.html) une documentation sur les modules python.\n"
   ]
  },
  {
   "cell_type": "markdown",
   "metadata": {},
   "source": [
    "## Importation de modules\n",
    "Nous pouvons importer un module qui existe déjà dans notre machine (installé ou crée par nous-même) via plusieurs manières.\n",
    "\n",
    "Nous allons les illustrer avec l'exemple suivant : \n",
    "- le nombre $\\pi =3.14...$ n'existe pas dans python,"
   ]
  },
  {
   "cell_type": "code",
   "execution_count": 1,
   "metadata": {},
   "outputs": [
    {
     "ename": "NameError",
     "evalue": "name 'pi' is not defined",
     "output_type": "error",
     "traceback": [
      "\u001b[1;31m---------------------------------------------------------------------------\u001b[0m",
      "\u001b[1;31mNameError\u001b[0m                                 Traceback (most recent call last)",
      "\u001b[1;32m~\\AppData\\Local\\Temp\\ipykernel_1020\\2493917274.py\u001b[0m in \u001b[0;36m<module>\u001b[1;34m\u001b[0m\n\u001b[1;32m----> 1\u001b[1;33m \u001b[0mprint\u001b[0m\u001b[1;33m(\u001b[0m\u001b[0mpi\u001b[0m\u001b[1;33m)\u001b[0m\u001b[1;33m\u001b[0m\u001b[1;33m\u001b[0m\u001b[0m\n\u001b[0m",
      "\u001b[1;31mNameError\u001b[0m: name 'pi' is not defined"
     ]
    }
   ],
   "source": [
    "print(pi)"
   ]
  },
  {
   "cell_type": "markdown",
   "metadata": {},
   "source": [
    "- Cependant, il existe un module appelé `math` qui contient ce nombre $\\pi$: `pi`. D'ailleurs, le module math contient plusieurs fonctionnalités liées aux mathématiques. Voici plusieurs techniques pour utiliser les fonction (généralement les objets) d'un module (importation):"
   ]
  },
  {
   "cell_type": "code",
   "execution_count": 2,
   "metadata": {},
   "outputs": [
    {
     "name": "stdout",
     "output_type": "stream",
     "text": [
      "3.141592653589793\n"
     ]
    }
   ],
   "source": [
    "# importer le module\n",
    "import math\n",
    "# utiliser le point après le nom du module puis l'objet que l'on veut dans ce module\n",
    "print(math.pi)"
   ]
  },
  {
   "cell_type": "code",
   "execution_count": 3,
   "metadata": {},
   "outputs": [
    {
     "name": "stdout",
     "output_type": "stream",
     "text": [
      "3.141592653589793\n"
     ]
    }
   ],
   "source": [
    "# importer le module sous un nom que l'on veut et l'utiliser dans le reste du programme\n",
    "import math as m\n",
    "print(m.pi)"
   ]
  },
  {
   "cell_type": "code",
   "execution_count": 4,
   "metadata": {},
   "outputs": [
    {
     "name": "stdout",
     "output_type": "stream",
     "text": [
      "3.141592653589793\n"
     ]
    }
   ],
   "source": [
    "# importer un objet spécifique depuis le module. On ne va pas utiliser le point (comme math.pi)\n",
    "from math import pi\n",
    "print(pi)\n"
   ]
  },
  {
   "cell_type": "code",
   "execution_count": 5,
   "metadata": {},
   "outputs": [
    {
     "name": "stdout",
     "output_type": "stream",
     "text": [
      "3.141592653589793\n"
     ]
    }
   ],
   "source": [
    "# importer un objet spécifique depuis le module sous un nom \n",
    "# que l'on veut et l'utiliser dans le reste du programme\n",
    "from math import pi as le_nombre_pi\n",
    "print(le_nombre_pi)\n"
   ]
  },
  {
   "cell_type": "code",
   "execution_count": 6,
   "metadata": {},
   "outputs": [
    {
     "name": "stdout",
     "output_type": "stream",
     "text": [
      "1.7724538509055159\n"
     ]
    }
   ],
   "source": [
    "# importer plusieurs objets depuis le module\n",
    "from math import pi, sqrt # sqrt est un fonction dans math qui calcul la racine carrée d'un nombre\n",
    "print(sqrt(pi))\n"
   ]
  },
  {
   "cell_type": "markdown",
   "metadata": {},
   "source": [
    "Finalement, on peut aussi faire :\n",
    "```python\n",
    "# importer tous les éléments du module avec *\n",
    "from math import *\n",
    "print(pi)\n",
    "```\n",
    "Mais il est déconseillé d'utiliser cette méthode pour ne pas avoir des chevauchement avec des objets dans un autre module."
   ]
  },
  {
   "cell_type": "markdown",
   "metadata": {},
   "source": [
    "Il existe une panoplie de modules que nous serons souvent amenés à utiliser en programmant en Python. Un échantillon est le suivant :\n",
    "\n",
    "- `math` : plusieurs fonctions et constantes mathématiques de base (`sin`, `cos`, `exp`, $\\pi$...).\n",
    "- `sys` : interaction avec l'interpréteur Python.\n",
    "- `os` : interaction avec le système d'exploitation.\n",
    "- `random` : simulation et génération de nombres aléatoires.\n",
    "- `numpy`: plusieurs fonctions mathématiques complètes, des générateurs de nombres aléatoires, veteurs, matrices, algèbre linéaire,...\n",
    "- `matplotlib`: un module pour la visualisation des données.\n",
    "- `time` : accès à l'heure de l'ordinateur et aux fonctions gérant le temps.\n",
    "- `urllib` : récupération de données sur internet depuis Python.\n",
    "- `re` : manipulation des expressions régulières."
   ]
  },
  {
   "cell_type": "markdown",
   "metadata": {},
   "source": [
    "## Création d'un module\n",
    "\n",
    "En Python, la création d'un module est simple. Il suffit d'écrire un ensemble de fonctions (et/ou de constantes) dans un fichier, puis d'enregistrer ce dernier avec une extension `.py`  Et voilà! Nous allons illustrer ça avec L'exemple suivant :\n",
    "- nous allons créer un module simple que nous enregistrerons sous le nom `mon_module.py`\n",
    "\n",
    "- le fichier `mon_module.py` contient le code suivant :\n",
    "```python\n",
    "\"\"\"L module suivant contient des fonctions pour \n",
    "addition, multiplication, soustraction et \n",
    "Une chaine de caractères\"\"\"\n",
    "message = \"bonjour tout le monde\"\n",
    "pi = 3.14\n",
    "def addition(x, y):\n",
    "    \"\"\"Cette fonction fait permet de \n",
    "    claculer la somme de deux nombres\"\"\"\n",
    "    return x+y  \n",
    "def multip(x, y):\n",
    "    \"\"\"Cette fonction fait permet de \n",
    "    claculer la multiplication de deux nombres\"\"\"\n",
    "    return x*y\n",
    "def soustra(x,y):\n",
    "    \"\"\"Cette fonction fait permet de \n",
    "    claculer la soustraction de deux nombres\"\"\"\n",
    "    return x-y\n",
    "```"
   ]
  },
  {
   "cell_type": "markdown",
   "metadata": {},
   "source": [
    "Pour importer ce fichier, nous allons utiliser `import`:"
   ]
  },
  {
   "cell_type": "code",
   "execution_count": 7,
   "metadata": {},
   "outputs": [],
   "source": [
    "import mon_module"
   ]
  },
  {
   "cell_type": "markdown",
   "metadata": {},
   "source": [
    "Nous pouvons maintenant utiliser toute les fonctions et constantes dans ce module. Pour savoir les composante de ce module, on peut utiliser la fonction `help()`.\n",
    "\n",
    "_NB: Les chaînes de caractères entre triple guillemets `\"\"\" \"\"\"` en tête du module et en tête de chaque fonction sont facultatives mais elles jouent néanmoins un rôle essentiel dans la documentation du code."
   ]
  },
  {
   "cell_type": "code",
   "execution_count": 8,
   "metadata": {},
   "outputs": [
    {
     "name": "stdout",
     "output_type": "stream",
     "text": [
      "Help on module mon_module:\n",
      "\n",
      "NAME\n",
      "    mon_module\n",
      "\n",
      "DESCRIPTION\n",
      "    L module suivant contient des fonctions pour \n",
      "    addition, multiplication, soustraction et \n",
      "    une chaine de characteres\n",
      "\n",
      "FUNCTIONS\n",
      "    addition(x, y)\n",
      "        Cette fonction fait permet de \n",
      "        claculer la somme de deux nombres\n",
      "    \n",
      "    multip(x, y)\n",
      "        Cette fonction fait permet de \n",
      "        claculer la multiplication de deux nombres\n",
      "    \n",
      "    soustra(x, y)\n",
      "        Cette fonction fait permet de \n",
      "        claculer la soustraction de deux nombres\n",
      "\n",
      "DATA\n",
      "    message = 'bonjour tout le monde'\n",
      "    pi = 3.14\n",
      "\n",
      "FILE\n",
      "    c:\\users\\usr\\documents\\pyintro\\courspython\\mon_module.py\n",
      "\n",
      "\n",
      "None\n"
     ]
    }
   ],
   "source": [
    "print(help(mon_module))"
   ]
  },
  {
   "cell_type": "markdown",
   "metadata": {},
   "source": [
    "Les chaines de caractères susmentionné sont dites `docstrings` (chaînes de documentation). Ces `docstrings` (comme nous nous avons vu dans `help(mon_module)`) permettent notamment de fournir de l'aide lorsqu'on invoque la commande `help()`.\n",
    "Pour utiliser une fonction dans le module `mon_module`, on procède comme dans le cas des modules qui existent déjà dans python (comme `math` que nous avons vu). Supposons que nous voulons utiliser les fonctions `addtion`, `multip`, et `soustra` qui existe dans `code1` pour les valeurs 5 et 10 et nous voulons utiliser la constante `pi ` :\n"
   ]
  },
  {
   "cell_type": "code",
   "execution_count": 9,
   "metadata": {
    "scrolled": true
   },
   "outputs": [
    {
     "name": "stdout",
     "output_type": "stream",
     "text": [
      "15\n",
      "50\n",
      "-5\n",
      "3.14\n"
     ]
    }
   ],
   "source": [
    "print(mon_module.addition(5, 10))\n",
    "print(mon_module.multip(5, 10))\n",
    "print(mon_module.soustra(5, 10))\n",
    "print(mon_module.pi)"
   ]
  },
  {
   "cell_type": "markdown",
   "metadata": {},
   "source": [
    "## Bonnes pratiques en programmation Python\n",
    "Les bonnes pratiques en programmation Python sont résumées dans un module qui s'appelle `this`. Nous allons l'importer."
   ]
  },
  {
   "cell_type": "code",
   "execution_count": 10,
   "metadata": {},
   "outputs": [
    {
     "name": "stdout",
     "output_type": "stream",
     "text": [
      "The Zen of Python, by Tim Peters\n",
      "\n",
      "Beautiful is better than ugly.\n",
      "Explicit is better than implicit.\n",
      "Simple is better than complex.\n",
      "Complex is better than complicated.\n",
      "Flat is better than nested.\n",
      "Sparse is better than dense.\n",
      "Readability counts.\n",
      "Special cases aren't special enough to break the rules.\n",
      "Although practicality beats purity.\n",
      "Errors should never pass silently.\n",
      "Unless explicitly silenced.\n",
      "In the face of ambiguity, refuse the temptation to guess.\n",
      "There should be one-- and preferably only one --obvious way to do it.\n",
      "Although that way may not be obvious at first unless you're Dutch.\n",
      "Now is better than never.\n",
      "Although never is often better than *right* now.\n",
      "If the implementation is hard to explain, it's a bad idea.\n",
      "If the implementation is easy to explain, it may be a good idea.\n",
      "Namespaces are one honking great idea -- let's do more of those!\n"
     ]
    }
   ],
   "source": [
    "import this"
   ]
  }
 ],
 "metadata": {
  "kernelspec": {
   "display_name": "Python 3 (ipykernel)",
   "language": "python",
   "name": "python3"
  },
  "language_info": {
   "codemirror_mode": {
    "name": "ipython",
    "version": 3
   },
   "file_extension": ".py",
   "mimetype": "text/x-python",
   "name": "python",
   "nbconvert_exporter": "python",
   "pygments_lexer": "ipython3",
   "version": "3.7.3"
  },
  "widgets": {
   "application/vnd.jupyter.widget-state+json": {
    "state": {},
    "version_major": 2,
    "version_minor": 0
   }
  }
 },
 "nbformat": 4,
 "nbformat_minor": 4
}
