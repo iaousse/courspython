{
 "cells": [
  {
   "cell_type": "markdown",
   "metadata": {},
   "source": [
    "# Essayez vous-même !\n",
    "\n",
    "<hr style=\"border:2px solid gray\"> </hr>\n",
    "\n",
    "## Exercice 1. \n",
    "Ecrire une procédure dont on passe le nom et l’âge et affiche le message suivant : `Bonjour nom, vous avez age ans.`.\n",
    "\n",
    "Appeler la fonction en passant votre nom et votre âge comme arguments."
   ]
  },
  {
   "cell_type": "code",
   "execution_count": 1,
   "metadata": {},
   "outputs": [
    {
     "name": "stdout",
     "output_type": "stream",
     "text": [
      "Bonjour Iyad, vous avez 2 ans.\n",
      "None\n"
     ]
    }
   ],
   "source": [
    "def nom_age(nom, age):\n",
    "    print(f'Bonjour {nom}, vous avez {age} ans.')\n",
    "    \n",
    "print(nom_age(\"Iyad\", 2))"
   ]
  },
  {
   "cell_type": "markdown",
   "metadata": {},
   "source": [
    "<hr style=\"border:2px solid gray\"> </hr>\n",
    "\n",
    "## Exercice 2. \n",
    "Ecrire une fonction `somme_carree` qui prend deux arguments `a` et `b`. Dans cette fonction créer deux autres fonctions `somme` et `carree` telles que :\n",
    "- `somme` permet de calculer la somme de deux nombres,\n",
    "- `carree` qui permet de calculer le carré d'un nombre\n",
    "\n",
    "La somme de deux nombres. la fonction doit utiliser `somme` et `carree` pour retourner la somme des carrés de `a` et `b` ($a^2 + b^2$)."
   ]
  },
  {
   "cell_type": "code",
   "execution_count": 2,
   "metadata": {},
   "outputs": [
    {
     "name": "stdout",
     "output_type": "stream",
     "text": [
      "13\n"
     ]
    }
   ],
   "source": [
    "def somme_carree(a, b):\n",
    "    def somme(a, b):\n",
    "        return a+b\n",
    "    def carree(a):\n",
    "        return a**2\n",
    "    return somme(carree(a), carree(b))\n",
    "print(somme_carree(2, 3))"
   ]
  },
  {
   "cell_type": "markdown",
   "metadata": {},
   "source": [
    "<hr style=\"border:2px solid gray\"> </hr>\n",
    "\n",
    "## Exercice 3. \n",
    "Ecrire une fonction qui permet de résoudre Exercice 3 dans le chapitre précédant: retourne le nombre de lettres, de chiffres et symbole dans une chaine de caractères. Utiliser `'my_n@me%is$meth0s!'` pour l'appeler.\n"
   ]
  },
  {
   "cell_type": "code",
   "execution_count": 3,
   "metadata": {},
   "outputs": [
    {
     "name": "stdout",
     "output_type": "stream",
     "text": [
      "le nombre de lettres est : 12\n",
      "le nombre de chiffres est : 5\n",
      "le nombre de symbole est:1\n"
     ]
    }
   ],
   "source": [
    "def compter_chaine(chaine):\n",
    "    nombre = lettre = symbole = 0\n",
    "    for char in chaine:\n",
    "        if char.isdigit():\n",
    "            nombre += 1\n",
    "        elif char.isalpha():\n",
    "            lettre += 1\n",
    "        else:\n",
    "            symbole += 1\n",
    "    return lettre, symbole, nombre\n",
    "\n",
    "chaine = 'my_n@me%is$meth0s!'\n",
    "lettre, nombre, symbole = compter_chaine(chaine)\n",
    "print(f'le nombre de lettres est : {lettre}\\nle nombre de chiffres est : {nombre}\\nle nombre de symbole est:{symbole}')"
   ]
  },
  {
   "cell_type": "markdown",
   "metadata": {},
   "source": [
    "<hr style=\"border:2px solid gray\"> </hr>\n",
    "\n",
    "## Exercice 4. \n",
    "Ecrire une fonction récursive qui permet de calculer le factoriel d'un nombre."
   ]
  },
  {
   "cell_type": "code",
   "execution_count": 4,
   "metadata": {},
   "outputs": [
    {
     "name": "stdout",
     "output_type": "stream",
     "text": [
      "3628800\n"
     ]
    }
   ],
   "source": [
    "def fact(n):\n",
    "    if n == 1:\n",
    "        return 1\n",
    "    else:\n",
    "        return n*fact(n-1)\n",
    "    \n",
    "print(fact(10))"
   ]
  },
  {
   "cell_type": "markdown",
   "metadata": {},
   "source": [
    "<hr style=\"border:2px solid gray\"> </hr>\n",
    "\n",
    "## Exercice 5. \n",
    "Ecrire une fonction récursive qui permet de calculer la suite de Fibonacci. Afficher les 10 premiers éléments de cette suite.\n"
   ]
  },
  {
   "cell_type": "code",
   "execution_count": 5,
   "metadata": {},
   "outputs": [
    {
     "name": "stdout",
     "output_type": "stream",
     "text": [
      "0\n",
      "1\n",
      "1\n",
      "2\n",
      "3\n",
      "5\n",
      "8\n",
      "13\n",
      "21\n",
      "34\n",
      "55\n",
      "89\n"
     ]
    }
   ],
   "source": [
    "def fibonaci(n):\n",
    "    if n == 1:\n",
    "        return 0\n",
    "    elif n == 2:\n",
    "        return 1\n",
    "    else:\n",
    "        return fibonaci(n-1)+fibonaci(n-2)\n",
    "\n",
    "    \n",
    "for i in range(1, 13):\n",
    "    print(fibonaci(i))"
   ]
  },
  {
   "cell_type": "markdown",
   "metadata": {},
   "source": [
    "<hr style=\"border:2px solid gray\"> </hr>\n",
    "\n",
    "## Exercice 6. \n",
    "Importer `sin`,  `cos`, `tan`, et `pi` depuis le module `math` et calculer:\n",
    "- sin(0)\n",
    "- cos(0)\n",
    "- tan(0)\n",
    "- sin(pi/2)\n",
    "- cos(pi/2)\n",
    "- tan(pi/2)\n",
    "- sin(pi)\n",
    "- cos(pi)\n",
    "- tan(pi)\n"
   ]
  },
  {
   "cell_type": "code",
   "execution_count": 6,
   "metadata": {},
   "outputs": [
    {
     "name": "stdout",
     "output_type": "stream",
     "text": [
      "0.0\n",
      "1.0\n",
      "0.0\n",
      "1.0\n",
      "6.123233995736766e-17\n",
      "1.633123935319537e+16\n",
      "1.2246467991473532e-16\n",
      "-1.0\n",
      "-1.2246467991473532e-16\n"
     ]
    }
   ],
   "source": [
    "from math import sin, cos, tan, pi\n",
    "print(sin(0))\n",
    "print(cos(0))\n",
    "print(tan(0))\n",
    "print(sin(pi/2))\n",
    "print(cos(pi/2))\n",
    "print(tan(pi/2))\n",
    "print(sin(pi))\n",
    "print(cos(pi))\n",
    "print(tan(pi))"
   ]
  },
  {
   "cell_type": "markdown",
   "metadata": {},
   "source": [
    "<hr style=\"border:2px solid gray\"> </hr>\n",
    "\n",
    "## Exercice 7. \n",
    "Soit l'expérience suivante : On jette deux et on note le résultat de chaque dé. Quelle est la probabilité que les deux nombres obtenus sont égaux ?\n",
    "Mathématiquement le résultat est : $\\dfrac{6}{36}\\approx 0.1666666... \\approx 0.167 \\approx 0.17$.\n",
    "\n",
    "On veut réaliser une simulation avec python pour savoir si l'on peut la calculer avec des nombres aléatoires.\n",
    "\n",
    "Pour ce faire, créer le fichier python `generateur.py`tel que :\n",
    "- fonction `lancer_des` qui permet de simuler le lancer de deux dés simultanément.\n",
    "- une fonction `test` qui permet de tester si le résultat des deux dés sont égaux.\n",
    "- une fonction `simulation` qui permet de calculer la proportion des expériences avec les nombres affiches dans les dés égaux dans le nombre total d'expériences.\n",
    "\n",
    "Importer les fonctions depuis `generateur.py` et :\n",
    "1. afficher le résultat de 10 expériences du lancer des deux dés.\n",
    "2. tester pour 10 expériences si le nombre dans le premier dés égale au nombre dans le deuxième de.\n",
    "3. calculer les probabilités pour 1, 10, 20, 100, 1000, 5000, 10000 et 100000 expériences."
   ]
  },
  {
   "cell_type": "code",
   "execution_count": 15,
   "metadata": {},
   "outputs": [
    {
     "name": "stdout",
     "output_type": "stream",
     "text": [
      "6 3 False\n",
      "3 2 False\n",
      "4 4 True\n",
      "3 1 False\n",
      "3 3 True\n",
      "3 3 True\n",
      "1 6 False\n",
      "4 3 False\n",
      "2 6 False\n",
      "1 5 False\n",
      "0.0\n",
      "0.1\n",
      "0.1\n",
      "0.18\n",
      "0.173\n",
      "0.1614\n",
      "0.1668\n",
      "0.16752\n"
     ]
    }
   ],
   "source": [
    "import generateur\n",
    "for i in range(10):\n",
    "    de1, de2 = generateur.lancer_des()\n",
    "    print(de1, de2, generateur.test(de1, de2))\n",
    "\n",
    "liste = [1, 10, 20, 100, 1000, 5000, 10000, 100000]\n",
    "for i in liste:\n",
    "    print(generateur.simulation(i))"
   ]
  }
 ],
 "metadata": {
  "kernelspec": {
   "display_name": "Python 3 (ipykernel)",
   "language": "python",
   "name": "python3"
  },
  "language_info": {
   "codemirror_mode": {
    "name": "ipython",
    "version": 3
   },
   "file_extension": ".py",
   "mimetype": "text/x-python",
   "name": "python",
   "nbconvert_exporter": "python",
   "pygments_lexer": "ipython3",
   "version": "3.7.3"
  },
  "widgets": {
   "application/vnd.jupyter.widget-state+json": {
    "state": {},
    "version_major": 2,
    "version_minor": 0
   }
  }
 },
 "nbformat": 4,
 "nbformat_minor": 4
}
