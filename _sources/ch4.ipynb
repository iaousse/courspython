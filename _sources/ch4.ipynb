{
 "cells": [
  {
   "cell_type": "markdown",
   "metadata": {
    "tags": []
   },
   "source": [
    "# Manipulation des listes et tuples\n",
    "\n",
    ":::{admonition} Rappel sur les listes\n",
    "\n",
    "Nous avons vu que :\n",
    "- En Python, une liste est créée en plaçant des éléments entre crochets `[]` , séparés par des virgules(`,`);\n",
    "- Les éléments de la liste peuvent d'être des objets différents,\n",
    "- Une liste vide est une list qui contient 0 élément (`[]` ou `list()`);\n",
    "- Pour créer une liste et l'affecter a une variable :\n",
    "\n",
    "```python\n",
    "une_liste = [1, 'bonjour', 4.5, True]\n",
    "```\n",
    "\n",
    ":::\n",
    "\n",
    ":::{admonition} Tuples\n",
    "\n",
    "Les tuples (ou encore uplets) sont des types construits. Tout comme les listes, les tuples sont une collection ordonnée d'éléments.\n",
    "- En Python, un tuple est créée en plaçant des éléments entre parentheses `()` , séparés par des virgules(`,`);\n",
    "- Un tuple vide est un tuple qui contient 0 élément (`()` ou `tuple()`);\n",
    "- Pour créer un tuple et l'affecter a une variable :\n",
    "\n",
    "```python\n",
    "un_tuple = (1, 'bonjour', 4.5, True)\n",
    "```\n",
    "\n",
    ":::\n",
    "\n"
   ]
  },
  {
   "cell_type": "markdown",
   "metadata": {},
   "source": [
    "## Opérations sur les listes et les tuples\n",
    "\n",
    "Tout comme les chaines de caractères, on peut réaliser quelques opérations sur les listes (tuples). Par exemple, pour concaténer deux listes (deux tuples), on utilise `+`(`liste1+liste2` ou `tuple1+tuple2`), pour répéter une liste (un tuple) n fois, on multiplie n par la liste/tuple (`n*liste` ou `n*tuple`).\n"
   ]
  },
  {
   "cell_type": "code",
   "execution_count": 17,
   "metadata": {},
   "outputs": [
    {
     "name": "stdout",
     "output_type": "stream",
     "text": [
      "[1, 'bonjour', 4.5, True, 2, 4.5, 'tout le monde', False]\n",
      "[1, 'bonjour', 4.5, True, 1, 'bonjour', 4.5, True, 1, 'bonjour', 4.5, True, 1, 'bonjour', 4.5, True]\n"
     ]
    }
   ],
   "source": [
    "une_liste = [1, 'bonjour', 4.5, True]\n",
    "autre_liste = [2, 4.5, 'tout le monde', False]\n",
    "print(une_liste+ autre_liste)\n",
    "print(une_liste*4)"
   ]
  },
  {
   "cell_type": "code",
   "execution_count": 18,
   "metadata": {},
   "outputs": [
    {
     "name": "stdout",
     "output_type": "stream",
     "text": [
      "(1, 'bonjour', 4.5, True, 2, 4.5, 'tout le monde', False)\n",
      "(1, 'bonjour', 4.5, True, 1, 'bonjour', 4.5, True, 1, 'bonjour', 4.5, True, 1, 'bonjour', 4.5, True)\n"
     ]
    }
   ],
   "source": [
    "un_tuple = (1, 'bonjour', 4.5, True)\n",
    "autre_tuple = (2, 4.5, 'tout le monde', False)\n",
    "print(un_tuple+ autre_tuple)\n",
    "print(un_tuple*4)            "
   ]
  },
  {
   "cell_type": "markdown",
   "metadata": {},
   "source": [
    "Une listes/un tuples est une séquence d'objets quelconques. Chacun de ceux-ci occupe une place précise dans cette séquence. Pour extraire un élément spécifique d'une liste/tuple, on utilise `[]`. Voici quelques exemple en utilisant `une_liste = [1, 'bonjour', 4.5, True]`. Nous utilisons aussi les indices négatifs : -1 désignera le dernier caractère, -2 l'avant dernier, et ainsi de suite. Nous utilisons le `slicing` aussi de la même manière que les chaines.\n",
    "```{warning}\n",
    "Tout comme le cas des `strings`, l'élément ayant premier indice est inclus. Cependant, **l'élément ayant le dernier indice n'est pas inclus !!**. Si l'on veut, par exemple les trois premiers éléments, on doit indiquer 0 et 4 entre `[]` (`[0:4]`).\n",
    "- Si l'on veut les `n` premiers éléments : `[:n+1]`\n",
    "- Si l'on veut les éléments a partir de l'indice `n` jusqu'a la fin de la liste : `[n:]`\n",
    "```\n"
   ]
  },
  {
   "cell_type": "code",
   "execution_count": 10,
   "metadata": {},
   "outputs": [
    {
     "name": "stdout",
     "output_type": "stream",
     "text": [
      "1\n",
      "bonjour\n",
      "True\n",
      "4.5\n",
      "[]\n",
      "['bonjour', 4.5]\n",
      "[1, 'bonjour', 4.5]\n",
      "[4.5, True]\n",
      "[1, 'bonjour', 4.5, True]\n"
     ]
    }
   ],
   "source": [
    "une_liste = [1, 'bonjour', 4.5, True]\n",
    "print(une_liste[0])\n",
    "print(une_liste[1])\n",
    "\n",
    "print(une_liste[-1])\n",
    "print(une_liste[-2])\n",
    "\n",
    "print(une_liste[0:0])\n",
    "print(une_liste[1:3])\n",
    "\n",
    "print(une_liste[:3])\n",
    "print(une_liste[2:])\n",
    "\n",
    "print(une_liste[:])"
   ]
  },
  {
   "cell_type": "code",
   "execution_count": 19,
   "metadata": {},
   "outputs": [
    {
     "name": "stdout",
     "output_type": "stream",
     "text": [
      "1\n",
      "bonjour\n",
      "True\n",
      "4.5\n",
      "()\n",
      "('bonjour', 4.5)\n",
      "(1, 'bonjour', 4.5)\n",
      "(4.5, True)\n",
      "(1, 'bonjour', 4.5, True)\n"
     ]
    }
   ],
   "source": [
    "un_tuple = (1, 'bonjour', 4.5, True)\n",
    "print(un_tuple[0])\n",
    "print(un_tuple[1])\n",
    "\n",
    "print(un_tuple[-1])\n",
    "print(un_tuple[-2])\n",
    "\n",
    "print(un_tuple[0:0])\n",
    "print(un_tuple[1:3])\n",
    "\n",
    "print(un_tuple[:3])\n",
    "print(un_tuple[2:])\n",
    "\n",
    "print(un_tuple[:])"
   ]
  },
  {
   "cell_type": "markdown",
   "metadata": {},
   "source": [
    "La fonction intégrée `len()` est aussi applicable pour les listes et les tuples. Si l'on désire déterminer le nombre d’éléments :"
   ]
  },
  {
   "cell_type": "code",
   "execution_count": 20,
   "metadata": {},
   "outputs": [
    {
     "name": "stdout",
     "output_type": "stream",
     "text": [
      "4\n",
      "4\n"
     ]
    }
   ],
   "source": [
    "une_liste = [1, 'bonjour', 4.5, True]\n",
    "un_tuple = (1, 'bonjour', 4.5, True)\n",
    "print(len(une_liste))\n",
    "print(len(un_tuple))"
   ]
  },
  {
   "cell_type": "markdown",
   "metadata": {},
   "source": [
    "Les deux variables `une_liste` et `un_tuple` contiennent 4 éléments."
   ]
  },
  {
   "cell_type": "markdown",
   "metadata": {},
   "source": [
    "Si l'on veut tester l'appartenance d'un élément a une liste/tuple on utilise l'opérateur `in`. L'expression est la suivante : `element in liste`. Cela nous renvoi `True` si `element` est dans `liste`, sinon `False`. On peut aussi écrire `element not in liste` pour tester si l'élément n'est pas dans `liste` (`True`) ou s'il est dans `liste` (`False`). Voici quelques exemples :"
   ]
  },
  {
   "cell_type": "code",
   "execution_count": 22,
   "metadata": {},
   "outputs": [
    {
     "name": "stdout",
     "output_type": "stream",
     "text": [
      "True\n",
      "False\n",
      "True\n",
      "True\n"
     ]
    }
   ],
   "source": [
    "une_liste = [1, 'bonjour', 4.5, True]\n",
    "\n",
    "print(1 in une_liste)\n",
    "\n",
    "print(2 in une_liste)\n",
    "\n",
    "print('o' not in une_liste)\n",
    "\n",
    "print('x' not in une_liste)"
   ]
  },
  {
   "cell_type": "code",
   "execution_count": 23,
   "metadata": {},
   "outputs": [
    {
     "name": "stdout",
     "output_type": "stream",
     "text": [
      "True\n",
      "False\n",
      "True\n",
      "True\n"
     ]
    }
   ],
   "source": [
    "un_tuple = (1, 'bonjour', 4.5, True)\n",
    "\n",
    "print(1 in un_tuple)\n",
    "\n",
    "print(2 in un_tuple)\n",
    "\n",
    "print('o' not in un_tuple)\n",
    "\n",
    "print('x' not in un_tuple)"
   ]
  },
  {
   "cell_type": "markdown",
   "metadata": {},
   "source": [
    "## Quelle est la différence entre listes et tuples ?\n",
    "\n",
    "Les listes et les tuples sont pareils dans la plupart des contextes. Cependant, la différence primordiale entre les deux et que les listes sont des **objets mutables** (modifiables) alors que les tuples sont des **objets immuables** (ne sont pas modifiable). La question qui se pose est donc : qu'est-ce qu'un objet mutable et un objet immuable ?\n",
    "Parmi les objets immuables en python, on trouve :\n",
    "- Les nombres entiers (`int`)\n",
    "- Les nombres décimaux (`float`)\n",
    "- Les chaînes de caractères (`str`)\n",
    "- Les booléens (`bool`)\n",
    "- Les tuples (`tuple`)\n",
    "La plupart des autres objets que vous allez confronter en python sont mutables.\n",
    "\n",
    "Nous allons illustre ça dans les exemples suivants :\n",
    "1. nous allons créer les variables suivantes :\n",
    "- `var_chaine = \"bonjour tout le monde\"`, \n",
    "- `var_liste = [1, 2, True, 'bonjour']`,\n",
    "- `var_tuple = (1, 2, True, 'bonjour')`.\n",
    "2. nous allons essayer de changer (par exemple) le premier élément de chaque variable (par un autre élément).\n"
   ]
  },
  {
   "cell_type": "code",
   "execution_count": 26,
   "metadata": {},
   "outputs": [],
   "source": [
    "var_chaine = \"bonjour tout le monde\"\n",
    "var_liste = [1, 2, True, 'bonjour']\n",
    "var_tuple = (1, 2, True, 'bonjour')"
   ]
  },
  {
   "cell_type": "code",
   "execution_count": 29,
   "metadata": {},
   "outputs": [
    {
     "ename": "TypeError",
     "evalue": "'str' object does not support item assignment",
     "output_type": "error",
     "traceback": [
      "\u001b[1;31m---------------------------------------------------------------------------\u001b[0m",
      "\u001b[1;31mTypeError\u001b[0m                                 Traceback (most recent call last)",
      "\u001b[1;32m~\\AppData\\Local\\Temp\\ipykernel_232\\4274672008.py\u001b[0m in \u001b[0;36m<module>\u001b[1;34m\u001b[0m\n\u001b[1;32m----> 1\u001b[1;33m \u001b[0mvar_chaine\u001b[0m\u001b[1;33m[\u001b[0m\u001b[1;36m0\u001b[0m\u001b[1;33m]\u001b[0m \u001b[1;33m=\u001b[0m \u001b[1;34m'B'\u001b[0m\u001b[1;33m\u001b[0m\u001b[1;33m\u001b[0m\u001b[0m\n\u001b[0m\u001b[0;32m      2\u001b[0m \u001b[0mprint\u001b[0m\u001b[1;33m(\u001b[0m\u001b[0mvar_chaine\u001b[0m\u001b[1;33m)\u001b[0m\u001b[1;33m\u001b[0m\u001b[1;33m\u001b[0m\u001b[0m\n",
      "\u001b[1;31mTypeError\u001b[0m: 'str' object does not support item assignment"
     ]
    }
   ],
   "source": [
    "var_chaine[0] = 'B'\n",
    "print(var_chaine)"
   ]
  },
  {
   "cell_type": "code",
   "execution_count": 30,
   "metadata": {},
   "outputs": [
    {
     "name": "stdout",
     "output_type": "stream",
     "text": [
      "[3333, 2, True, 'bonjour']\n"
     ]
    }
   ],
   "source": [
    "var_liste[0] = 3333\n",
    "print(var_liste)"
   ]
  },
  {
   "cell_type": "code",
   "execution_count": 31,
   "metadata": {},
   "outputs": [
    {
     "ename": "TypeError",
     "evalue": "'tuple' object does not support item assignment",
     "output_type": "error",
     "traceback": [
      "\u001b[1;31m---------------------------------------------------------------------------\u001b[0m",
      "\u001b[1;31mTypeError\u001b[0m                                 Traceback (most recent call last)",
      "\u001b[1;32m~\\AppData\\Local\\Temp\\ipykernel_232\\613115800.py\u001b[0m in \u001b[0;36m<module>\u001b[1;34m\u001b[0m\n\u001b[1;32m----> 1\u001b[1;33m \u001b[0mvar_tuple\u001b[0m\u001b[1;33m[\u001b[0m\u001b[1;36m0\u001b[0m\u001b[1;33m]\u001b[0m \u001b[1;33m=\u001b[0m \u001b[1;36m3333\u001b[0m\u001b[1;33m\u001b[0m\u001b[1;33m\u001b[0m\u001b[0m\n\u001b[0m\u001b[0;32m      2\u001b[0m \u001b[0mprint\u001b[0m\u001b[1;33m(\u001b[0m\u001b[0mvar_tuple\u001b[0m\u001b[1;33m)\u001b[0m\u001b[1;33m\u001b[0m\u001b[1;33m\u001b[0m\u001b[0m\n",
      "\u001b[1;31mTypeError\u001b[0m: 'tuple' object does not support item assignment"
     ]
    }
   ],
   "source": [
    "var_tuple[0] = 3333\n",
    "print(var_tuple)"
   ]
  },
  {
   "cell_type": "markdown",
   "metadata": {},
   "source": [
    "Les listes ont une taille variable, les tuples et les chaines de caractères ont une taille fixe. Enfin, les listes ont plus de fonctionnalités que les tuples. Cependant, c'est le contexte qui nous force à utiliser les listes ou les tuples. Nous allons rencontrer plusieurs contextes ou on est amené a choisir l'un des deux types."
   ]
  },
  {
   "cell_type": "markdown",
   "metadata": {},
   "source": [
    "## Quelques méthodes utiles pour les listes et les tuples\n",
    "Dans cette section nous allons voir quelques `méthodes` pour les listes et/ou les tuples (les méthodes communes et les méthodes propres aux listes seulement). Les deux méthodes suivantes sont communes aux listes et au tuples :\n",
    "- `count` : cette méthode est utilisée pour compter le nombre d'éléments de la liste/tuple.\n",
    "- `index` : cette méthode est utilisée pour chercher une valeur spécifiée dans la liste/tuple et renvoie la position de l'endroit où il a été trouvé.\n"
   ]
  },
  {
   "cell_type": "code",
   "execution_count": 2,
   "metadata": {},
   "outputs": [
    {
     "name": "stdout",
     "output_type": "stream",
     "text": [
      "3\n",
      "1\n"
     ]
    }
   ],
   "source": [
    "var_liste = [1, 2, 2, True, 'bonjour', 2]\n",
    "var_tuple = (1, 2, 2, True, 'bonjour', 2)\n",
    "\n",
    "print(var_liste.count(2)) ## print(var_tuple.count(2))\n",
    "\n",
    "print(var_tuple.index(2))  ## print(var_tuple.index(2))"
   ]
  },
  {
   "cell_type": "code",
   "execution_count": 3,
   "metadata": {},
   "outputs": [
    {
     "ename": "ValueError",
     "evalue": "tuple.index(x): x not in tuple",
     "output_type": "error",
     "traceback": [
      "\u001b[1;31m---------------------------------------------------------------------------\u001b[0m",
      "\u001b[1;31mValueError\u001b[0m                                Traceback (most recent call last)",
      "\u001b[1;32m~\\AppData\\Local\\Temp\\ipykernel_6156\\1866645683.py\u001b[0m in \u001b[0;36m<module>\u001b[1;34m\u001b[0m\n\u001b[1;32m----> 1\u001b[1;33m \u001b[0mprint\u001b[0m\u001b[1;33m(\u001b[0m\u001b[0mvar_tuple\u001b[0m\u001b[1;33m.\u001b[0m\u001b[0mindex\u001b[0m\u001b[1;33m(\u001b[0m\u001b[1;36m44\u001b[0m\u001b[1;33m)\u001b[0m\u001b[1;33m)\u001b[0m\u001b[1;33m\u001b[0m\u001b[1;33m\u001b[0m\u001b[0m\n\u001b[0m",
      "\u001b[1;31mValueError\u001b[0m: tuple.index(x): x not in tuple"
     ]
    }
   ],
   "source": [
    "print(var_tuple.index(44))"
   ]
  },
  {
   "cell_type": "markdown",
   "metadata": {},
   "source": [
    "Les méthodes décrites dans la table suivante sont appliquées au lites seulement :\n",
    "\n",
    "\n",
    "| Méthode    | Description                                                                  |\n",
    "|-----------|------------------------------------------------------------------------------|\n",
    "| append()  | Ajoute un élément en fin de liste                                       |\n",
    "| clear()   | Supprime tous les éléments de la liste                                       |\n",
    "| copy()    | Renvoie une copie de la liste                                                   |\n",
    "| count()   | Renvoie le nombre d'éléments avec la valeur spécifiée                      |\n",
    "| extend()  | Ajouter les éléments d'une liste, à la fin de la liste actuelle |\n",
    "| index()   | Renvoie l'indice du premier élément avec la valeur spécifiée              |\n",
    "| insert()  | Ajoute un élément à la position spécifiée                                   |\n",
    "| pop()     | Supprime l'élément à la position spécifiée                                |\n",
    "| remove()  | Supprime le premier élément avec la valeur spécifiée                              |\n",
    "| reverse() | Inverse l'ordre de la liste                                               |\n",
    "| sort()    | Trie la liste                                                               |\n"
   ]
  },
  {
   "cell_type": "code",
   "execution_count": 40,
   "metadata": {},
   "outputs": [
    {
     "name": "stdout",
     "output_type": "stream",
     "text": [
      "['Janvier', 'Février', 'Février', 'Avril', 'bonjour', 'Mai', 'Juin', 'Juillet', 'Août', 'Septembre', 'Octobre', 'Novembre']\n"
     ]
    }
   ],
   "source": [
    "liste_mois1 = ['Janvier', 'Février', 'Février', 'Avril', 'bonjour', 'Mai',  'Juin',  'Juillet',  'Août', 'Septembre',  'Octobre',  'Novembre']\n",
    "print(liste_mois1)"
   ]
  },
  {
   "cell_type": "code",
   "execution_count": 41,
   "metadata": {},
   "outputs": [
    {
     "name": "stdout",
     "output_type": "stream",
     "text": [
      "['Janvier', 'Février', 'Février', 'Avril', 'bonjour', 'Mai', 'Juin', 'Juillet', 'Août', 'Septembre', 'Octobre', 'Novembre', 'Décembre']\n"
     ]
    }
   ],
   "source": [
    "liste_mois1.append('Décembre')\n",
    "print(liste_mois1)"
   ]
  },
  {
   "cell_type": "code",
   "execution_count": 42,
   "metadata": {},
   "outputs": [
    {
     "name": "stdout",
     "output_type": "stream",
     "text": [
      "['Janvier', 'Février', 'Février', 'Avril', 'bonjour', 'Mai', 'Juin', 'Juillet', 'Août', 'Septembre', 'Octobre', 'Novembre', 'Décembre']\n"
     ]
    }
   ],
   "source": [
    "liste_mois2 = liste_mois1.copy()\n",
    "\n",
    "print(liste_mois2)"
   ]
  },
  {
   "cell_type": "code",
   "execution_count": 43,
   "metadata": {},
   "outputs": [
    {
     "name": "stdout",
     "output_type": "stream",
     "text": [
      "[]\n"
     ]
    }
   ],
   "source": [
    "liste_mois1.clear()\n",
    "print(liste_mois1)"
   ]
  },
  {
   "cell_type": "code",
   "execution_count": 44,
   "metadata": {},
   "outputs": [
    {
     "data": {
      "text/plain": [
       "2"
      ]
     },
     "execution_count": 44,
     "metadata": {},
     "output_type": "execute_result"
    }
   ],
   "source": [
    "liste_mois2.count('Février')"
   ]
  },
  {
   "cell_type": "code",
   "execution_count": 45,
   "metadata": {},
   "outputs": [
    {
     "data": {
      "text/plain": [
       "1"
      ]
     },
     "execution_count": 45,
     "metadata": {},
     "output_type": "execute_result"
    }
   ],
   "source": [
    "liste_mois2.index('Février')"
   ]
  },
  {
   "cell_type": "code",
   "execution_count": 46,
   "metadata": {},
   "outputs": [
    {
     "data": {
      "text/plain": [
       "2"
      ]
     },
     "execution_count": 46,
     "metadata": {},
     "output_type": "execute_result"
    }
   ],
   "source": [
    "liste_mois2.index('Février', 2)"
   ]
  },
  {
   "cell_type": "code",
   "execution_count": 47,
   "metadata": {},
   "outputs": [
    {
     "name": "stdout",
     "output_type": "stream",
     "text": [
      "['Janvier', 'Février', 'Mars', 'Février', 'Avril', 'bonjour', 'Mai', 'Juin', 'Juillet', 'Août', 'Septembre', 'Octobre', 'Novembre', 'Décembre']\n"
     ]
    }
   ],
   "source": [
    "liste_mois2.insert(2, 'Mars')\n",
    "print(liste_mois2)"
   ]
  },
  {
   "cell_type": "code",
   "execution_count": 48,
   "metadata": {},
   "outputs": [
    {
     "name": "stdout",
     "output_type": "stream",
     "text": [
      "['Janvier', 'Février', 'Mars', 'Avril', 'bonjour', 'Mai', 'Juin', 'Juillet', 'Août', 'Septembre', 'Octobre', 'Novembre', 'Décembre']\n"
     ]
    }
   ],
   "source": [
    "liste_mois2.pop(3)\n",
    "print(liste_mois2)"
   ]
  },
  {
   "cell_type": "code",
   "execution_count": 49,
   "metadata": {},
   "outputs": [
    {
     "name": "stdout",
     "output_type": "stream",
     "text": [
      "['Janvier', 'Février', 'Mars', 'Avril', 'Mai', 'Juin', 'Juillet', 'Août', 'Septembre', 'Octobre', 'Novembre', 'Décembre']\n"
     ]
    }
   ],
   "source": [
    "liste_mois2.remove('bonjour')\n",
    "print(liste_mois2)"
   ]
  },
  {
   "cell_type": "code",
   "execution_count": 50,
   "metadata": {},
   "outputs": [
    {
     "name": "stdout",
     "output_type": "stream",
     "text": [
      "['Décembre', 'Novembre', 'Octobre', 'Septembre', 'Août', 'Juillet', 'Juin', 'Mai', 'Avril', 'Mars', 'Février', 'Janvier']\n"
     ]
    }
   ],
   "source": [
    "liste_mois2.reverse()\n",
    "print(liste_mois2)"
   ]
  },
  {
   "cell_type": "code",
   "execution_count": 51,
   "metadata": {},
   "outputs": [
    {
     "name": "stdout",
     "output_type": "stream",
     "text": [
      "['Août', 'Avril', 'Décembre', 'Février', 'Janvier', 'Juillet', 'Juin', 'Mai', 'Mars', 'Novembre', 'Octobre', 'Septembre']\n"
     ]
    }
   ],
   "source": [
    "liste_mois2.sort()\n",
    "print(liste_mois2)"
   ]
  },
  {
   "cell_type": "markdown",
   "metadata": {},
   "source": [
    "## Slicing\n",
    "Dans cette partie nous allons quelques techniques de `slicing` avec des exemples. Cette technique peut être appliquée sur toute séquence ordonnée (liste, tuples, chaine de caractères). Voici une illustration pour le cas d'une liste (la même logique pour toute séquence ordonnée) :\n",
    "\n",
    ":::{figure-md} markdown-fig3\n",
    "<img src=\"slicing.PNG\" alt=\"interpwin\" class=\"bg-primary mb-1\" width=\"400px\">\n",
    "\n",
    "La position des éléments dans une liste\n",
    ":::\n",
    "\n",
    "- Tous les éléments `[:]` :\n"
   ]
  },
  {
   "cell_type": "code",
   "execution_count": 23,
   "metadata": {},
   "outputs": [
    {
     "name": "stdout",
     "output_type": "stream",
     "text": [
      "['Août', 'Avril', 'Décembre', 'Février', 'Janvier', 'Juillet', 'Juin', 'Mai', 'Mars', 'Novembre', 'Octobre', 'Septembre']\n"
     ]
    }
   ],
   "source": [
    "print(liste_mois2[:])"
   ]
  },
  {
   "cell_type": "markdown",
   "metadata": {},
   "source": [
    "- Obtenir tous les éléments après une position spécifique `[n:]` (n étant la position en comptant de gauche à droite en commençant par 0) ou `[-n:]` (n étant la position de droite à gauche en commençant par 1):"
   ]
  },
  {
   "cell_type": "code",
   "execution_count": 28,
   "metadata": {},
   "outputs": [
    {
     "name": "stdout",
     "output_type": "stream",
     "text": [
      "['Janvier', 'Juillet', 'Juin', 'Mai', 'Mars', 'Novembre', 'Octobre', 'Septembre']\n",
      "['Janvier', 'Juillet', 'Juin', 'Mai', 'Mars', 'Novembre', 'Octobre', 'Septembre']\n"
     ]
    }
   ],
   "source": [
    "print(liste_mois2[4:])\n",
    "print(liste_mois2[-8:])"
   ]
  },
  {
   "cell_type": "markdown",
   "metadata": {},
   "source": [
    "- Obtenir tous les éléments avant une position spécifique `[:n]`(n étant la position en comptant de gauche à droite en commençant par 0) ou `[:-n]` (n étant la position de droite à gauche en commençant par 1):"
   ]
  },
  {
   "cell_type": "code",
   "execution_count": 29,
   "metadata": {},
   "outputs": [
    {
     "name": "stdout",
     "output_type": "stream",
     "text": [
      "['Août', 'Avril', 'Décembre', 'Février']\n",
      "['Août', 'Avril', 'Décembre', 'Février']\n"
     ]
    }
   ],
   "source": [
    "print(liste_mois2[:4])\n",
    "print(liste_mois2[:-8])"
   ]
  },
  {
   "cell_type": "markdown",
   "metadata": {},
   "source": [
    "- Obtenir tous les éléments d'une position à une autre position `[m:n]` (m étant la position de départ et n la position finale (non inclus) en comptant de gauche à droite en commençant par 0) ou `[-m:-n]` (m étant la position de départ et n la position finale (non inclus) en comptant de droite à gauche en commençant par 1):"
   ]
  },
  {
   "cell_type": "code",
   "execution_count": 30,
   "metadata": {},
   "outputs": [
    {
     "name": "stdout",
     "output_type": "stream",
     "text": [
      "['Juillet', 'Juin', 'Mai', 'Mars', 'Novembre']\n",
      "['Juillet', 'Juin', 'Mai', 'Mars', 'Novembre']\n"
     ]
    }
   ],
   "source": [
    "print(liste_mois2[5:10])\n",
    "print(liste_mois2[-7:-2])"
   ]
  },
  {
   "cell_type": "markdown",
   "metadata": {},
   "source": [
    "- Obtenir tous les éléments d'une position à une autre position à des intervalles spécifiés `[m:n:k]`:"
   ]
  },
  {
   "cell_type": "code",
   "execution_count": 39,
   "metadata": {},
   "outputs": [
    {
     "name": "stdout",
     "output_type": "stream",
     "text": [
      "['Décembre', 'Janvier', 'Juin', 'Mars']\n",
      "['Novembre', 'Mars', 'Mai', 'Juin', 'Juillet', 'Janvier']\n",
      "['Novembre', 'Mars', 'Mai', 'Juin', 'Juillet', 'Janvier', 'Février']\n",
      "['Novembre', 'Mars', 'Mai', 'Juin', 'Juillet', 'Janvier', 'Février']\n"
     ]
    }
   ],
   "source": [
    "print(liste_mois2[2:10:2])\n",
    "print(liste_mois2[9:3:-1])\n",
    "print(liste_mois2[-3:-10:-1])\n",
    "print(liste_mois2[-3:-10:-1])"
   ]
  }
 ],
 "metadata": {
  "kernelspec": {
   "display_name": "Python 3 (ipykernel)",
   "language": "python",
   "name": "python3"
  },
  "language_info": {
   "codemirror_mode": {
    "name": "ipython",
    "version": 3
   },
   "file_extension": ".py",
   "mimetype": "text/x-python",
   "name": "python",
   "nbconvert_exporter": "python",
   "pygments_lexer": "ipython3",
   "version": "3.7.3"
  },
  "widgets": {
   "application/vnd.jupyter.widget-state+json": {
    "state": {},
    "version_major": 2,
    "version_minor": 0
   }
  }
 },
 "nbformat": 4,
 "nbformat_minor": 4
}
