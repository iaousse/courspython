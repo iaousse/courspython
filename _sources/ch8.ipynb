{
 "cells": [
  {
   "cell_type": "markdown",
   "metadata": {
    "tags": []
   },
   "source": [
    "# Les execptions\n",
    "\n",
    "## Dictionnaire (dictionnary)\n",
    "\n",
    "Contrairment au objets construits que nous avons vu (`strings`, `lists`, `tuples`), les dictionnaires (`dictionnary`) sont utilisés pour stocker des valeurs de données dans des paires clé:valeur. Un dictionnaire est une collection ordonnée , modifiable et qui n'autorise pas les doublons (Depuis la version 3.7 de Python, les dictionnaires demeurent ordonnés. Dans les versions antérieures (Python 3.6 et moins), les dictionnaires ne sont pas ordonnés).\n",
    "\n",
    "- Les dictionnaires sont écrits avec des accolades et ont des clés et des valeurs.  Pour creer un dictionnaire et l'affecter a une variable : \n",
    "```python\n",
    "var_dict = {cle_1: valeur_1, cle_2:valeur_2,...., cle_n:valeur_n}\n",
    "```\n",
    "- Un dictionnaire vide est un dictionnaire qui contient 0 element ({} ou dict());\n",
    "- Les dictionnaires sont **mutable**, on peut modifier leur contenu et leur taille.\n"
   ]
  },
  {
   "cell_type": "code",
   "execution_count": 3,
   "metadata": {},
   "outputs": [
    {
     "name": "stdout",
     "output_type": "stream",
     "text": [
      "<class 'dict'>\n",
      "{1: 'lundi', 2: 'mardi', 3: 'mercredi', 4: 'jeudi', 5: 'vendredi', 6: 'samedi', 7: 'dimanche'}\n"
     ]
    }
   ],
   "source": [
    "# dictionnaire vide\n",
    "var = {} # ou var = dict()\n",
    "print(type(var))\n",
    "les_jours = {1:\"lundi\", 2:\"mardi\", 3:\"mercredi\", 4:\"jeudi\", 5:\"vendredi\", 6:\"samedi\", 7:\"dimanche\"}\n",
    "print(les_jours)"
   ]
  },
  {
   "cell_type": "code",
   "execution_count": 4,
   "metadata": {},
   "outputs": [
    {
     "name": "stdout",
     "output_type": "stream",
     "text": [
      "{1: 'lundi', 2: 'mardi', 3: 'mercredi', 4: 'jeudi', 5: 'vendredi', 6: 'samedi', 7: 'dimanche'}\n"
     ]
    }
   ],
   "source": [
    "les_jours2 = {}\n",
    "\n",
    "les_jours2[1] = 'lundi'\n",
    "les_jours2[2] = 'mardi'\n",
    "les_jours2[3] = 'mercredi'\n",
    "les_jours2[4] = 'jeudi'\n",
    "les_jours2[5] = 'vendredi'\n",
    "les_jours2[6] = 'samedi'\n",
    "les_jours2[7] = 'dimanche'\n",
    "\n",
    "print(les_jours2)"
   ]
  },
  {
   "cell_type": "markdown",
   "metadata": {},
   "source": [
    "les cles et les valeurs peuvent etre de n'importe quel types de donnees. Par exemple on peut creer le dictionnaire suivant:"
   ]
  },
  {
   "cell_type": "code",
   "execution_count": 5,
   "metadata": {},
   "outputs": [
    {
     "name": "stdout",
     "output_type": "stream",
     "text": [
      "{'lundi': 1, 'mardi': 2, 'mercredi': 3, 'jeudi': 4, 'vendredi': 5, 'samedi': 6, 'dimanche': 7}\n"
     ]
    }
   ],
   "source": [
    "les_jours3 = {}\n",
    "\n",
    "les_jours3['lundi'] = 1\n",
    "les_jours3['mardi'] = 2\n",
    "les_jours3['mercredi'] = 3\n",
    "les_jours3['jeudi'] = 4\n",
    "les_jours3['vendredi'] = 5\n",
    "les_jours3['samedi'] = 6\n",
    "les_jours3['dimanche'] = 7\n",
    "\n",
    "print(les_jours3)"
   ]
  },
  {
   "cell_type": "markdown",
   "metadata": {},
   "source": [
    "Contrairment aux chaines de caracteres et aux listes, pour acceder a une valeur dans un dictionnaire nous deveons utiliser les cles. Par exemple, si nous voulons acceder a la valeur associee a la cle `jeudi` dans `les_jours3`, la maniere de le faire est la suivante:"
   ]
  },
  {
   "cell_type": "code",
   "execution_count": 8,
   "metadata": {},
   "outputs": [
    {
     "name": "stdout",
     "output_type": "stream",
     "text": [
      "4\n"
     ]
    }
   ],
   "source": [
    "print(les_jours3['jeudi'])"
   ]
  },
  {
   "cell_type": "markdown",
   "metadata": {},
   "source": [
    "Les dictionnaires ne peuvent pas avoir des cles dupliqee (les valeurs peuvent etre dupliquees). En effet, les valeurs en double écraseront les valeurs existantes. Illustrons ca avec l'exemple suivant:"
   ]
  },
  {
   "cell_type": "code",
   "execution_count": 10,
   "metadata": {},
   "outputs": [
    {
     "name": "stdout",
     "output_type": "stream",
     "text": [
      "{'lundi': 0, 'mardi': 2, 'mercredi': 3, 'jeudi': 4, 'vendredi': 5, 'samedi': 6, 'dimanche': 7}\n"
     ]
    }
   ],
   "source": [
    "les_jours4 = {}\n",
    "\n",
    "les_jours4['lundi'] = 0\n",
    "les_jours4['mardi'] = 1\n",
    "les_jours4['mardi'] = 2\n",
    "les_jours4['mercredi'] = 3\n",
    "les_jours4['jeudi'] = 4\n",
    "les_jours4['vendredi'] = 5\n",
    "les_jours4['samedi'] = 6\n",
    "les_jours4['dimanche'] = 7\n",
    "\n",
    "print(les_jours4)"
   ]
  },
  {
   "cell_type": "code",
   "execution_count": 11,
   "metadata": {},
   "outputs": [
    {
     "name": "stdout",
     "output_type": "stream",
     "text": [
      "{'lundi': 0, 'mardi': 0, 'mercredi': 0, 'jeudi': 5, 'vendredi': 0, 'samedi': 0, 'dimanche': 0}\n"
     ]
    }
   ],
   "source": [
    "les_jours5 = {}\n",
    "\n",
    "les_jours5['lundi'] = 0\n",
    "les_jours5['mardi'] = 0\n",
    "les_jours5['mercredi'] = 0\n",
    "les_jours5['jeudi'] = 5\n",
    "les_jours5['vendredi'] = 0\n",
    "les_jours5['samedi'] = 0\n",
    "les_jours5['dimanche'] = 0\n",
    "\n",
    "print(les_jours5)"
   ]
  },
  {
   "cell_type": "markdown",
   "metadata": {},
   "source": [
    "## Operations sur les dictionnaires\n",
    "\n",
    "Python possède un ensemble de méthodes intégrées que nous pouvons utiliser pour manipuler les dictionnaires:\n",
    "\n",
    "| Methode       | Description                                                                                                 |\n",
    "|--------------|-------------------------------------------------------------------------------------------------------------|\n",
    "| clear()      | Supprime tous les éléments du dictionnaire                                                                |\n",
    "| copy()       | Renvoie une copie du dictionnaire                                                                            |\n",
    "| fromkeys()   | Renvoie un dictionnaire avec les clés et la valeur spécifiées                                                      |\n",
    "| get()        | Renvoie la valeur de la clé spécifiée                                                                      |\n",
    "| items()      | Renvoie une liste contenant un tuple pour chaque paire clé-valeur                                                   |\n",
    "| keys()       | Retourne une liste contenant les clés du dictionnaire                                                             |\n",
    "| pop()        | Supprime l'élément avec la clé spécifiée                                                                  |\n",
    "| popitem()    | Supprime la dernière paire clé-valeur insérée                                                                   |\n",
    "| setdefault() | Renvoie la valeur de la clé spécifiée. Si la clé n'existe pas : insérez la clé, avec la valeur spécifiée |\n",
    "| update()     | Met à jour le dictionnaire avec les paires clé-valeur spécifiées                                                   |\n",
    "| values()     | Renvoie une liste de toutes les valeurs du dictionnaire                                                         |"
   ]
  },
  {
   "cell_type": "code",
   "execution_count": 46,
   "metadata": {},
   "outputs": [
    {
     "name": "stdout",
     "output_type": "stream",
     "text": [
      "{}\n"
     ]
    }
   ],
   "source": [
    "# clear\n",
    "les_jours.clear()\n",
    "\n",
    "print(les_jours)"
   ]
  },
  {
   "cell_type": "code",
   "execution_count": 47,
   "metadata": {},
   "outputs": [
    {
     "name": "stdout",
     "output_type": "stream",
     "text": [
      "{1: 'lundi', 2: 'mardi', 3: 'mercredi', 4: 'jeudi', 5: 'vendredi', 6: 'samedi', 7: 'dimanche'}\n"
     ]
    }
   ],
   "source": [
    "# copy\n",
    "les_jours2_copie = les_jours2.copy()\n",
    "\n",
    "print(les_jours2_copie)"
   ]
  },
  {
   "cell_type": "code",
   "execution_count": 48,
   "metadata": {},
   "outputs": [
    {
     "name": "stdout",
     "output_type": "stream",
     "text": [
      "{0: None, 1: None, 2: None, 3: None, 4: None, 5: None}\n"
     ]
    }
   ],
   "source": [
    "# fromkeys\n",
    "# creer un dictionnaire avec des cles mais pas de valeurs (None)\n",
    "\n",
    "cles = range(6)\n",
    "dict_vide = dict.fromkeys(cles)\n",
    "print(dict_vide)"
   ]
  },
  {
   "cell_type": "code",
   "execution_count": 49,
   "metadata": {},
   "outputs": [
    {
     "name": "stdout",
     "output_type": "stream",
     "text": [
      "{'a': 'voyelle', 'e': 'voyelle', 'i': 'voyelle', 'o': 'voyelle', 'u': 'voyelle', 'y': 'voyelle'}\n"
     ]
    }
   ],
   "source": [
    "# fromkeys\n",
    "# creer un dictionnaire avec des cles a la meme valeur\n",
    "var = ['a', 'e', 'i', 'o', 'u', 'y']\n",
    "valeur = 'voyelle'\n",
    "dict_voyelles = dict.fromkeys(var, valeur)\n",
    "\n",
    "print(dict_voyelles)"
   ]
  },
  {
   "cell_type": "code",
   "execution_count": 50,
   "metadata": {},
   "outputs": [
    {
     "name": "stdout",
     "output_type": "stream",
     "text": [
      "mercredi\n"
     ]
    }
   ],
   "source": [
    "# get\n",
    "print(les_jours2.get(3))"
   ]
  },
  {
   "cell_type": "code",
   "execution_count": 51,
   "metadata": {},
   "outputs": [
    {
     "name": "stdout",
     "output_type": "stream",
     "text": [
      "dict_items([(1, 'lundi'), (2, 'mardi'), (3, 'mercredi'), (4, 'jeudi'), (5, 'vendredi'), (6, 'samedi'), (7, 'dimanche')])\n"
     ]
    }
   ],
   "source": [
    "# items\n",
    "print(les_jours2.items())"
   ]
  },
  {
   "cell_type": "code",
   "execution_count": 54,
   "metadata": {},
   "outputs": [
    {
     "name": "stdout",
     "output_type": "stream",
     "text": [
      "dict_keys([1, 2, 3, 4, 5, 6, 7])\n"
     ]
    }
   ],
   "source": [
    "# keys\n",
    "print(les_jours2.keys())"
   ]
  },
  {
   "cell_type": "code",
   "execution_count": 55,
   "metadata": {},
   "outputs": [
    {
     "name": "stdout",
     "output_type": "stream",
     "text": [
      "dict_values(['lundi', 'mardi', 'mercredi', 'jeudi', 'vendredi', 'samedi', 'dimanche'])\n"
     ]
    }
   ],
   "source": [
    "# values\n",
    "print(les_jours2.values())"
   ]
  },
  {
   "cell_type": "code",
   "execution_count": 56,
   "metadata": {},
   "outputs": [
    {
     "name": "stdout",
     "output_type": "stream",
     "text": [
      "{1: 'lundi', 2: 'mardi', 3: 'mercredi', 5: 'vendredi', 6: 'samedi', 7: 'dimanche'}\n"
     ]
    }
   ],
   "source": [
    "# pop\n",
    "les_jours2.pop(4)\n",
    "\n",
    "print(les_jours2)"
   ]
  },
  {
   "cell_type": "code",
   "execution_count": 58,
   "metadata": {},
   "outputs": [
    {
     "name": "stdout",
     "output_type": "stream",
     "text": [
      "{1: 'lundi', 2: 'mardi', 3: 'mercredi', 5: 'vendredi', 6: 'samedi', 7: 'dimanche', 'la dirniere cles ajoutee': 'La valeur associee a la derniere cles'}\n"
     ]
    }
   ],
   "source": [
    "# popitem \n",
    "# inserer une cles-valeur arbitraire\n",
    "les_jours2['la dirniere cles ajoutee'] = 'La valeur associee a la derniere cles'\n",
    "\n",
    "print(les_jours2)"
   ]
  },
  {
   "cell_type": "code",
   "execution_count": 59,
   "metadata": {},
   "outputs": [
    {
     "name": "stdout",
     "output_type": "stream",
     "text": [
      "{1: 'lundi', 2: 'mardi', 3: 'mercredi', 5: 'vendredi', 6: 'samedi', 7: 'dimanche'}\n"
     ]
    }
   ],
   "source": [
    "# popitem\n",
    "les_jours2.popitem()\n",
    "\n",
    "print(les_jours2)"
   ]
  },
  {
   "cell_type": "code",
   "execution_count": 61,
   "metadata": {},
   "outputs": [
    {
     "name": "stdout",
     "output_type": "stream",
     "text": [
      "lundi\n",
      "{1: 'lundi', 2: 'mardi', 3: 'mercredi', 5: 'vendredi', 6: 'samedi', 7: 'dimanche'}\n"
     ]
    }
   ],
   "source": [
    "# setdefault()\n",
    "# si la cles existe\n",
    "print(les_jours2.setdefault(1, \"LUNDI\"))\n",
    "# pusique la cles existe, la valeur ne va pas changer. Elle va etre affichee. Le dictionnaire ne va pas changer aussi.\n",
    "print(les_jours2)"
   ]
  },
  {
   "cell_type": "code",
   "execution_count": 62,
   "metadata": {},
   "outputs": [
    {
     "name": "stdout",
     "output_type": "stream",
     "text": [
      "mercredi\n",
      "{1: 'lundi', 2: 'mardi', 3: 'mercredi', 5: 'vendredi', 6: 'samedi', 7: 'dimanche', 4: 'mercredi'}\n"
     ]
    }
   ],
   "source": [
    "# setdefault()\n",
    "# si la cles existe\n",
    "# puisque la cles 4 n'existe pas. La valeur 'mercredi' va etre affichee. Le dictionnaire va etre modifie aussi\n",
    "print(les_jours2.setdefault(4, \"mercredi\"))\n",
    "print(les_jours2)"
   ]
  },
  {
   "cell_type": "code",
   "execution_count": null,
   "metadata": {},
   "outputs": [],
   "source": [
    "# update\n",
    "premier"
   ]
  },
  {
   "cell_type": "markdown",
   "metadata": {},
   "source": [
    "La fonction intégrée `len()` est aussi appliquable pour les dictionnaires. Si l'on désire déterminer le nombre d'elements:"
   ]
  },
  {
   "cell_type": "code",
   "execution_count": 13,
   "metadata": {},
   "outputs": [
    {
     "data": {
      "text/plain": [
       "7"
      ]
     },
     "execution_count": 13,
     "metadata": {},
     "output_type": "execute_result"
    }
   ],
   "source": [
    "len(les_jours)"
   ]
  },
  {
   "cell_type": "markdown",
   "metadata": {},
   "source": [
    "La varaible `les_jours` contient 7 elements."
   ]
  },
  {
   "cell_type": "markdown",
   "metadata": {},
   "source": [
    "Si l'on veut tester l'appartenece d'un element a une liste/tuple on utilise l'operateur `in`. L'expression est la suivante : `element in liste`. Cela nous renvoi `True` si `element`est dans `liste`, sinon `False`. On peut aussi ecrire `element not in liste` pour tester si l'element n'est pas dans `liste` (`True`) ou s'il est dans `liste` (`False`). Voici quelques exemples:"
   ]
  },
  {
   "cell_type": "code",
   "execution_count": 15,
   "metadata": {},
   "outputs": [
    {
     "data": {
      "text/plain": [
       "{1: 'lundi',\n",
       " 2: 'mardi',\n",
       " 3: 'mercredi',\n",
       " 4: 'jeudi',\n",
       " 5: 'vendredi',\n",
       " 6: 'samedi',\n",
       " 7: 'dimanche'}"
      ]
     },
     "execution_count": 15,
     "metadata": {},
     "output_type": "execute_result"
    }
   ],
   "source": [
    "les_jours"
   ]
  },
  {
   "cell_type": "code",
   "execution_count": 21,
   "metadata": {},
   "outputs": [
    {
     "data": {
      "text/plain": [
       "dict_values(['lundi', 'mardi', 'mercredi', 'jeudi', 'vendredi', 'samedi', 'dimanche'])"
      ]
     },
     "execution_count": 21,
     "metadata": {},
     "output_type": "execute_result"
    }
   ],
   "source": [
    "les_jours.values()"
   ]
  },
  {
   "cell_type": "code",
   "execution_count": 23,
   "metadata": {},
   "outputs": [
    {
     "name": "stdout",
     "output_type": "stream",
     "text": [
      "True\n",
      "False\n",
      "True\n",
      "True\n"
     ]
    }
   ],
   "source": [
    "un_tuple = (1, 'bonjour', 4.5, True)\n",
    "\n",
    "print(1 in un_tuple)\n",
    "\n",
    "print(2 in un_tuple)\n",
    "\n",
    "print('o' not in un_tuple)\n",
    "\n",
    "print('x' not in un_tuple)"
   ]
  },
  {
   "cell_type": "markdown",
   "metadata": {},
   "source": [
    "## Quelle est la difference entre listes et tuples?\n",
    "\n",
    "Les listes et les tuples sont pareils dans la plupart des contextes. Cepandant, la difference primordiale entre les deux et que les listes sont des **objets mutables** (modifiables) alors que les tuples sont des **objets immuables** (ne sont pas modifiable). La question qui se pose est donc: qu'est-ce qu'un objet mutable et un objet immuable?\n",
    "Parmi les objet immuable en python, on trouve:\n",
    "- Les nombres entiers (int)\n",
    "- Les nombres décimaux (float)\n",
    "- Les chaînes de caractères (str)\n",
    "- Les booléens (bool)\n",
    "- Les tuples (tuple)\n",
    "La plus part des autres objets que vous allez confronter en python sont mutables.\n",
    "\n",
    "Nous allons illustre ca dans les exemples suivant:\n",
    "1. nous allons creer les variables suivantes:\n",
    "- `var_chaine = \"bonjour tout le monde\"`, \n",
    "- `var_liste = [1, 2, True, 'bonjour']`,\n",
    "- `var_tuple = (1, 2, True, 'bonjour')`.\n",
    "2. nous qllons essayer de changer (par exemple) le premier element de chaque variable (par un autre element)."
   ]
  },
  {
   "cell_type": "code",
   "execution_count": 26,
   "metadata": {},
   "outputs": [],
   "source": [
    "var_chaine = \"bonjour tout le monde\"\n",
    "var_liste = [1, 2, True, 'bonjour']\n",
    "var_tuple = (1, 2, True, 'bonjour')"
   ]
  },
  {
   "cell_type": "code",
   "execution_count": 29,
   "metadata": {},
   "outputs": [
    {
     "ename": "TypeError",
     "evalue": "'str' object does not support item assignment",
     "output_type": "error",
     "traceback": [
      "\u001b[1;31m---------------------------------------------------------------------------\u001b[0m",
      "\u001b[1;31mTypeError\u001b[0m                                 Traceback (most recent call last)",
      "\u001b[1;32m~\\AppData\\Local\\Temp\\ipykernel_232\\4274672008.py\u001b[0m in \u001b[0;36m<module>\u001b[1;34m\u001b[0m\n\u001b[1;32m----> 1\u001b[1;33m \u001b[0mvar_chaine\u001b[0m\u001b[1;33m[\u001b[0m\u001b[1;36m0\u001b[0m\u001b[1;33m]\u001b[0m \u001b[1;33m=\u001b[0m \u001b[1;34m'B'\u001b[0m\u001b[1;33m\u001b[0m\u001b[1;33m\u001b[0m\u001b[0m\n\u001b[0m\u001b[0;32m      2\u001b[0m \u001b[0mprint\u001b[0m\u001b[1;33m(\u001b[0m\u001b[0mvar_chaine\u001b[0m\u001b[1;33m)\u001b[0m\u001b[1;33m\u001b[0m\u001b[1;33m\u001b[0m\u001b[0m\n",
      "\u001b[1;31mTypeError\u001b[0m: 'str' object does not support item assignment"
     ]
    }
   ],
   "source": [
    "var_chaine[0] = 'B'\n",
    "print(var_chaine)"
   ]
  },
  {
   "cell_type": "code",
   "execution_count": 30,
   "metadata": {},
   "outputs": [
    {
     "name": "stdout",
     "output_type": "stream",
     "text": [
      "[3333, 2, True, 'bonjour']\n"
     ]
    }
   ],
   "source": [
    "var_liste[0] = 3333\n",
    "print(var_liste)"
   ]
  },
  {
   "cell_type": "code",
   "execution_count": 31,
   "metadata": {},
   "outputs": [
    {
     "ename": "TypeError",
     "evalue": "'tuple' object does not support item assignment",
     "output_type": "error",
     "traceback": [
      "\u001b[1;31m---------------------------------------------------------------------------\u001b[0m",
      "\u001b[1;31mTypeError\u001b[0m                                 Traceback (most recent call last)",
      "\u001b[1;32m~\\AppData\\Local\\Temp\\ipykernel_232\\613115800.py\u001b[0m in \u001b[0;36m<module>\u001b[1;34m\u001b[0m\n\u001b[1;32m----> 1\u001b[1;33m \u001b[0mvar_tuple\u001b[0m\u001b[1;33m[\u001b[0m\u001b[1;36m0\u001b[0m\u001b[1;33m]\u001b[0m \u001b[1;33m=\u001b[0m \u001b[1;36m3333\u001b[0m\u001b[1;33m\u001b[0m\u001b[1;33m\u001b[0m\u001b[0m\n\u001b[0m\u001b[0;32m      2\u001b[0m \u001b[0mprint\u001b[0m\u001b[1;33m(\u001b[0m\u001b[0mvar_tuple\u001b[0m\u001b[1;33m)\u001b[0m\u001b[1;33m\u001b[0m\u001b[1;33m\u001b[0m\u001b[0m\n",
      "\u001b[1;31mTypeError\u001b[0m: 'tuple' object does not support item assignment"
     ]
    }
   ],
   "source": [
    "var_tuple[0] = 3333\n",
    "print(var_tuple)"
   ]
  },
  {
   "cell_type": "markdown",
   "metadata": {},
   "source": [
    "Les listes ont une taille variable, les tuples et les chaines de caracteres ont une taille fixe. Enfin, les listes ont plus de fonctionnalités que les tuples. Cependant, c'est le contexte qui nous force a utiliser les listes ou les tuples. Nous allons rencontrer plusieurs contextes ou on est amener a choisir l'un des deux types."
   ]
  },
  {
   "cell_type": "markdown",
   "metadata": {},
   "source": [
    "## quelques methodes utiles pour les listes et les tuples\n",
    "Dans cette sections nous allons voir qulques `methodes`  pour les liste et/ou les tuples (les methodes communes et les methodes propres aux listes seulement). Les deux methodes suivantes sont communes aux listes et au tuples:\n",
    "- count: cette methode est utlisee pour compter le nombre d'elements de la liste/tuple.\n",
    "- index: cette method est utilisee pour chercher une valeur spécifiée dans la liste/tuple et renvoie la position de l'endroit où il a été trouvé."
   ]
  },
  {
   "cell_type": "code",
   "execution_count": 53,
   "metadata": {},
   "outputs": [
    {
     "name": "stdout",
     "output_type": "stream",
     "text": [
      "3\n"
     ]
    }
   ],
   "source": [
    "var_liste = [1, 2, 2, True, 'bonjour', 2]\n",
    "var_tuple = (1, 2, 2, True, 'bonjour', 2)\n",
    "\n",
    "print(var_liste.count(2)) ## print(var_tuple.count(2))\n",
    "\n",
    "print(var_tuple.index(2))  ## print(var_tuple.index(2))"
   ]
  },
  {
   "cell_type": "code",
   "execution_count": 48,
   "metadata": {},
   "outputs": [
    {
     "ename": "ValueError",
     "evalue": "tuple.index(x): x not in tuple",
     "output_type": "error",
     "traceback": [
      "\u001b[1;31m---------------------------------------------------------------------------\u001b[0m",
      "\u001b[1;31mValueError\u001b[0m                                Traceback (most recent call last)",
      "\u001b[1;32m~\\AppData\\Local\\Temp\\ipykernel_232\\1993419995.py\u001b[0m in \u001b[0;36m<module>\u001b[1;34m\u001b[0m\n\u001b[1;32m----> 1\u001b[1;33m \u001b[0mvar_tuple\u001b[0m\u001b[1;33m.\u001b[0m\u001b[0mindex\u001b[0m\u001b[1;33m(\u001b[0m\u001b[1;36m44\u001b[0m\u001b[1;33m)\u001b[0m \u001b[1;31m# var_tuple.index(44)\u001b[0m\u001b[1;33m\u001b[0m\u001b[1;33m\u001b[0m\u001b[0m\n\u001b[0m",
      "\u001b[1;31mValueError\u001b[0m: tuple.index(x): x not in tuple"
     ]
    }
   ],
   "source": [
    "var_tuple.index(44) # var_tuple.index(44)"
   ]
  },
  {
   "cell_type": "code",
   "execution_count": 57,
   "metadata": {},
   "outputs": [
    {
     "data": {
      "text/plain": [
       "1"
      ]
     },
     "execution_count": 57,
     "metadata": {},
     "output_type": "execute_result"
    }
   ],
   "source": []
  },
  {
   "cell_type": "markdown",
   "metadata": {},
   "source": [
    "Les methodes decrites dans la table suivante sont appliquee au lites seulement:\n",
    "\n",
    "\n",
    "| Méthode    | Description                                                                  |\n",
    "|-----------|------------------------------------------------------------------------------|\n",
    "| append()  | Ajoute un élément en fin de liste                                       |\n",
    "| clear()   | Supprime tous les éléments de la liste                                       |\n",
    "| copy()    | Renvoie une copie de la liste                                                   |\n",
    "| count()   | Renvoie le nombre d'éléments avec la valeur spécifiée                      |\n",
    "| extend()  | Ajouter les éléments d'une liste, à la fin de la liste actuelle |\n",
    "| index()   | Renvoie l'indice du premier élément avec la valeur spécifiée              |\n",
    "| insert()  | Ajoute un élément à la position spécifiée                                   |\n",
    "| pop()     | Supprime l'élément à la position spécifiée                                |\n",
    "| remove()  | Supprime le premier élément avec la valeur spécifiée                              |\n",
    "| reverse() | Inverse l'ordre de la liste                                               |\n",
    "| sort()    | Trie la liste                                                               |"
   ]
  },
  {
   "cell_type": "code",
   "execution_count": null,
   "metadata": {},
   "outputs": [],
   "source": []
  },
  {
   "cell_type": "markdown",
   "metadata": {},
   "source": [
    "## sets\n",
    "\n",
    "On a vu que les chaines de caracteres, les liste et tuples sont des sequences ordonnees d'elements\n",
    "\n",
    "\n"
   ]
  }
 ],
 "metadata": {
  "kernelspec": {
   "display_name": "Python 3 (ipykernel)",
   "language": "python",
   "name": "python3"
  },
  "language_info": {
   "codemirror_mode": {
    "name": "ipython",
    "version": 3
   },
   "file_extension": ".py",
   "mimetype": "text/x-python",
   "name": "python",
   "nbconvert_exporter": "python",
   "pygments_lexer": "ipython3",
   "version": "3.7.3"
  },
  "widgets": {
   "application/vnd.jupyter.widget-state+json": {
    "state": {},
    "version_major": 2,
    "version_minor": 0
   }
  }
 },
 "nbformat": 4,
 "nbformat_minor": 4
}
