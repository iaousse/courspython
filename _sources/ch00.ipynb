{
 "cells": [
  {
   "cell_type": "markdown",
   "metadata": {
    "tags": []
   },
   "source": [
    "# Informations préliminaires\n",
    "\n",
    "\n",
    "## Liens utiles :\n",
    "\n",
    "- [python.org](https://www.python.org/)\n",
    "- [Télécharger python pour Windows](https://www.python.org/downloads/windows/)\n",
    "- [Télécharger Python pour max os](https://www.python.org/downloads/macos/)\n",
    "\n",
    "- [anaconda](https://www.anaconda.com/)\n",
    "- [Télécharger anaconda pour Windows](https://repo.anaconda.com/archive/Anaconda3-2022.05-Windows-x86_64.exe)\n",
    "- [Télécharger vscode](https://code.visualstudio.com/Download)\n",
    "- [atom](https://atom.io/)\n",
    "- [pycharm](https://www.jetbrains.com/pycharm/)\n",
    "- [Google colab](https://research.google.com/colaboratory/)\n",
    "\n",
    "## Guide d’installation :\n",
    "- [python](https://realpython.com/installing-python/)\n",
    "- [vscode](https://code.visualstudio.com/docs/setup/setup-overview)\n",
    "- [pycharm](https://www.jetbrains.com/help/pycharm/installation-guide.html)\n",
    "- [atom](https://flight-manual.atom.io/getting-started/sections/installing-atom/)\n",
    "- [anaconda](https://docs.anaconda.com/anaconda/install/windows/)\n"
   ]
  }
 ],
 "metadata": {
  "kernelspec": {
   "display_name": "Python 3 (ipykernel)",
   "language": "python",
   "name": "python3"
  },
  "language_info": {
   "codemirror_mode": {
    "name": "ipython",
    "version": 3
   },
   "file_extension": ".py",
   "mimetype": "text/x-python",
   "name": "python",
   "nbconvert_exporter": "python",
   "pygments_lexer": "ipython3",
   "version": "3.7.3"
  },
  "widgets": {
   "application/vnd.jupyter.widget-state+json": {
    "state": {},
    "version_major": 2,
    "version_minor": 0
   }
  }
 },
 "nbformat": 4,
 "nbformat_minor": 4
}
