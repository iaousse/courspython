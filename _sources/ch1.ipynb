{
 "cells": [
  {
   "cell_type": "markdown",
   "metadata": {
    "tags": []
   },
   "source": [
    "# Introduction\n",
    "\n",
    "\n",
    "## Python\n",
    "\n",
    "Python est un langage de programmation de haut niveau (high-level programming language), avec des applications dans de nombreux domaines, notamment la programmation Web, le calcul scientifique et l'intelligence artificielle !\n",
    "\n",
    "Python est très populaire et utilisé par des organisations telles que Google, la NASA, la CIA et Disney.\n",
    "\n",
    "Le langage Python est un de langage Interprété et dynamique. Il support la programmation orienté objet et il est ineffaçable avec plusieurs autres langages de programmation. L'un des plus grands avantages de Python est sa lisibilité, la simplicité de sa syntaxe et une large communauté qui est derrière son développement.\n",
    "\n",
    "## Hello world !\n",
    "Commençons par créer un programme court qui affiche la fameuse phrase \"Hello world!\".\n",
    "En Python, on utilise la fonction `print` pour afficher du texte comme output."
   ]
  },
  {
   "cell_type": "code",
   "execution_count": 1,
   "metadata": {},
   "outputs": [
    {
     "name": "stdout",
     "output_type": "stream",
     "text": [
      "Hello world!\n"
     ]
    }
   ],
   "source": [
    "print(\"Hello world!\")"
   ]
  },
  {
   "cell_type": "markdown",
   "metadata": {},
   "source": [
    "Application : Ecrire un programme qui permet d'afficher \"Bonjour tout le monde!\"."
   ]
  },
  {
   "cell_type": "code",
   "execution_count": 54,
   "metadata": {},
   "outputs": [],
   "source": [
    "# votre code ici"
   ]
  },
  {
   "cell_type": "markdown",
   "metadata": {},
   "source": [
    "## Les opérations arithmétiques en Python\n",
    "Dans sa forme la plus élémentaire, Python peut être utilisé tout simplement comme une `calculatrice`. Il peut réaliser les opérations arithmétiques suivantes :\n",
    "- Addition : `+`\n",
    "- Soustraction : `-`\n",
    "- Multiplication : `*`\n",
    "- Division entière : `//`\n",
    "- Division : `/`\n",
    "- Exponentiation : `**`\n",
    "- Modulo : `%`\n",
    "\n",
    "On rappelle que la division entière renvoi le quotient de la division euclidienne et le modulo renvoie le reste de la division euclidienne. Par exemple 7 // 4 est 1; 7 % 4 est 3, 5//2 est 2; 5%2 est 1.\n",
    "\n",
    "Commençons maintenant à programmer. Nous voulons calculer 1+5, 5-4, 4*3, (10+8)/3, 2\\**4, 28//6 et 28%6;\n",
    "Comme dans la plupart des langages de programmation, on utilise les symboles suivants pour les opérations mathématiques:"
   ]
  },
  {
   "cell_type": "code",
   "execution_count": 13,
   "metadata": {},
   "outputs": [
    {
     "name": "stdout",
     "output_type": "stream",
     "text": [
      "6\n",
      "1\n",
      "12\n",
      "6.0\n",
      "16\n",
      "4\n",
      "4\n"
     ]
    }
   ],
   "source": [
    "# addition\n",
    "print(1+5)\n",
    "\n",
    "# soustraction\n",
    "print(5-4)\n",
    "\n",
    "# multiplication\n",
    "print(4*3)\n",
    "\n",
    "# division\n",
    "print((10+8)/3)\n",
    "\n",
    "# exponentiation\n",
    "print(2**4)\n",
    "\n",
    "# division entière\n",
    "print(28//6)\n",
    "\n",
    "# modulo\n",
    "print(28%6)"
   ]
  },
  {
   "cell_type": "markdown",
   "metadata": {},
   "source": [
    "```{note}\n",
    "Toute chose commençant par `#` est un **commentaire**, il sera ignoré par Python. Les commentaires sont une bonne manière de savoir ce qu'on fait ou pour qu’une autre personne sache ce qu'on fait.\n",
    "```\n",
    "## Affectation et variables\n",
    "\n",
    "Une variable est concept fondamental en programmation. Elle permet de stocker une valeur (par exemple la valeur 2) ou un objet (par exemple une fonction, liste, tableau, vecteur, ...). Cela permet de l'utiliser ultérieurement pour accéder facilement à la valeur ou à l'objet qui est stocké dans cette variable.\n",
    "\n",
    "On affecte une valeur a une variable en utilisant le symbole `=`. Si vous voulez stocker la valeur 4 dans une variable nommée `ma_valeur` on peut faire comme suit :\n"
   ]
  },
  {
   "cell_type": "code",
   "execution_count": 15,
   "metadata": {},
   "outputs": [
    {
     "name": "stdout",
     "output_type": "stream",
     "text": [
      "4\n"
     ]
    }
   ],
   "source": [
    "# affecter la valeur 4 a la variable ma_valeur\n",
    "ma_valeur = 4\n",
    "# afficher le contenu de la variable ma_valeur\n",
    "print(ma_valeur)"
   ]
  },
  {
   "cell_type": "markdown",
   "metadata": {},
   "source": [
    "On peut faire toutes les opérations susmentionnées avec les variables à la place de valeurs. Voici un exemple : Dans une classe, le nombre des hommes est 10 le nombre des femmes est 18."
   ]
  },
  {
   "cell_type": "code",
   "execution_count": 16,
   "metadata": {},
   "outputs": [
    {
     "name": "stdout",
     "output_type": "stream",
     "text": [
      "28\n"
     ]
    }
   ],
   "source": [
    "# Affecter le nombre des étudiants de sexe masculin à la variable hommes\n",
    "hommes = 10\n",
    "# Affecter le nombre des étudiants de sexe féminin à la variable femmes\n",
    "femmes = 18\n",
    "\n",
    "# Affecter le nombre total des étudiants à la variable total_etudiant\n",
    "total_etudiant = hommes + femmes\n",
    "\n",
    "# Afficher le nombre total d'étudiants\n",
    "print(total_etudiant)"
   ]
  },
  {
   "cell_type": "markdown",
   "metadata": {},
   "source": [
    "Python supporte les opérateurs d'affectation suivants : `=`, `+ =`, `– =`, `*=`, `/=`, `%=`, `**=` et `//=`.\n",
    "\n",
    "Hormis le premier opérateur `=`, les autres opérateurs ont la même logique. Nous allons illustrer cette logique avec `+=` et vous alles comprendre l'utilisation des autres.\n",
    "\n",
    "Supposons que nous avons une variable (soit `var`) qui contient une valeur (soit, par exemple 2) et pour une raison (vous allez confronter plusieurs raisons dans la suite de ce cours) nous voulons que cette variable reçoive l'ancienne valeur (2) plus une nouvelle valeur (soit, par exemple 1). On peut faire ça avec l'opérateur `=` comme suit :"
   ]
  },
  {
   "cell_type": "code",
   "execution_count": 36,
   "metadata": {},
   "outputs": [
    {
     "name": "stdout",
     "output_type": "stream",
     "text": [
      "3\n"
     ]
    }
   ],
   "source": [
    "# la variable var contient la valeur 2\n",
    "var = 2\n",
    "# la variable var reçoit l'ancienne valeur plus 1\n",
    "var = var +1\n",
    "# afficher le contenu de la variable var\n",
    "print(var)"
   ]
  },
  {
   "cell_type": "markdown",
   "metadata": {},
   "source": [
    "On peut faire la même instruction avec l'opérateur `+=` comme suit :"
   ]
  },
  {
   "cell_type": "code",
   "execution_count": 37,
   "metadata": {},
   "outputs": [
    {
     "name": "stdout",
     "output_type": "stream",
     "text": [
      "3\n"
     ]
    }
   ],
   "source": [
    "# la variable var contient la valeur 2\n",
    "var = 2\n",
    "# la variable var reçoit l'ancienne valeur plus 1\n",
    "var += 1\n",
    "# afficher le contenu de la variable var\n",
    "print(var)"
   ]
  },
  {
   "cell_type": "markdown",
   "metadata": {},
   "source": [
    "```{warning}\n",
    "Sous Python, les noms de variables doivent en outre obéir à quelques règles simples :\n",
    "- Un nom de variable est une séquence de lettres (a → z, A → Z) et de chiffres (0 → 9), qui doit\n",
    "**toujours commencer par une lettre**.\n",
    "- Seules les lettres ordinaires sont autorisées. Les lettres accentuées, les cédilles, les espaces, les caractères spéciaux tels que $, #, @, etc. sont interdits, à l'exception du caractère _ (souligné).\n",
    "- Python est \"case sensitive\" (les caractères majuscules et minuscules sont distingués). Par exemple : Var1, var1, VAR1 sont donc des variables différentes. \n",
    "\n",
    "- il est interdit d'utiliser comme nom de variables les mots réservés a python. Ils sont :\n",
    "**and, as, assert, break, class, continue, def,\n",
    "del, elif, else, except, False, finally, for,\n",
    "from, global, if, import, in, is, lambda,\n",
    "None, nonlocal, not, or, pass, raise, return,\n",
    "True, try, while, with, yield,**\n",
    "```"
   ]
  },
  {
   "cell_type": "markdown",
   "metadata": {},
   "source": [
    "## Types de données de base dans Python\n",
    "Il existe de nombreux types de données dans Python. Voici quelques-uns les plus basiques :\n",
    " \n",
    "- `float`: Les valeurs décimales (ou en virgule flottante) telles que 10,15 (attention en utilise `.` comme décimal au lieu de `,`).\n",
    "- `int` (les nombres entiers)\": les valeurs comme 8; 4; 10 sont des entiers (`int`). Les entiers font aussi partie des valeurs numériques.\n",
    "- `bool` (les valeurs booléennes (`True` ou `False`) sont dites valeurs logiques.\n",
    "- `str` (les caractères, ou chaînes de caractères). Les guillemets `\"texte\"` (ou encore les apostrophes `'texte'`) indiquent que `texte` est de type `str`.\n",
    "- `complex`(les nombre complexes):  sont les nombres contenant une partie réelle et une partie imaginaire. En mathématiques, on note $i$ le nombre complexe dans le carrée est égale à 1. Cependant, en Python, on utilise la lettre `j` (ou `J`) pour indiquer ce nombre. Par exemple, si on voulait écrire le nombre `3+1.5i` (le nombre complexe dont la partie réelle est 3 et la partie imaginaire est 1.5) en python on écrit `3 + 1.5j`.\n",
    "- `None`: type Le mot-clé `None` est utilisé pour définir une valeur nulle (pas 0), ou aucune valeur du tout. `None` n'est pas la même chose que `0`, `False` ou une chaîne vide `''`. `None` est un type de données en soi (`NoneType`) et la seule valeur qui peut être de type `None` est le mot-clé `None`.\n",
    "\n",
    "si nous avons un variable (ou même une valeur) et nous voulons savoir son type de données, on utilise la fonction `type`. Il faut être prudent lorsqu'on voulait faire des opérations sur des variables si leur type n'est le même!"
   ]
  },
  {
   "cell_type": "code",
   "execution_count": 91,
   "metadata": {},
   "outputs": [
    {
     "name": "stdout",
     "output_type": "stream",
     "text": [
      "<class 'int'>\n",
      "<class 'float'>\n",
      "<class 'bool'>\n",
      "<class 'str'>\n",
      "<class 'complex'>\n",
      "<class 'NoneType'>\n"
     ]
    }
   ],
   "source": [
    "# cette instruction va afficher int\n",
    "print(type(1))\n",
    "# cette instruction va afficher float\n",
    "print(type(1.5))\n",
    "\n",
    "# cette instruction va afficher  bool\n",
    "print(type(True))\n",
    "# cette instruction va afficher str\n",
    "print(type(\"bonjour\"))\n",
    "\n",
    "# cette instruction va afficher complex\n",
    "print(type(5+17.89j))\n",
    "\n",
    "# cette instruction va afficher NoneType\n",
    "print(type(None))"
   ]
  },
  {
   "cell_type": "markdown",
   "metadata": {},
   "source": [
    "Sous Python, on peut aussi définir une liste comme une collection d'éléments séparés par des virgules, l'ensemble étant enfermé dans des crochets `[ ]`. Les éléments de la liste peuvent être de n'importe quel type. Voici un exemple d'un liste en python :`jour_et_nombre = ['lundi', 'mardi', 'mercredi', 'jeudi', 'vendredi', 'samedi', 'dimanche', 0, 1, 5]`."
   ]
  },
  {
   "cell_type": "code",
   "execution_count": 51,
   "metadata": {},
   "outputs": [
    {
     "name": "stdout",
     "output_type": "stream",
     "text": [
      "['lundi', 'mardi', 'mercredi', 'jeudi', 'vendredi', 'samedi', 'dimanche', 0, 1, 5]\n",
      "<class 'list'>\n"
     ]
    }
   ],
   "source": [
    "#\n",
    "jour_et_nombre = ['lundi', 'mardi', 'mercredi', 'jeudi', 'vendredi', 'samedi', 'dimanche', 0, 1, 5]\n",
    "\n",
    "#\n",
    "print(jour_et_nombre)\n",
    "\n",
    "#\n",
    "print(type(jour_et_nombre))"
   ]
  },
  {
   "cell_type": "markdown",
   "metadata": {},
   "source": [
    "Lorsqu'on dit que les éléments d'une liste peuvent contenir n'importe quel type, on ne rigole pas !! Voici une illustration :"
   ]
  },
  {
   "cell_type": "code",
   "execution_count": 53,
   "metadata": {},
   "outputs": [
    {
     "name": "stdout",
     "output_type": "stream",
     "text": [
      "[1, 3, 'bonjour']\n",
      "[None, True, (3+2j), '']\n",
      "[[1, 3, 'bonjour'], [None, True, (3+2j), '']]\n",
      "[[1, 3, 'bonjour'], [None, True, (3+2j), ''], [[1, 3, 'bonjour'], [None, True, (3+2j), '']]]\n"
     ]
    }
   ],
   "source": [
    "# on peut avoir une liste contenant des listes comme des éléments\n",
    "# une première liste\n",
    "list1 = [1, 3, 'bonjour']\n",
    "\n",
    "# une deuxième liste\n",
    "list2 = [None, True, 3+2j, '']\n",
    "\n",
    "# une troisième liste contenante list1 et list2 comme éléments\n",
    "list3 = [list1, list2]\n",
    "\n",
    "# une quatrième liste contenante list1, list2, et list3 comme éléments\n",
    "list4 = [list1, list2, list3]\n",
    "\n",
    "# afficher les listes\n",
    "print(list1)\n",
    "print(list2)\n",
    "print(list3)\n",
    "print(list4)"
   ]
  },
  {
   "cell_type": "markdown",
   "metadata": {},
   "source": [
    "## Opérateurs logiques :\n",
    "En python, il existe trois opérateurs logiques : `or` qui signifie ou, `and` qui signifie et, et `not` qui signifie non.\n",
    "\n",
    "Pour mieux illustrer ces opérations, soient `var1= True` et `var2 = False`. Quel serait le résultat des instructions suivantes :\n",
    "- `var1 or var2`\n",
    "- `var1 and var2`\n",
    "- `not var1`\n",
    "- `(var1 and var2) or (not var2)`"
   ]
  },
  {
   "cell_type": "code",
   "execution_count": 38,
   "metadata": {},
   "outputs": [
    {
     "name": "stdout",
     "output_type": "stream",
     "text": [
      "True\n",
      "False\n",
      "False\n",
      "True\n"
     ]
    }
   ],
   "source": [
    "# initialiser les deux variables\n",
    "var1 = True; var2 = False # remarquer qu'on peut faire plusieurs instructions dans une même linge. Cependant, il est déconseillé\n",
    "#\n",
    "print(var1 or var2)\n",
    "\n",
    "#\n",
    "print(var1 and var2)\n",
    "\n",
    "#\n",
    "print(not var1)\n",
    "\n",
    "# \n",
    "print((var1 and var2) or (not var2))"
   ]
  },
  {
   "cell_type": "markdown",
   "metadata": {
    "tags": []
   },
   "source": [
    "## Opérateurs relationnels (tests) :\n",
    "\n",
    "En python, il existe six opérateurs relationnels : \n",
    "- `<` qui permet de tester si une valeur et strictement inférieure à une autre ;\n",
    "- `<=` qui permet de tester si une valeur et inférieure ou égale à une autre ;\n",
    "- `>` qui permet de tester si une valeur et strictement supérieure à une autre ;\n",
    "- `>=` qui permet de tester si une valeur et supérieure ou égale à une autre ;\n",
    "- `!=` ou `<>` qui permet de tester si une valeur est égale a une autre;\n",
    "- et `==` qui permet de tester l’égalité de deux valeurs.\n",
    "\n",
    "Soient `var1 = 5`, `var2 = 2+3`, `var3 = 6`, `var4 = \"bonjour\"`, `var5 = True`. Quel serait le résultat des instructions suivantes :\n",
    "- `var1 == var2`;\n",
    "- `var2 != var4`;\n",
    "- `var3 > var1+ var2`;\n",
    "- `var3< var1 + var2`;"
   ]
  },
  {
   "cell_type": "code",
   "execution_count": 47,
   "metadata": {},
   "outputs": [
    {
     "name": "stdout",
     "output_type": "stream",
     "text": [
      "True\n",
      "True\n",
      "False\n",
      "True\n"
     ]
    }
   ],
   "source": [
    "#\n",
    "var1 = 5; var2 = 2+3; var3 = 6; var4 = \"bonjour\"; var5 = True\n",
    "\n",
    "#\n",
    "print(var1 == var2)\n",
    "\n",
    "#\n",
    "print(var1 != var4)\n",
    "\n",
    "#\n",
    "print(var3 > var1 + var2)\n",
    "\n",
    "#\n",
    "print(var3 < var1 + var2)"
   ]
  },
  {
   "cell_type": "markdown",
   "metadata": {},
   "source": [
    "## Affichage\n",
    "\n",
    "Nous avons rencontré, dans ce qui précède, la fonction `print` qui affiche une chaîne de caractères (`print(\"Hello world!\")`). \n",
    "Pour avoir des informations sur la fonction `print` (éventuellement sur toute autre fonction en python) on utilise la fonction `help`."
   ]
  },
  {
   "cell_type": "code",
   "execution_count": 57,
   "metadata": {},
   "outputs": [
    {
     "name": "stdout",
     "output_type": "stream",
     "text": [
      "Help on built-in function print in module builtins:\n",
      "\n",
      "print(...)\n",
      "    print(value, ..., sep=' ', end='\\n', file=sys.stdout, flush=False)\n",
      "    \n",
      "    Prints the values to a stream, or to sys.stdout by default.\n",
      "    Optional keyword arguments:\n",
      "    file:  a file-like object (stream); defaults to the current sys.stdout.\n",
      "    sep:   string inserted between values, default a space.\n",
      "    end:   string appended after the last value, default a newline.\n",
      "    flush: whether to forcibly flush the stream.\n",
      "\n"
     ]
    }
   ],
   "source": [
    "help(print)"
   ]
  },
  {
   "cell_type": "markdown",
   "metadata": {},
   "source": [
    "La fonction `print` peut prendre plusieurs arguments, les valeurs de tous types de données, les variables. Par défaut, le séparateur entre les arguments est l'espace (`sep=' '`) et la fin de l'affichage est un retour a la ligne (`end='\\n'`). Dans les exemples suivants nous allons voir comment cette fonction affiche plusieurs arguments et nous allons modifier le séparateur (sep) et la fin de l'affichage (end)."
   ]
  },
  {
   "cell_type": "code",
   "execution_count": 58,
   "metadata": {},
   "outputs": [
    {
     "name": "stdout",
     "output_type": "stream",
     "text": [
      "Hello\n",
      "World\n"
     ]
    }
   ],
   "source": [
    "#\n",
    "print('Hello')\n",
    "print('World')"
   ]
  },
  {
   "cell_type": "code",
   "execution_count": 62,
   "metadata": {},
   "outputs": [
    {
     "name": "stdout",
     "output_type": "stream",
     "text": [
      "Hello World\n"
     ]
    }
   ],
   "source": [
    "#\n",
    "print('Hello','World')"
   ]
  },
  {
   "cell_type": "code",
   "execution_count": 63,
   "metadata": {},
   "outputs": [
    {
     "name": "stdout",
     "output_type": "stream",
     "text": [
      "Hello World\n"
     ]
    }
   ],
   "source": [
    "#\n",
    "var1 = 'Hello'; var2 = 'World'\n",
    "print(var1,var2)"
   ]
  },
  {
   "cell_type": "code",
   "execution_count": 64,
   "metadata": {},
   "outputs": [
    {
     "name": "stdout",
     "output_type": "stream",
     "text": [
      "HelloWorld\n"
     ]
    }
   ],
   "source": [
    "#\n",
    "print(var1, end='')\n",
    "print('World')"
   ]
  },
  {
   "cell_type": "code",
   "execution_count": 65,
   "metadata": {},
   "outputs": [
    {
     "name": "stdout",
     "output_type": "stream",
     "text": [
      "Hello--world\n"
     ]
    }
   ],
   "source": [
    "#\n",
    "print(var1, 'world', sep = '--')"
   ]
  },
  {
   "cell_type": "code",
   "execution_count": 66,
   "metadata": {},
   "outputs": [
    {
     "name": "stdout",
     "output_type": "stream",
     "text": [
      "la valeur de la variable x est: 10\n"
     ]
    }
   ],
   "source": [
    "#\n",
    "x = 10\n",
    "print('la valeur de la variable x est',x, sep=': ')"
   ]
  },
  {
   "cell_type": "markdown",
   "metadata": {
    "tags": []
   },
   "source": [
    "Nous allons revenir à la fonction `print` lorsque nous allons parler de `l'écriture formatée`. \n",
    "## Lecture d'informations\n",
    "Parfois, on est amené a ce que notre programme dépend d’intervention de l'utilisateur (entrée d'un paramètre, clic de souris sur un bouton, etc.). Dans un programme simple, on utilise la fonction `input`. Cette fonction invite l'utilisateur à entrer des données au clavier puis taper `<entrer>`. Lorsque le programme est exécuté, une case apparait à l'utilisateur pour entrer ces donner. Puis le programme continue à s'exécuter pour rendre un output. Les données entrées par l'utilisateur peuvent être stockées dans une variable. Il est à noter que cette variable sera de type `str`. Donc, si l'on veut des données numériques par exemple, on doit convertir cette variable au type de donne que nous souhaitons. Enfin, on peut y mettre comme argument un texte qui oriente à l'utilisateur lors de l'entrée des données. \n",
    "Voici un exemple dont on demande à l'utilisateur d'entrer son nom."
   ]
  },
  {
   "cell_type": "code",
   "execution_count": 2,
   "metadata": {},
   "outputs": [
    {
     "name": "stdin",
     "output_type": "stream",
     "text": [
      " Iaousse\n"
     ]
    },
    {
     "name": "stdout",
     "output_type": "stream",
     "text": [
      "Iaousse\n"
     ]
    }
   ],
   "source": [
    "x = input()\n",
    "print(x)"
   ]
  },
  {
   "cell_type": "markdown",
   "metadata": {},
   "source": [
    "Voici le même exemple avec un message explicatif:"
   ]
  },
  {
   "cell_type": "code",
   "execution_count": 3,
   "metadata": {},
   "outputs": [
    {
     "name": "stdin",
     "output_type": "stream",
     "text": [
      "Veuillez entrer votre nom ici:  Iaousse\n"
     ]
    },
    {
     "name": "stdout",
     "output_type": "stream",
     "text": [
      "Iaousse\n"
     ]
    }
   ],
   "source": [
    "x = input(\"Veuillez entrer votre nom ici: \")\n",
    "print(x)"
   ]
  },
  {
   "cell_type": "markdown",
   "metadata": {},
   "source": [
    "Le type de la variable qui stocke le contenu de `input` est toujours `str`:"
   ]
  },
  {
   "cell_type": "code",
   "execution_count": 4,
   "metadata": {},
   "outputs": [
    {
     "name": "stdin",
     "output_type": "stream",
     "text": [
      "merci d'entrer un chiffre:  100\n"
     ]
    },
    {
     "name": "stdout",
     "output_type": "stream",
     "text": [
      "<class 'str'>\n"
     ]
    }
   ],
   "source": [
    "x = input(\"merci d'entrer un chiffre: \")\n",
    "print(type(x))"
   ]
  },
  {
   "cell_type": "code",
   "execution_count": 5,
   "metadata": {},
   "outputs": [
    {
     "name": "stdin",
     "output_type": "stream",
     "text": [
      "merci d'entrer True:  True\n"
     ]
    },
    {
     "name": "stdout",
     "output_type": "stream",
     "text": [
      "<class 'str'>\n"
     ]
    }
   ],
   "source": [
    "x = input(\"merci d'entrer True: \")\n",
    "print(type(x))"
   ]
  },
  {
   "cell_type": "markdown",
   "metadata": {},
   "source": [
    "## convertir les types de données\n",
    "Il existe plusieurs raisons pour lesquelles nous somme devant l'obligation de convertir les types de données (une raison est celle de `input` que nous avons vu). Les fonctions qui servent à la conversion entre les types de données sont les suivantes :\n",
    "- `int()`: pour convertir un type de données en entier;\n",
    "- `float()`: pour convertir un type de données en virgule flottante.\n",
    "- `str()`: pour convertir un types de donnes en chaine de caractères;\n",
    "- et `bool()`: pour convertir les types de donnes en valeurs booléennes.\n",
    "\n",
    "Les types de données `int` et `float` peuvent être convertis en tous autre type de données. La seule remarque est que la conversion d’une valeur de type `float` en `int` rend les chiffres avant la virgule (1.9 devient 1 après conversion). Pour avoir l'entier le plus proche au nombre que nous voulons convertir, nous devons utiliser la fonction `round()`."
   ]
  },
  {
   "cell_type": "code",
   "execution_count": 25,
   "metadata": {},
   "outputs": [
    {
     "name": "stdout",
     "output_type": "stream",
     "text": [
      "1\n",
      "2\n"
     ]
    }
   ],
   "source": [
    "# int() va renvoyer 1\n",
    "print(int(1.9))\n",
    "# round() va renvoyer 2\n",
    "print(round(1.9))"
   ]
  },
  {
   "cell_type": "markdown",
   "metadata": {},
   "source": [
    "Prenons un exemple d'un nombre entier (`1`), un nombre en virgule flottante (`4.5`) et une valeur booléenne (`True`) puis voyons comment les convertir à chaque type de donnes que nous avons vu jusqu'à maintenant."
   ]
  },
  {
   "cell_type": "code",
   "execution_count": 7,
   "metadata": {},
   "outputs": [
    {
     "name": "stdout",
     "output_type": "stream",
     "text": [
      "\t\t\tAvant conversion\n",
      "================\n",
      "La valeur de x : 1 \t\t\t\tLe type : <class 'int'>\n",
      "================\n",
      "\t\t\t Après conversion\n",
      "================\n",
      "virgule flottante. \tValeur : 1.0 \t\tLe type : <class 'float'>\n",
      "================\n",
      "Chaine de caractères. \tValeur : 1 \t\tLe type : <class 'str'>\n",
      "================\n",
      "Valeur booléenne. \tValeur : True \t\tLe type : <class 'bool'>\n",
      "================\n"
     ]
    }
   ],
   "source": [
    "x = 1\n",
    "x_float = float(x)\n",
    "x_str = str(x)\n",
    "x_bool = bool(x)\n",
    "\n",
    "print (\"\\t\\t\\tAvant conversion\", end=\"\\n================\\n\")\n",
    "print (\"La valeur de x :\", x, \"\\t\\t\\t\\tLe type :\", type(x), end=\"\\n================\\n\")\n",
    "print (\"\\t\\t\\t Après conversion\", end=\"\\n================\\n\")\n",
    "print (\"virgule flottante. \\tValeur :\", x_float, \"\\t\\tLe type :\", type(x_float), end=\"\\n================\\n\")\n",
    "print (\"Chaine de caractères. \\tValeur :\", x_str, \"\\t\\tLe type :\", type(x_str), end=\"\\n================\\n\")\n",
    "print (\"Valeur booléenne. \\tValeur :\", x_bool, \"\\t\\tLe type :\", type(x_bool), end=\"\\n================\\n\")"
   ]
  },
  {
   "cell_type": "code",
   "execution_count": 14,
   "metadata": {},
   "outputs": [
    {
     "name": "stdout",
     "output_type": "stream",
     "text": [
      "\t\t\tAvant conversion\n",
      "================\n",
      "La valeur de y : 4.5 \t\t\tLe type : <class 'float'>\n",
      "================\n",
      "\t\t\tAprès conversion\n",
      "================\n",
      "Entier. \t\tValeur : 4 \tLe type : <class 'int'>\n",
      "================\n",
      "Chaine de caractères. \tValeur : 4.5 \tLe type : <class 'str'>\n",
      "================\n",
      "Valeur booléenne. \tValeur : True \tLe type : <class 'bool'>\n",
      "================\n"
     ]
    }
   ],
   "source": [
    "y = 4.5\n",
    "\n",
    "y_int = int(y)\n",
    "y_str = str(y)\n",
    "y_bool = bool(y)\n",
    "\n",
    "print (\"\\t\\t\\tAvant conversion\", end=\"\\n================\\n\")\n",
    "print (\"La valeur de y :\", y, \"\\t\\t\\tLe type :\", type(y), end=\"\\n================\\n\")\n",
    "print (\"\\t\\t\\tAprès conversion\", end=\"\\n================\\n\")\n",
    "print (\"Entier. \\t\\tValeur :\", y_int, \"\\tLe type :\", type(y_int), end=\"\\n================\\n\")\n",
    "print (\"Chaine de caractères. \\tValeur :\", y_str, \"\\tLe type :\", type(y_str), end=\"\\n================\\n\")\n",
    "print (\"Valeur booléenne. \\tValeur :\", y_bool, \"\\tLe type :\", type(y_bool), end=\"\\n================\\n\")"
   ]
  },
  {
   "cell_type": "code",
   "execution_count": 19,
   "metadata": {},
   "outputs": [
    {
     "name": "stdout",
     "output_type": "stream",
     "text": [
      "\t\t\tAvant conversion\n",
      "================\n",
      "La valeur de z : True \t\t\tLe type : <class 'bool'>\n",
      "================\n",
      "\t\t\tAprès conversion\n",
      "================\n",
      "virgule flottante. \tValeur: 1.0 \tLe type : <class 'float'>\n",
      "================\n",
      "Chaine de caractères. \tValeur: True \tLe type : <class 'str'>\n",
      "================\n",
      "Entier. \t\tValeur: 1 \tLe type : <class 'int'>\n",
      "================\n"
     ]
    }
   ],
   "source": [
    "z = True\n",
    "z_float = float(z)\n",
    "z_str = str(z)\n",
    "z_int = int(z)\n",
    "\n",
    "\n",
    "print (\"\\t\\t\\tAvant conversion\", end=\"\\n================\\n\")\n",
    "print (\"La valeur de z :\", z, \"\\t\\t\\tLe type :\", type(z), end=\"\\n================\\n\")\n",
    "print (\"\\t\\t\\tAprès conversion\", end=\"\\n================\\n\")\n",
    "print (\"virgule flottante. \\tValeur:\", z_float, \"\\tLe type :\", type(z_float), end=\"\\n================\\n\")\n",
    "print (\"Chaine de caractères. \\tValeur:\", z_str, \"\\tLe type :\", type(z_str), end=\"\\n================\\n\")\n",
    "print (\"Entier. \\t\\tValeur:\", z_int, \"\\tLe type :\", type(z_int), end=\"\\n================\\n\")"
   ]
  },
  {
   "cell_type": "markdown",
   "metadata": {},
   "source": [
    "Le type de données `str` est un peu particulier. On doit faire attention lors de la conversion. Si la valeur est une chaine de caractères qui contient des lettres (a, b,...) ou d'autres symboles (+, @, ...). La conversion en `int` ou `float` renvoi une erreur."
   ]
  },
  {
   "cell_type": "code",
   "execution_count": 85,
   "metadata": {},
   "outputs": [
    {
     "ename": "ValueError",
     "evalue": "invalid literal for int() with base 10: 'bonjour'",
     "output_type": "error",
     "traceback": [
      "\u001b[1;31m---------------------------------------------------------------------------\u001b[0m",
      "\u001b[1;31mValueError\u001b[0m                                Traceback (most recent call last)",
      "\u001b[1;32m~\\AppData\\Local\\Temp\\ipykernel_14492\\389749341.py\u001b[0m in \u001b[0;36m<module>\u001b[1;34m\u001b[0m\n\u001b[0;32m      1\u001b[0m \u001b[0mx\u001b[0m \u001b[1;33m=\u001b[0m \u001b[1;34m\"bonjour\"\u001b[0m\u001b[1;33m\u001b[0m\u001b[1;33m\u001b[0m\u001b[0m\n\u001b[1;32m----> 2\u001b[1;33m \u001b[0mprint\u001b[0m\u001b[1;33m(\u001b[0m\u001b[0mint\u001b[0m\u001b[1;33m(\u001b[0m\u001b[0mx\u001b[0m\u001b[1;33m)\u001b[0m\u001b[1;33m)\u001b[0m\u001b[1;33m\u001b[0m\u001b[1;33m\u001b[0m\u001b[0m\n\u001b[0m",
      "\u001b[1;31mValueError\u001b[0m: invalid literal for int() with base 10: 'bonjour'"
     ]
    }
   ],
   "source": [
    "x = \"bonjour\"\n",
    "print(int(x))"
   ]
  },
  {
   "cell_type": "code",
   "execution_count": 86,
   "metadata": {},
   "outputs": [
    {
     "ename": "ValueError",
     "evalue": "could not convert string to float: 'bonjour'",
     "output_type": "error",
     "traceback": [
      "\u001b[1;31m---------------------------------------------------------------------------\u001b[0m",
      "\u001b[1;31mValueError\u001b[0m                                Traceback (most recent call last)",
      "\u001b[1;32m~\\AppData\\Local\\Temp\\ipykernel_14492\\1364929283.py\u001b[0m in \u001b[0;36m<module>\u001b[1;34m\u001b[0m\n\u001b[0;32m      1\u001b[0m \u001b[0mx\u001b[0m \u001b[1;33m=\u001b[0m \u001b[1;34m\"bonjour\"\u001b[0m\u001b[1;33m\u001b[0m\u001b[1;33m\u001b[0m\u001b[0m\n\u001b[1;32m----> 2\u001b[1;33m \u001b[0mprint\u001b[0m\u001b[1;33m(\u001b[0m\u001b[0mfloat\u001b[0m\u001b[1;33m(\u001b[0m\u001b[0mx\u001b[0m\u001b[1;33m)\u001b[0m\u001b[1;33m)\u001b[0m\u001b[1;33m\u001b[0m\u001b[1;33m\u001b[0m\u001b[0m\n\u001b[0m",
      "\u001b[1;31mValueError\u001b[0m: could not convert string to float: 'bonjour'"
     ]
    }
   ],
   "source": [
    "x = \"bonjour\"\n",
    "print(float(x))"
   ]
  },
  {
   "cell_type": "markdown",
   "metadata": {},
   "source": [
    "```{note}\n",
    "Lorsqu’on convertit tout valeur (à l'exception de`0`, `''`, `None`, `[]`, et tous les types composés ou structurés vides) on reçoit `True`.\n",
    "```"
   ]
  },
  {
   "cell_type": "code",
   "execution_count": 88,
   "metadata": {},
   "outputs": [
    {
     "name": "stdout",
     "output_type": "stream",
     "text": [
      "True\n",
      "True\n",
      "True\n",
      "False\n",
      "False\n",
      "False\n",
      "False\n",
      "False\n"
     ]
    }
   ],
   "source": [
    "print(bool(\"bonjour\"))\n",
    "print(bool(\"5\"))\n",
    "print(bool(1.5))\n",
    "\n",
    "print(bool(0))\n",
    "print(bool(''))\n",
    "print(bool(None))\n",
    "print(bool([]))"
   ]
  },
  {
   "cell_type": "markdown",
   "metadata": {},
   "source": [
    "- Si la chaine de caractères est un nombre (par exemple `\"1.4\"`) on peut la convertir en `float`\n",
    "- Si la chaine de caractères est un nombre entier (par exemple `\"5\"`), on peut la convertir en `int`"
   ]
  },
  {
   "cell_type": "code",
   "execution_count": 95,
   "metadata": {},
   "outputs": [
    {
     "name": "stdout",
     "output_type": "stream",
     "text": [
      "1.4\n",
      "1\n"
     ]
    }
   ],
   "source": [
    "#\n",
    "print(float(\"1.4\"))\n",
    "print(int(\"1\"))"
   ]
  },
  {
   "cell_type": "markdown",
   "metadata": {},
   "source": [
    "Cependant, On ne peut pas convertir un nombre en virgule flottante directement en `int`"
   ]
  },
  {
   "cell_type": "code",
   "execution_count": 96,
   "metadata": {},
   "outputs": [
    {
     "ename": "ValueError",
     "evalue": "invalid literal for int() with base 10: '1.4'",
     "output_type": "error",
     "traceback": [
      "\u001b[1;31m---------------------------------------------------------------------------\u001b[0m",
      "\u001b[1;31mValueError\u001b[0m                                Traceback (most recent call last)",
      "\u001b[1;32m~\\AppData\\Local\\Temp\\ipykernel_14492\\2223022832.py\u001b[0m in \u001b[0;36m<module>\u001b[1;34m\u001b[0m\n\u001b[1;32m----> 1\u001b[1;33m \u001b[0mprint\u001b[0m\u001b[1;33m(\u001b[0m\u001b[0mint\u001b[0m\u001b[1;33m(\u001b[0m\u001b[1;34m\"1.4\"\u001b[0m\u001b[1;33m)\u001b[0m\u001b[1;33m)\u001b[0m\u001b[1;33m\u001b[0m\u001b[1;33m\u001b[0m\u001b[0m\n\u001b[0m",
      "\u001b[1;31mValueError\u001b[0m: invalid literal for int() with base 10: '1.4'"
     ]
    }
   ],
   "source": [
    "print(int(\"1.4\"))"
   ]
  },
  {
   "cell_type": "markdown",
   "metadata": {},
   "source": [
    "L'astuce est de le convertir en `float` puis en `int`:"
   ]
  },
  {
   "cell_type": "code",
   "execution_count": 100,
   "metadata": {},
   "outputs": [
    {
     "data": {
      "text/plain": [
       "1"
      ]
     },
     "execution_count": 100,
     "metadata": {},
     "output_type": "execute_result"
    }
   ],
   "source": [
    "#\n",
    "int(float(\"1.4\"))"
   ]
  }
 ],
 "metadata": {
  "kernelspec": {
   "display_name": "Python 3 (ipykernel)",
   "language": "python",
   "name": "python3"
  },
  "language_info": {
   "codemirror_mode": {
    "name": "ipython",
    "version": 3
   },
   "file_extension": ".py",
   "mimetype": "text/x-python",
   "name": "python",
   "nbconvert_exporter": "python",
   "pygments_lexer": "ipython3",
   "version": "3.7.3"
  },
  "widgets": {
   "application/vnd.jupyter.widget-state+json": {
    "state": {},
    "version_major": 2,
    "version_minor": 0
   }
  }
 },
 "nbformat": 4,
 "nbformat_minor": 4
}
