{
 "cells": [
  {
   "cell_type": "markdown",
   "metadata": {
    "tags": []
   },
   "source": [
    "# Les fonctions\n",
    "\n",
    "## Définition d'une fonction (`function`)\n",
    "\n",
    "Une fonction est un bloc de code qui ne s'exécute que lorsqu'elle est appelée. Nous pouvons transmettre des données, appelées paramètres, dans une fonction. Elle peut renvoyer des données en conséquence.\n",
    "\n",
    "Nous avons rencontré plusieurs fonction dites `built-in functions` telles que, `print()`, `input()`,  `len()`, `sum()`, ... Il s'agit en fait d'un ensemble d'instruction qui servent à réaliser une tache (déterminer la taille d'une liste, sommer les éléments d'une liste,...)"
   ]
  },
  {
   "cell_type": "markdown",
   "metadata": {},
   "source": [
    "## Création d'une fonction\n",
    "\n",
    "En Python, une fonction est définie à l'aide du mot-clé `def` :\n",
    "\n",
    "Ls syntaxe pour créer une fonction est la suivante :\n",
    "\n",
    "```python\n",
    "def une_fonction(arguments):\n",
    "    instructions\n",
    "    return donnees (eventuellement)\n",
    "```\n",
    "\n",
    "Voici une fonction qui ne renvoie aucune données mais il affiche un message :\n"
   ]
  },
  {
   "cell_type": "code",
   "execution_count": 38,
   "metadata": {},
   "outputs": [],
   "source": [
    "# création d'une fonction sans arguments sans return\n",
    "def hello_world_function():\n",
    "    print(\"hello world!\")\n",
    "          \n",
    "# création d'une fonction avec arguments sans return\n",
    "def bonjour_function(nom):\n",
    "    print(\"Bonjour \"+nom)\n",
    "          \n",
    "# création d'une fonction sans argument avec return\n",
    "def cinq():\n",
    "          return 5\n",
    "          \n",
    "# création d'une fonction avec argument avec return\n",
    "def caree(nombre):\n",
    "    return nombre**2\n"
   ]
  },
  {
   "cell_type": "code",
   "execution_count": 2,
   "metadata": {},
   "outputs": [
    {
     "name": "stdout",
     "output_type": "stream",
     "text": [
      "hello world!\n",
      "None\n",
      "Bonjour iaousse\n",
      "None\n",
      "8\n",
      "225\n"
     ]
    }
   ],
   "source": [
    "print(hello_world_function())\n",
    "\n",
    "print(bonjour_function(\"iaousse\"))\n",
    "\n",
    "print(cinq()+3)\n",
    "print(caree(15))"
   ]
  },
  {
   "cell_type": "markdown",
   "metadata": {},
   "source": [
    "## Fonctions et procédures\n",
    "Les fonctions et les procédures ont la même syntaxe ; on les distingue de la manière suivante :\n",
    "- Une fonction prend des arguments et retourne une valeur ;\n",
    "- Une procédure réalise une action : affichage, écriture d'un fichier, ouverture d'une fenêtre graphique, modification d'un objet... Ces changements perdurent après l'appel de la procédure. Elle retourne la valeur `None`. Par exemple, la fonction `hello_world_function` est en fait une procédure."
   ]
  },
  {
   "cell_type": "code",
   "execution_count": 36,
   "metadata": {},
   "outputs": [
    {
     "name": "stdout",
     "output_type": "stream",
     "text": [
      "hello world!\n",
      "None\n"
     ]
    }
   ],
   "source": [
    "var = hello_world_function()\n",
    "print(var)"
   ]
  },
  {
   "cell_type": "markdown",
   "metadata": {},
   "source": [
    "## Arguments -- Paramètres\n",
    "\n",
    "Les termes paramètres et argument peuvent être utilisés pour la même chose : des informations transmises à une fonction.\n",
    "\n",
    "Cependant, du point de vue d'une fonction :\n",
    "\n",
    "- Un paramètre est la variable répertoriée entre parenthèses dans la définition de la fonction.\n",
    "\n",
    "- Un argument est la valeur qui est envoyée à la fonction lorsqu'elle est appelée.\n"
   ]
  },
  {
   "cell_type": "code",
   "execution_count": 39,
   "metadata": {},
   "outputs": [
    {
     "name": "stdout",
     "output_type": "stream",
     "text": [
      "50\n"
     ]
    }
   ],
   "source": [
    "def multip(x, y): # ici, x et y sont des paramètres de la fonction\n",
    "    return x*y\n",
    "\n",
    "x, y = 10, 5 # ici x et y sont des arguments qui doivent être passés à la fonction\n",
    "\n",
    "print(multip(x, y))\n"
   ]
  },
  {
   "cell_type": "markdown",
   "metadata": {},
   "source": [
    "Lorsqu'on définit une fonction `def fonction(x, y):` les arguments x et y sont appelés `arguments positionnels` (`positional arguments`). Il est strictement obligatoire de les préciser lors de l'appel de la fonction (telle qu la fonction `multip` definie ci-dessus). En effet, si une fonction attend deux arguments et nous ne lui en passons qu'un seul. Un message d'erreur et afficher :"
   ]
  },
  {
   "cell_type": "code",
   "execution_count": 5,
   "metadata": {},
   "outputs": [
    {
     "ename": "TypeError",
     "evalue": "multip() missing 1 required positional argument: 'y'",
     "output_type": "error",
     "traceback": [
      "\u001b[1;31m---------------------------------------------------------------------------\u001b[0m",
      "\u001b[1;31mTypeError\u001b[0m                                 Traceback (most recent call last)",
      "\u001b[1;32m~\\AppData\\Local\\Temp\\ipykernel_12724\\3267011078.py\u001b[0m in \u001b[0;36m<module>\u001b[1;34m\u001b[0m\n\u001b[0;32m      1\u001b[0m \u001b[0ma\u001b[0m \u001b[1;33m=\u001b[0m \u001b[1;36m5\u001b[0m\u001b[1;33m\u001b[0m\u001b[1;33m\u001b[0m\u001b[0m\n\u001b[1;32m----> 2\u001b[1;33m \u001b[0mprint\u001b[0m\u001b[1;33m(\u001b[0m\u001b[0mmultip\u001b[0m\u001b[1;33m(\u001b[0m\u001b[0ma\u001b[0m\u001b[1;33m)\u001b[0m\u001b[1;33m)\u001b[0m\u001b[1;33m\u001b[0m\u001b[1;33m\u001b[0m\u001b[0m\n\u001b[0m",
      "\u001b[1;31mTypeError\u001b[0m: multip() missing 1 required positional argument: 'y'"
     ]
    }
   ],
   "source": [
    "a = 5\n",
    "print(multip(a))"
   ]
  },
  {
   "cell_type": "markdown",
   "metadata": {},
   "source": [
    "En plus, l'ordre des arguments doit être respecter dans la fonction, nous allons illustrer ça avec la fonction suivante :"
   ]
  },
  {
   "cell_type": "code",
   "execution_count": 40,
   "metadata": {},
   "outputs": [
    {
     "name": "stdout",
     "output_type": "stream",
     "text": [
      "1\n",
      "-1\n",
      "1\n"
     ]
    }
   ],
   "source": [
    "def soustra(x, y):\n",
    "    return x-y\n",
    "\n",
    "# le premier argument est 5 le deuxième est 4\n",
    "print(soustra(5, 4))\n",
    "# le premier argument est 4 le deuxième est 5\n",
    "print(soustra(4, 5))\n",
    "# le premier argument est 5 le deuxième est 4\n",
    "print(soustra(y=4, x = 5))\n"
   ]
  },
  {
   "cell_type": "markdown",
   "metadata": {},
   "source": [
    "Un argument défini avec une syntaxe `def fonction(arg=val):` est appelé `argument par mot-clé` (`keyword argument`). Le passage d'un tel argument lors de l'appel de la fonction est facultatif."
   ]
  },
  {
   "cell_type": "code",
   "execution_count": 10,
   "metadata": {},
   "outputs": [
    {
     "name": "stdout",
     "output_type": "stream",
     "text": [
      "50\n",
      "5\n"
     ]
    }
   ],
   "source": [
    "def multip1(x, y=1):\n",
    "    return x*y\n",
    "\n",
    "print(multip1(5, 10))\n",
    "print(multip1(5))"
   ]
  },
  {
   "cell_type": "code",
   "execution_count": 15,
   "metadata": {},
   "outputs": [
    {
     "name": "stdout",
     "output_type": "stream",
     "text": [
      "50\n",
      "10\n"
     ]
    }
   ],
   "source": [
    "def multip1(x=5, y=2):\n",
    "    return x*y\n",
    "\n",
    "print(multip1(5, 10))\n",
    "print(multip1())"
   ]
  },
  {
   "cell_type": "markdown",
   "metadata": {},
   "source": [
    "Les arguments par mot-clé sont pris dans l'ordre dans lesquels on les passe lors de l'appel. "
   ]
  },
  {
   "cell_type": "code",
   "execution_count": 16,
   "metadata": {},
   "outputs": [
    {
     "name": "stdout",
     "output_type": "stream",
     "text": [
      "10\n"
     ]
    }
   ],
   "source": [
    "print(multip1(5)) # ici x qui prend la valeur 5"
   ]
  },
  {
   "cell_type": "markdown",
   "metadata": {},
   "source": [
    "Si l'on souhaite préciser l'argument par mot-clé `y` et garder la valeur de `x` par défaut, on doit simplement préciser le nom de l'argument lors de l'appel :"
   ]
  },
  {
   "cell_type": "code",
   "execution_count": 17,
   "metadata": {},
   "outputs": [
    {
     "name": "stdout",
     "output_type": "stream",
     "text": [
      "10\n",
      "25\n"
     ]
    }
   ],
   "source": [
    "print(multip1(5)) # ici x qui prend la valeur 5\n",
    "print(multip1(y=5)) # ici y qui prend la valeur 5"
   ]
  },
  {
   "cell_type": "markdown",
   "metadata": {},
   "source": [
    "Python permet même de rentrer les arguments par mot-clé dans un ordre arbitraire. On peut aussi avoir un mélange d'`arguments positionnels` et `par mot-clé`. Mais, **les arguments positionnels doivent toujours être placés avant les arguments par mot-clé** :"
   ]
  },
  {
   "cell_type": "code",
   "execution_count": 21,
   "metadata": {},
   "outputs": [
    {
     "name": "stdout",
     "output_type": "stream",
     "text": [
      "-5\n",
      "5\n"
     ]
    }
   ],
   "source": [
    "def soustr2(y=1, x=5):\n",
    "    return x-y\n",
    "print(soustr2(x=5, y=10))\n",
    "print(soustr2(y=5, x=10))"
   ]
  },
  {
   "cell_type": "code",
   "execution_count": 25,
   "metadata": {},
   "outputs": [
    {
     "name": "stdout",
     "output_type": "stream",
     "text": [
      "(1, 1, 1, 1, 1)\n",
      "(1, 1, 1, 100, 200)\n"
     ]
    }
   ],
   "source": [
    "def fonction(a, b, c, d=100, e=200):\n",
    "    return a , b, c, d, e\n",
    "\n",
    "print(fonction(1, 1, 1, 1, 1))\n",
    "\n",
    "print(fonction(1, 1, 1))"
   ]
  },
  {
   "cell_type": "code",
   "execution_count": 27,
   "metadata": {},
   "outputs": [
    {
     "ename": "SyntaxError",
     "evalue": "non-default argument follows default argument (231190923.py, line 1)",
     "output_type": "error",
     "traceback": [
      "\u001b[1;36m  File \u001b[1;32m\"C:\\Users\\usr\\AppData\\Local\\Temp\\ipykernel_12724\\231190923.py\"\u001b[1;36m, line \u001b[1;32m1\u001b[0m\n\u001b[1;33m    def fonction(d=100, e=200, a, b, c):\u001b[0m\n\u001b[1;37m                ^\u001b[0m\n\u001b[1;31mSyntaxError\u001b[0m\u001b[1;31m:\u001b[0m non-default argument follows default argument\n"
     ]
    }
   ],
   "source": [
    "def fonction(d=100, e=200, a, b, c):\n",
    "    return a , b, c, d, e\n",
    "\n",
    "print(fonction(1, 1, 1, 1, 1))\n",
    "\n",
    "print(fonction(1, 1, 1))"
   ]
  },
  {
   "cell_type": "markdown",
   "metadata": {},
   "source": [
    "## Variables locales et variables globales\n",
    "\n",
    "Lorsqu'on manipule des fonctions, il est essentiel de bien comprendre comment se comportent les variables. Une variable est dite `locale` lorsqu'elle est créée dans une fonction. Elle n'existera et ne sera visible que lors de l'exécution de ladite fonction.\n",
    "\n",
    "Une variable est dite `globale` lorsqu'elle est créée dans le programme principal. Elle sera visible partout dans le programme.\n",
    "\n",
    "Voici un exemple illustratif:"
   ]
  },
  {
   "cell_type": "code",
   "execution_count": 43,
   "metadata": {},
   "outputs": [
    {
     "name": "stdout",
     "output_type": "stream",
     "text": [
      "4\n"
     ]
    }
   ],
   "source": [
    "# Un espace de la mémoire nommé Global frame est alloue au programme principal\n",
    "def addition(a, b):\n",
    "    # un espace des variables est alloué à la fonction une fois elle est appelée\n",
    "    c = a+ b # c, a et b sont des variables locales\n",
    "    return c\n",
    "x, y = 1, 3 # x et y sont des variables globales \n",
    "z = addition(x, y) # z est une variable globale\n",
    "# Lorsque Python quitte la fonction, l'espace des variables alloué à la fonction est détruit. \n",
    "# Toutes les variables créées dans la fonction n'existent plus.\n",
    "print(z)"
   ]
  },
  {
   "cell_type": "code",
   "execution_count": 44,
   "metadata": {},
   "outputs": [
    {
     "ename": "NameError",
     "evalue": "name 'c' is not defined",
     "output_type": "error",
     "traceback": [
      "\u001b[1;31m---------------------------------------------------------------------------\u001b[0m",
      "\u001b[1;31mNameError\u001b[0m                                 Traceback (most recent call last)",
      "\u001b[1;32m~\\AppData\\Local\\Temp\\ipykernel_12724\\954765826.py\u001b[0m in \u001b[0;36m<module>\u001b[1;34m\u001b[0m\n\u001b[1;32m----> 1\u001b[1;33m \u001b[0mprint\u001b[0m\u001b[1;33m(\u001b[0m\u001b[0mc\u001b[0m\u001b[1;33m)\u001b[0m \u001b[1;31m# Python ne va pas reconnaitre cette variable car elle n'existe pas dans Global frame\u001b[0m\u001b[1;33m\u001b[0m\u001b[1;33m\u001b[0m\u001b[0m\n\u001b[0m",
      "\u001b[1;31mNameError\u001b[0m: name 'c' is not defined"
     ]
    }
   ],
   "source": [
    "print(c) # Python ne va pas reconnaitre cette variable car elle n'existe pas dans Global frame"
   ]
  },
  {
   "cell_type": "markdown",
   "metadata": {},
   "source": [
    "## Fonctions récursives\n",
    "\n",
    "Une simple définition d'une `fonction récursive` est une fonction qui contient au moins un appel à elle-même. Un `langage récursif` est un langage dans lequel on peut programmer des fonctions récursives. Python est un langage récursif. Un simple exemple pour exploiter les fonctions récursives est le calcul des puissances de deux : $2^n$."
   ]
  },
  {
   "cell_type": "code",
   "execution_count": 37,
   "metadata": {},
   "outputs": [
    {
     "name": "stdout",
     "output_type": "stream",
     "text": [
      "16\n"
     ]
    }
   ],
   "source": [
    "def puissances_de_deux(n):\n",
    "    if n == 0:\n",
    "        return 1\n",
    "    else:\n",
    "        return 2*puissances_de_deux(n-1)\n",
    "    \n",
    "print(puissances_de_deux(4))"
   ]
  },
  {
   "cell_type": "markdown",
   "metadata": {},
   "source": [
    "```{warning}\n",
    "Pour s'assurer de la terminaison d'une fonction récursive, on doit respecter les règles suivantes :\n",
    "- La fonction doit contenir un ou plusieurs cas de base ne comportant pas d'appel récursif.\n",
    "Dans la fonction puissances_de_deux : c'est le cas $n = 0$.\n",
    "- Les appels de la fonction se font des arguments plus simples pour conduire aux cas de base\n",
    "Dans l'appel de puissances_de_deux(n) : les arguments successifs sont $n − 1 > n − 2 > · · · > 0$.\n",
    "```\n"
   ]
  }
 ],
 "metadata": {
  "kernelspec": {
   "display_name": "Python 3 (ipykernel)",
   "language": "python",
   "name": "python3"
  },
  "language_info": {
   "codemirror_mode": {
    "name": "ipython",
    "version": 3
   },
   "file_extension": ".py",
   "mimetype": "text/x-python",
   "name": "python",
   "nbconvert_exporter": "python",
   "pygments_lexer": "ipython3",
   "version": "3.7.3"
  },
  "widgets": {
   "application/vnd.jupyter.widget-state+json": {
    "state": {},
    "version_major": 2,
    "version_minor": 0
   }
  }
 },
 "nbformat": 4,
 "nbformat_minor": 4
}
