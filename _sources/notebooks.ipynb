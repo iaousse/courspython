{
 "cells": [
  {
   "cell_type": "markdown",
   "metadata": {
    "tags": []
   },
   "source": [
    "Introduction\n",
    "===========\n",
    "\n",
    "Le present chapitre introduit les grandes caractéristiques du langage Python, le replace dans l'histoire des langages informatiques, donne les particularités de production des programmes, définit la notion si importante d'algorithme et conclut sur les divers implémentations disponibles.\n",
    "Python est un langage de programmation de haut niveau (high-level programming language), avec des applications dans de nombreux domaines, notamment la programmation Web, le calcul scientifique et l'intelligence artificielle !\n",
    "\n",
    "Python est très populaire et utilisé par des organisations telles que Google, la NASA, la CIA et Disney.\n",
    "\n",
    "Le langage Python , est un de langage Interprété et dynamique. Il support la programmation orienté objet et il est interfacable avec plusieurs autres langage de programmation. L'un des plus grands avantage de Python est sa lisibilite, la simplicite de sa syntaxe et une large communaute qui est deriere son developement.\n",
    "\n",
    "### Hello world!\n",
    "Commençons par créer un programme court qui affiche la fameuse phrase \"Hello world!\".\n",
    "En Python, on utilise la fonction `print` pour afficher du texte comme output."
   ]
  },
  {
   "cell_type": "code",
   "execution_count": 1,
   "metadata": {},
   "outputs": [
    {
     "name": "stdout",
     "output_type": "stream",
     "text": [
      "Hello world!\n"
     ]
    }
   ],
   "source": [
    "print(\"Hello world!\")"
   ]
  },
  {
   "cell_type": "markdown",
   "metadata": {},
   "source": [
    "Exercice: Ecrire un programme qui permet d'afficher \"Bonjour tout le monde!\"."
   ]
  },
  {
   "cell_type": "code",
   "execution_count": 54,
   "metadata": {},
   "outputs": [],
   "source": [
    "# votre code ici"
   ]
  },
  {
   "cell_type": "markdown",
   "metadata": {},
   "source": [
    "### Les operations arithemetique en Python\n",
    "Dans sa forme la plus élémentaire, Python peut être utilisé tout simpliement comme une `calculatrice`. Il peut relaiser les opérations arithmétiques suivantes :\n",
    "- Addition : `+`\n",
    "- Soustraction : `-`\n",
    "- Multiplication : `*`\n",
    "- Division entière : `//`\n",
    "- Division : `/`\n",
    "- Exponentation : `**`\n",
    "- Modulo : `%`\n",
    "\n",
    "On rappelle que la division entiere revoi le quotient de la division euclidienne et le modulo renvoie le reste de la division euclidienne. Par exemple 7 // 4 est 1; 7 % 4 est 3, 5//2 est 2; 5%2 est 1.\n",
    "\n",
    "Commencons maitnant a programmer. Nous voulons calculer 1+5, 5-4, 4*3, (10+8)/3, 2\\**4, 28//6 et 28%6;\n",
    "Comme dans la plupart des languages de programmation, on utilise les symboles suivants pour les operations mathematique:"
   ]
  },
  {
   "cell_type": "code",
   "execution_count": 13,
   "metadata": {},
   "outputs": [
    {
     "name": "stdout",
     "output_type": "stream",
     "text": [
      "6\n",
      "1\n",
      "12\n",
      "6.0\n",
      "16\n",
      "4\n",
      "4\n"
     ]
    }
   ],
   "source": [
    "# addition\n",
    "print(1+5)\n",
    "\n",
    "# soustraction\n",
    "print(5-4)\n",
    "\n",
    "# multiplication\n",
    "print(4*3)\n",
    "\n",
    "# division\n",
    "print((10+8)/3)\n",
    "\n",
    "#exponentiation\n",
    "print(2**4)\n",
    "\n",
    "# division entiere\n",
    "print(28//6)\n",
    "\n",
    "# modulo\n",
    "print(28%6)"
   ]
  },
  {
   "cell_type": "markdown",
   "metadata": {},
   "source": [
    "_**Note**_: Toute chose commencant par `#` est un **commentaire**, il sera ingnore par Python. Les commentaires sont une boone maniere de svoir ce qu'on fait ou pour que une autre personne sache ce qu'on fait.\n",
    "\n",
    "### Affectation et variable\n",
    "\n",
    "Une variable est concept fondamental en programmation. Elle permet de stocker une valeur (par exemple  la valeur 2) ou un objet (par exemple une fonction, liste, tableau, vecteur, ...). Cela permet de l'utiliser ultérieurement pour accéder facilement à la valeur ou à l'objet qui est stocké dans cette variable.\n",
    "\n",
    "On affecte une valeur a une variable on utilisant le symbole `=`. Si vous voulez stocker la valeur 4 dans une varaible nomee `ma_valeur` on peut faire comme suit:\n"
   ]
  },
  {
   "cell_type": "code",
   "execution_count": 15,
   "metadata": {},
   "outputs": [
    {
     "name": "stdout",
     "output_type": "stream",
     "text": [
      "4\n"
     ]
    }
   ],
   "source": [
    "# affecter la valeur 4 a la varaible ma_valeur\n",
    "ma_valeur = 4\n",
    "# afficher le contenu de la variable ma_valeur\n",
    "print(ma_valeur)"
   ]
  },
  {
   "cell_type": "markdown",
   "metadata": {},
   "source": [
    "On peut faire toutes les operations susmentionnees avec les variables a la place de valeurs. Voici un exemple, le nombre des hommes dans la classe est 10 le nombre des femmes est 18."
   ]
  },
  {
   "cell_type": "code",
   "execution_count": 16,
   "metadata": {},
   "outputs": [
    {
     "name": "stdout",
     "output_type": "stream",
     "text": [
      "28\n"
     ]
    }
   ],
   "source": [
    "# affecter le nombre des etudiants de sexe masculin a la variable hommes\n",
    "hommes = 10\n",
    "#affecter le nombre des etudiants de sexe fiminin a la variable femmes\n",
    "femmes = 18\n",
    "\n",
    "# affecter le nombre total des etudiants a la variable total_etudiant\n",
    "total_etudiant = hommes + femmes\n",
    "\n",
    "# Aficher le nombre total d'etudiants\n",
    "print(total_etudiant)"
   ]
  },
  {
   "cell_type": "markdown",
   "metadata": {},
   "source": [
    "Python supporte les opérateurs d'affectation suivants : `=`, `+ =`, `– =`, `*=`, `/=`, `%=`, `**=` et `//=`.\n",
    "\n",
    "Le premier operateur. Les autres operateur ont la meme logique. Nous allons illustrer cette logique avex `+=` et vous alles comprendre l'utilisation des autres.\n",
    "\n",
    "Supponsons que nous avons un variables (soit `var`) qui contient une valeur (soit, par exemple 2). Et pour une raison (vous allez conforenter plusieurs raisons dans la suite de ce cours) nous voulons que cette varaible recoit l'ancienne valeur (2) plus une nouvelle valeur (soit, par exemple 1). On peut faire ca avec l'operateur `=` comme suit:"
   ]
  },
  {
   "cell_type": "code",
   "execution_count": 36,
   "metadata": {},
   "outputs": [
    {
     "name": "stdout",
     "output_type": "stream",
     "text": [
      "3\n"
     ]
    }
   ],
   "source": [
    "#la variable var contient la valeur 2\n",
    "var = 2\n",
    "# la varaible var recoit l'ancienne valeur plus 1\n",
    "var = var +1\n",
    "# afficher le contenu de la variable var\n",
    "print(var)"
   ]
  },
  {
   "cell_type": "markdown",
   "metadata": {},
   "source": [
    "On peut faire la meme instruction avec l'operateur `+=` comme suit:"
   ]
  },
  {
   "cell_type": "code",
   "execution_count": 37,
   "metadata": {},
   "outputs": [
    {
     "name": "stdout",
     "output_type": "stream",
     "text": [
      "3\n"
     ]
    }
   ],
   "source": [
    "#la variable var contient la valeur 2\n",
    "var = 2\n",
    "# la varaible var recoit l'ancienne valeur plus 1\n",
    "var += 1\n",
    "# afficher le contenu de la variable var\n",
    "print(var)"
   ]
  },
  {
   "cell_type": "markdown",
   "metadata": {},
   "source": [
    "### Types de données de base dans Python\n",
    "Il existe de nombreux types de donnees dans Python. Voic quelques uns les plus basiques :\n",
    " \n",
    "- `float`: Les valeurs décimales telles que 10,15 (attention en utilise `.` comme decimal au lieu de `,`).\n",
    "- `int` (les nombres entiers)\": les valeurs comme 8; 4; 10 sont des entiers (`int`). Les entiers font aussi partie des valeurs numeriques.\n",
    "- `bool` (les valeurs booléennes (`True` ou `False`) sont dites valeurs logiques.\n",
    "- `str` (les characteres, ou chaînes de characters). Les guillemets`\"texte\"` (ou encore les apostrophes `'texte'`) indiquent que `texte` est de type `str`.\n",
    "- `complex`(les nombre complexes):  sont les nombres contenant une partie reelle et une partie imaginaire. En mathematique, on note $i$ le nombre complexe dans le caree est egale a 1. Cependant, en Python, on utilise la lettre `j` (ou `J`) pour indiquer ce nombre. Par exemple, si on voulais ecrire le nombre `3+1.5i` (le nombre complexe dont la partie reelle est 3 et la partie imaginaire est 1.5) en python on ecrit `3 + 1.5j`.\n",
    "- `None`: type Le mot-clé `None` est utilisé pour définir une valeur nulle (pas 0), ou aucune valeur du tout. `None` n'est pas la même chose que `0`, `False` ou une chaîne vide `''`. `None` est un type de données en soi (`NoneType`) et la seule valeur qui peut être de type `None` est le mot-clé`None`.\n",
    "\n",
    "Ces nous avons un varaible (ou meme une valeur) et nous voulons savoir son types de donnees, on utilise la fonction `type`. Il faut etre prudent lorsqu'on voulais faire des operations sur des variables si leur type n'est le meme!"
   ]
  },
  {
   "cell_type": "code",
   "execution_count": 91,
   "metadata": {},
   "outputs": [
    {
     "name": "stdout",
     "output_type": "stream",
     "text": [
      "<class 'int'>\n",
      "<class 'float'>\n",
      "<class 'bool'>\n",
      "<class 'str'>\n",
      "<class 'complex'>\n",
      "<class 'NoneType'>\n"
     ]
    }
   ],
   "source": [
    "# cette instruction va afficher int\n",
    "print(type(1))\n",
    "# cette instruction va afficher float\n",
    "print(type(1.5))\n",
    "\n",
    "# cette instruction va afficher  bool\n",
    "print(type(True))\n",
    "# cette instruction va afficher str\n",
    "print(type(\"bonjour\"))\n",
    "\n",
    "# cette instruction va afficher complex\n",
    "print(type(5+17.89j))\n",
    "\n",
    "# cette instruction va afficher NoneType\n",
    "print(type(None))"
   ]
  },
  {
   "cell_type": "markdown",
   "metadata": {},
   "source": [
    "Sous Python, on peut aussi  définir une liste comme une collection d’éléments séparés par des virgules, l’ensemble étant enfermé dans des crochets `[ ]`. les elements de la liste peuvent etre de n'importe quel type. Voic un exemple d'un liste en python :`jour_et_nombre = ['lundi', 'mardi', 'mercredi', 'jeudi', 'vendredi', 'samedi', 'dimanche', 0, 1, 5]`."
   ]
  },
  {
   "cell_type": "code",
   "execution_count": 51,
   "metadata": {},
   "outputs": [
    {
     "name": "stdout",
     "output_type": "stream",
     "text": [
      "['lundi', 'mardi', 'mercredi', 'jeudi', 'vendredi', 'samedi', 'dimanche', 0, 1, 5]\n",
      "<class 'list'>\n"
     ]
    }
   ],
   "source": [
    "#\n",
    "jour_et_nombre = ['lundi', 'mardi', 'mercredi', 'jeudi', 'vendredi', 'samedi', 'dimanche', 0, 1, 5]\n",
    "\n",
    "#\n",
    "print(jour_et_nombre)\n",
    "\n",
    "#\n",
    "print(type(jour_et_nombre))"
   ]
  },
  {
   "cell_type": "markdown",
   "metadata": {},
   "source": [
    "Lorsqu'on dit que les elements d'une liste peuvent contenir n'importe quel type, on ne rigole pas. Voici une illustration:"
   ]
  },
  {
   "cell_type": "code",
   "execution_count": 53,
   "metadata": {},
   "outputs": [
    {
     "name": "stdout",
     "output_type": "stream",
     "text": [
      "[1, 3, 'bonjour']\n",
      "[None, True, (3+2j), '']\n",
      "[[1, 3, 'bonjour'], [None, True, (3+2j), '']]\n",
      "[[1, 3, 'bonjour'], [None, True, (3+2j), ''], [[1, 3, 'bonjour'], [None, True, (3+2j), '']]]\n"
     ]
    }
   ],
   "source": [
    "# on peut avoir une liste contenant des listes comme des elements\n",
    "# une premiere liste\n",
    "list1 = [1, 3, 'bonjour']\n",
    "\n",
    "# une deuxieme liste\n",
    "list2 = [None, True, 3+2j, '']\n",
    "\n",
    "# une troisieme list contenant list1 et list2 comme elements\n",
    "list3 = [list1, list2]\n",
    "\n",
    "# une quatrieme list contenant list1, list2, et list3 comme elements\n",
    "list4 = [list1, list2, list3]\n",
    "\n",
    "# afficher les listes\n",
    "print(list1)\n",
    "print(list2)\n",
    "print(list3)\n",
    "print(list4)"
   ]
  },
  {
   "cell_type": "markdown",
   "metadata": {},
   "source": [
    "### Opérateurs logiques:\n",
    "En python, il exeste trois operateurs logiques: `or` qui signifie ou, `and` qui signifie et, et `not` qui signifie non.\n",
    "\n",
    "Pour mieux illustrer ces operations, soient `var1= True` et `var2 = False`. Quel serait le resultat des instructions suivantes:\n",
    "- `var1 or var2`\n",
    "- `var1 and var2`\n",
    "- `not var1`\n",
    "- `(var1 and var2) or (not var2)` "
   ]
  },
  {
   "cell_type": "code",
   "execution_count": 38,
   "metadata": {},
   "outputs": [
    {
     "name": "stdout",
     "output_type": "stream",
     "text": [
      "True\n",
      "False\n",
      "False\n",
      "True\n"
     ]
    }
   ],
   "source": [
    "# initialiser les deux variables\n",
    "var1 = True; var2 = False # remarquer qu'on peut faire plusieures instructions dans un meme linge. Cependant, il est deconsille\n",
    "#\n",
    "print(var1 or var2)\n",
    "\n",
    "#\n",
    "print(var1 and var2)\n",
    "\n",
    "#\n",
    "print(not var1)\n",
    "\n",
    "# \n",
    "print((var1 and var2) or (not var2))"
   ]
  },
  {
   "cell_type": "markdown",
   "metadata": {
    "tags": []
   },
   "source": [
    "### Opérateurs relationnels (tests):\n",
    "\n",
    "En python, il exeste six opérateurs relationnels: \n",
    "- `<` qui permet de tester si une valeur et strictement inferieure a une autre;\n",
    "- `<=` qui permet de tester si une valeur et inferieure ou egale a une autre;\n",
    "- `>` qui permet de tester si une valeur et strictement superieure a une autre;\n",
    "- `>=` qui permet de tester si une valeur et superieure ou egale a une autre;\n",
    "- `!=` ou `<>` qui permet de tester si une valeur est egale a une autre;\n",
    "- et `==` qui permet de tester l'egalite de deux valeurs.\n",
    "\n",
    "Soient `var1 = 5`, `var2 = 2+3`, `var3 = 6`, `var4 = \"bonjour\"`, `var5 = True`. Quel serait le resultat des instructions suivantes:\n",
    "- `var1 == var2`;\n",
    "- `var2 != var4`;\n",
    "- `var3 > var1+ var2`;\n",
    "- `var3< var1 + var2`;"
   ]
  },
  {
   "cell_type": "code",
   "execution_count": 47,
   "metadata": {},
   "outputs": [
    {
     "name": "stdout",
     "output_type": "stream",
     "text": [
      "True\n",
      "True\n",
      "False\n",
      "True\n"
     ]
    }
   ],
   "source": [
    "#\n",
    "var1 = 5; var2 = 2+3; var3 = 6; var4 = \"bonjour\"; var5 = True\n",
    "\n",
    "#\n",
    "print(var1 == var2)\n",
    "\n",
    "#\n",
    "print(var1 != var4)\n",
    "\n",
    "#\n",
    "print(var3 > var1 + var2)\n",
    "\n",
    "#\n",
    "print(var3 < var1 + var2)"
   ]
  },
  {
   "cell_type": "markdown",
   "metadata": {},
   "source": [
    "### Affichage\n",
    "\n",
    "Nous avons rencontré, dans ce qui precede, la fonction `print` qui affiche une chaîne de caractères (`print(\"Hello world!\")`). \n",
    "Pour avoir des informations sur la fonction `print` (eventuellement sur toute autre fonction en python) on utilise la fonction `help`."
   ]
  },
  {
   "cell_type": "code",
   "execution_count": 57,
   "metadata": {},
   "outputs": [
    {
     "name": "stdout",
     "output_type": "stream",
     "text": [
      "Help on built-in function print in module builtins:\n",
      "\n",
      "print(...)\n",
      "    print(value, ..., sep=' ', end='\\n', file=sys.stdout, flush=False)\n",
      "    \n",
      "    Prints the values to a stream, or to sys.stdout by default.\n",
      "    Optional keyword arguments:\n",
      "    file:  a file-like object (stream); defaults to the current sys.stdout.\n",
      "    sep:   string inserted between values, default a space.\n",
      "    end:   string appended after the last value, default a newline.\n",
      "    flush: whether to forcibly flush the stream.\n",
      "\n"
     ]
    }
   ],
   "source": [
    "help(print)"
   ]
  },
  {
   "cell_type": "markdown",
   "metadata": {},
   "source": [
    "la fonction `print` peut prendre plusieur arguments, les valeurs de tout types de donnees, les variables, par defaut, le separateur entre les arguments est l'espace (`sep=' '`) et la fin de l'affichage est un retuour a la ligne (`end='\\n'`). Dans les exemple suivnat nous allons voir comment cette fonction affiche plusieur arguments et nous allons modifier le separateur (sep) et la fin de l'affichage (end)."
   ]
  },
  {
   "cell_type": "code",
   "execution_count": 58,
   "metadata": {},
   "outputs": [
    {
     "name": "stdout",
     "output_type": "stream",
     "text": [
      "Hello\n",
      "World\n"
     ]
    }
   ],
   "source": [
    "#\n",
    "print('Hello')\n",
    "print('World')"
   ]
  },
  {
   "cell_type": "code",
   "execution_count": 62,
   "metadata": {},
   "outputs": [
    {
     "name": "stdout",
     "output_type": "stream",
     "text": [
      "Hello World\n"
     ]
    }
   ],
   "source": [
    "#\n",
    "print('Hello','World')"
   ]
  },
  {
   "cell_type": "code",
   "execution_count": 63,
   "metadata": {},
   "outputs": [
    {
     "name": "stdout",
     "output_type": "stream",
     "text": [
      "Hello World\n"
     ]
    }
   ],
   "source": [
    "#\n",
    "var1 = 'Hello'; var2 = 'World'\n",
    "print(var1,var2)"
   ]
  },
  {
   "cell_type": "code",
   "execution_count": 64,
   "metadata": {},
   "outputs": [
    {
     "name": "stdout",
     "output_type": "stream",
     "text": [
      "HelloWorld\n"
     ]
    }
   ],
   "source": [
    "#\n",
    "print(var1, end='')\n",
    "print('World')"
   ]
  },
  {
   "cell_type": "code",
   "execution_count": 65,
   "metadata": {},
   "outputs": [
    {
     "name": "stdout",
     "output_type": "stream",
     "text": [
      "Hello--world\n"
     ]
    }
   ],
   "source": [
    "#\n",
    "print(var1, 'world', sep = '--')"
   ]
  },
  {
   "cell_type": "code",
   "execution_count": 66,
   "metadata": {},
   "outputs": [
    {
     "name": "stdout",
     "output_type": "stream",
     "text": [
      "la valeur de la variable x est: 10\n"
     ]
    }
   ],
   "source": [
    "#\n",
    "x = 10\n",
    "print('la valeur de la variable x est',x, sep=': ')"
   ]
  },
  {
   "cell_type": "markdown",
   "metadata": {
    "tags": []
   },
   "source": [
    "Nous allons revenir a la fonction `print` lorsque nous allons parler de `l'écriture formatée`. \n",
    "## Lecture d'informations\n",
    "Parfois, on est amene a ce que notre programme depend de intervention de l'utilisateur (entrée d'un paramètre, clic de souris sur un bouton, etc.). Dans un programme simple, on utilise la fonction `input`. Cette fonction invite l'utilisateur a entrer des donnees au clavier puis taper `<entrer>`. Lorsque le programme est execute, une case apparait a l'utilisateur pour entrer ces donner. Puis le programme continue a s'exucuter pour rendre un output. Les donnees entrees par l'utilisateur peuvent etre stockees dans une variable. Il est a noter que cette variable sera de type `str`. Donc, si l'on veut des donnees numeriques par exemple, on doit convertir cette variable au type de donne que nous souhaitons. Enfin, on peut y mettre comme argument un text qui oriente à l'utilisateur lors de l'entree des donnees. \n",
    "Voici un exemple dont on demande a l'utilisateur d'entrer son nom."
   ]
  },
  {
   "cell_type": "code",
   "execution_count": 2,
   "metadata": {},
   "outputs": [
    {
     "name": "stdin",
     "output_type": "stream",
     "text": [
      " Iaousse\n"
     ]
    },
    {
     "name": "stdout",
     "output_type": "stream",
     "text": [
      "Iaousse\n"
     ]
    }
   ],
   "source": [
    "x = input()\n",
    "print(x)"
   ]
  },
  {
   "cell_type": "markdown",
   "metadata": {},
   "source": [
    "Voici le meme exemple avec un message explicatif:"
   ]
  },
  {
   "cell_type": "code",
   "execution_count": 3,
   "metadata": {},
   "outputs": [
    {
     "name": "stdin",
     "output_type": "stream",
     "text": [
      "Veuillez entrer votre nom ici:  Iaousse\n"
     ]
    },
    {
     "name": "stdout",
     "output_type": "stream",
     "text": [
      "Iaousse\n"
     ]
    }
   ],
   "source": [
    "x = input(\"Veuillez entrer votre nom ici: \")\n",
    "print(x)"
   ]
  },
  {
   "cell_type": "markdown",
   "metadata": {},
   "source": [
    "Le type de la variable qui stock le contenu de `input` est toujours `str`:"
   ]
  },
  {
   "cell_type": "code",
   "execution_count": 4,
   "metadata": {},
   "outputs": [
    {
     "name": "stdin",
     "output_type": "stream",
     "text": [
      "merci d'entrer un chiffre:  100\n"
     ]
    },
    {
     "name": "stdout",
     "output_type": "stream",
     "text": [
      "<class 'str'>\n"
     ]
    }
   ],
   "source": [
    "x = input(\"merci d'entrer un chiffre: \")\n",
    "print(type(x))"
   ]
  },
  {
   "cell_type": "code",
   "execution_count": 5,
   "metadata": {},
   "outputs": [
    {
     "name": "stdin",
     "output_type": "stream",
     "text": [
      "merci d'entrer True:  True\n"
     ]
    },
    {
     "name": "stdout",
     "output_type": "stream",
     "text": [
      "<class 'str'>\n"
     ]
    }
   ],
   "source": [
    "x = input(\"merci d'entrer True: \")\n",
    "print(type(x))"
   ]
  },
  {
   "cell_type": "markdown",
   "metadata": {},
   "source": [
    "## convertir les types de donnees\n",
    "Il existe plusieurs raison pour lesquelles nous somme devant l'obligation de convertir les types de donnees (une raison est celle de `input` que nous avons vu). Les fonctions qui servent a la conversion entre les types de donnees sont les suivantes:\n",
    "- `int()`: pour convertir un type de donees en entier;\n",
    "- `float()`: pour convertir un type de donnees en vergule floattante.\n",
    "- `str()`: pour convertir un types de donnes en chaine de caracteres;\n",
    "- et `bool()`: pour convertir les types de donnes en valeurs booleennes.\n",
    "\n",
    "Les types de donnees `int` et `float` peuvent etre converti on tous autre type de donnees. La seule remarque est que la conversion d'un valeur de type `float` en `int` rend les chiffre avant la vegule (1.9 devient 1 apres conversion). Pour avoir l'entier le plus proche au nombre que nous voulons convertir, nous devons utiliser la fonction `round()`."
   ]
  },
  {
   "cell_type": "code",
   "execution_count": 25,
   "metadata": {},
   "outputs": [
    {
     "name": "stdout",
     "output_type": "stream",
     "text": [
      "1\n",
      "2\n"
     ]
    }
   ],
   "source": [
    "# int() va renvoyer 1\n",
    "print(int(1.9))\n",
    "# round() va renvoyer 2\n",
    "print(round(1.9))"
   ]
  },
  {
   "cell_type": "markdown",
   "metadata": {},
   "source": [
    "Prenons un exemple d'un nombre entier (`1`), un nombre en vergule flottante (`4.5`) et une valeur booleene (`True`)  puis voyons comment les convertir a chaque type de donnes que nous avons vu jusqu'a maintenant."
   ]
  },
  {
   "cell_type": "code",
   "execution_count": 60,
   "metadata": {},
   "outputs": [
    {
     "name": "stdout",
     "output_type": "stream",
     "text": [
      "\t\tAvant convertion:\n",
      "================\n",
      "La valeur de x : 1 \t\t\tLe type: <class 'int'>\n",
      "================\n",
      "\t\t Apres convertion\n",
      "================\n",
      "vergule flotante. Valeur: 1.0 \t\tLe type: <class 'float'>\n",
      "================\n",
      "Chaine de caracteres. Valeur: 1 \tLe type: <class 'str'>\n",
      "================\n",
      "Valeur booleene. Valeur: True \t\tLe type: <class 'bool'>\n",
      "================\n"
     ]
    }
   ],
   "source": [
    "x = 1\n",
    "x_float = float(x)\n",
    "x_str = str(x)\n",
    "x_bool = bool(x)\n",
    "\n",
    "\n",
    "print (\"\\t\\tAvant convertion:\", end=\"\\n================\\n\")\n",
    "print (\"La valeur de x :\", x, \"\\t\\t\\tLe type:\", type(x), end=\"\\n================\\n\")\n",
    "print (\"\\t\\t Apres convertion\", end=\"\\n================\\n\")\n",
    "print (\"vergule flotante. Valeur:\", x_float, \"\\t\\tLe type:\", type(x_float), end=\"\\n================\\n\")\n",
    "print (\"Chaine de caracteres. Valeur:\", x_str, \"\\tLe type:\", type(x_str), end=\"\\n================\\n\")\n",
    "print (\"Valeur booleene. Valeur:\", x_bool, \"\\t\\tLe type:\", type(x_bool), end=\"\\n================\\n\")"
   ]
  },
  {
   "cell_type": "code",
   "execution_count": 59,
   "metadata": {},
   "outputs": [
    {
     "name": "stdout",
     "output_type": "stream",
     "text": [
      "\t\tAvant convertion:\n",
      "================\n",
      "La valeur de y : 4.5 \t\t\tLe type: <class 'float'>\n",
      "================\n",
      "\t\t Apres convertion\n",
      "================\n",
      "Entier. Valeur: 4 \t\t\tLe type: <class 'int'>\n",
      "================\n",
      "Chaine de caracteres. Valeur: 4.5 \tLe type: <class 'str'>\n",
      "================\n",
      "Valeur booleene. Valeur: True \t\tLe type: <class 'bool'>\n",
      "================\n"
     ]
    }
   ],
   "source": [
    "y = 4.5\n",
    "\n",
    "y_int = int(y)\n",
    "y_str = str(y)\n",
    "y_bool = bool(y)\n",
    "\n",
    "print (\"\\t\\tAvant convertion:\", end=\"\\n================\\n\")\n",
    "print (\"La valeur de y :\", y, \"\\t\\t\\tLe type:\", type(y), end=\"\\n================\\n\")\n",
    "print (\"\\t\\t Apres convertion\", end=\"\\n================\\n\")\n",
    "print (\"Entier. Valeur:\", y_int, \"\\t\\t\\tLe type:\", type(y_int), end=\"\\n================\\n\")\n",
    "print (\"Chaine de caracteres. Valeur:\", y_str, \"\\tLe type:\", type(y_str), end=\"\\n================\\n\")\n",
    "print (\"Valeur booleene. Valeur:\", y_bool, \"\\t\\tLe type:\", type(y_bool), end=\"\\n================\\n\")"
   ]
  },
  {
   "cell_type": "code",
   "execution_count": 62,
   "metadata": {},
   "outputs": [
    {
     "name": "stdout",
     "output_type": "stream",
     "text": [
      "\t\tAvant convertion:\n",
      "================\n",
      "La valeur de z : True \t\t\tLe type: <class 'bool'>\n",
      "================\n",
      "\t\t Apres convertion\n",
      "================\n",
      "vergule flotante. Valeur: 1.0 \t\tLe type: <class 'float'>\n",
      "================\n",
      "Chaine de caracteres. Valeur: True \tLe type: <class 'str'>\n",
      "================\n",
      "Entier. Valeur: 1 \t\tLe type: <class 'int'>\n",
      "================\n"
     ]
    }
   ],
   "source": [
    "z = True\n",
    "z_float = float(z)\n",
    "z_str = str(z)\n",
    "z_int = int(z)\n",
    "\n",
    "\n",
    "print (\"\\t\\tAvant convertion:\", end=\"\\n================\\n\")\n",
    "print (\"La valeur de z :\", z, \"\\t\\t\\tLe type:\", type(z), end=\"\\n================\\n\")\n",
    "print (\"\\t\\t Apres convertion\", end=\"\\n================\\n\")\n",
    "print (\"vergule flotante. Valeur:\", z_float, \"\\t\\tLe type:\", type(z_float), end=\"\\n================\\n\")\n",
    "print (\"Chaine de caracteres. Valeur:\", z_str, \"\\tLe type:\", type(z_str), end=\"\\n================\\n\")\n",
    "print (\"Entier. Valeur:\", z_int, \"\\t\\tLe type:\", type(z_int), end=\"\\n================\\n\")"
   ]
  },
  {
   "cell_type": "markdown",
   "metadata": {},
   "source": [
    "Le type de donnees `str` est un peu particulier. On doit fair attention lors de la conversion. Si la valeur est une chaine de caracteres qui contient des lettres (a, b,...) ou d'autres symboles (+, @, ...). la converstion en `int` ou `float` renvoi une erreur."
   ]
  },
  {
   "cell_type": "code",
   "execution_count": 85,
   "metadata": {},
   "outputs": [
    {
     "ename": "ValueError",
     "evalue": "invalid literal for int() with base 10: 'bonjour'",
     "output_type": "error",
     "traceback": [
      "\u001b[1;31m---------------------------------------------------------------------------\u001b[0m",
      "\u001b[1;31mValueError\u001b[0m                                Traceback (most recent call last)",
      "\u001b[1;32m~\\AppData\\Local\\Temp\\ipykernel_14492\\389749341.py\u001b[0m in \u001b[0;36m<module>\u001b[1;34m\u001b[0m\n\u001b[0;32m      1\u001b[0m \u001b[0mx\u001b[0m \u001b[1;33m=\u001b[0m \u001b[1;34m\"bonjour\"\u001b[0m\u001b[1;33m\u001b[0m\u001b[1;33m\u001b[0m\u001b[0m\n\u001b[1;32m----> 2\u001b[1;33m \u001b[0mprint\u001b[0m\u001b[1;33m(\u001b[0m\u001b[0mint\u001b[0m\u001b[1;33m(\u001b[0m\u001b[0mx\u001b[0m\u001b[1;33m)\u001b[0m\u001b[1;33m)\u001b[0m\u001b[1;33m\u001b[0m\u001b[1;33m\u001b[0m\u001b[0m\n\u001b[0m",
      "\u001b[1;31mValueError\u001b[0m: invalid literal for int() with base 10: 'bonjour'"
     ]
    }
   ],
   "source": [
    "x = \"bonjour\"\n",
    "print(int(x))"
   ]
  },
  {
   "cell_type": "code",
   "execution_count": 86,
   "metadata": {},
   "outputs": [
    {
     "ename": "ValueError",
     "evalue": "could not convert string to float: 'bonjour'",
     "output_type": "error",
     "traceback": [
      "\u001b[1;31m---------------------------------------------------------------------------\u001b[0m",
      "\u001b[1;31mValueError\u001b[0m                                Traceback (most recent call last)",
      "\u001b[1;32m~\\AppData\\Local\\Temp\\ipykernel_14492\\1364929283.py\u001b[0m in \u001b[0;36m<module>\u001b[1;34m\u001b[0m\n\u001b[0;32m      1\u001b[0m \u001b[0mx\u001b[0m \u001b[1;33m=\u001b[0m \u001b[1;34m\"bonjour\"\u001b[0m\u001b[1;33m\u001b[0m\u001b[1;33m\u001b[0m\u001b[0m\n\u001b[1;32m----> 2\u001b[1;33m \u001b[0mprint\u001b[0m\u001b[1;33m(\u001b[0m\u001b[0mfloat\u001b[0m\u001b[1;33m(\u001b[0m\u001b[0mx\u001b[0m\u001b[1;33m)\u001b[0m\u001b[1;33m)\u001b[0m\u001b[1;33m\u001b[0m\u001b[1;33m\u001b[0m\u001b[0m\n\u001b[0m",
      "\u001b[1;31mValueError\u001b[0m: could not convert string to float: 'bonjour'"
     ]
    }
   ],
   "source": [
    "x = \"bonjour\"\n",
    "print(float(x))"
   ]
  },
  {
   "cell_type": "markdown",
   "metadata": {},
   "source": [
    "```{note}\n",
    "lorsqu'on convertit tout valeur (a l'exception de) on recoit `True`.\n",
    "```"
   ]
  },
  {
   "cell_type": "code",
   "execution_count": 88,
   "metadata": {},
   "outputs": [
    {
     "name": "stdout",
     "output_type": "stream",
     "text": [
      "True\n",
      "True\n",
      "True\n",
      "False\n",
      "False\n",
      "False\n",
      "False\n",
      "False\n"
     ]
    }
   ],
   "source": [
    "print(bool(\"bonjour\"))\n",
    "print(bool(\"5\"))\n",
    "print(bool(1.5))\n",
    "\n",
    "print(bool(0))\n",
    "print(bool(''))\n",
    "print(bool(None))\n",
    "print(bool([]))"
   ]
  },
  {
   "cell_type": "code",
   "execution_count": 89,
   "metadata": {},
   "outputs": [
    {
     "data": {
      "text/plain": [
       "NoneType"
      ]
     },
     "execution_count": 89,
     "metadata": {},
     "output_type": "execute_result"
    }
   ],
   "source": [
    "type(None)"
   ]
  },
  {
   "cell_type": "code",
   "execution_count": 8,
   "metadata": {},
   "outputs": [
    {
     "name": "stdout",
     "output_type": "stream",
     "text": [
      "True\n",
      "<class 'bool'>\n"
     ]
    }
   ],
   "source": [
    "z = \"1.4\"; u = True; v = \"5\"; w = \"False\""
   ]
  },
  {
   "cell_type": "code",
   "execution_count": 10,
   "metadata": {},
   "outputs": [
    {
     "name": "stdout",
     "output_type": "stream",
     "text": [
      "4.5\n",
      "4\n",
      "<class 'int'>\n"
     ]
    }
   ],
   "source": [
    "y_int = int(y)\n",
    "print(y)\n",
    "print(y_int)\n",
    "print(type(y_int))"
   ]
  },
  {
   "cell_type": "code",
   "execution_count": null,
   "metadata": {},
   "outputs": [],
   "source": [
    "yy = float(y)\n",
    "zz = float(z)\n",
    "uu = float(u)\n",
    "vv = float(v)\n",
    "ww = float(z)"
   ]
  },
  {
   "cell_type": "markdown",
   "metadata": {},
   "source": [
    "<hr style=\"border:2px solid gray\"> </hr>\n",
    "\n",
    "### Essayez vous-meme!\n",
    "\n",
    "1. Ordre des operations: quelle est selon vous le resulats de ces operations :$(4/2)^2\\times 2 + 1$, $4/2^{(2\\times 2)} + 1$, $4/2^2\\times (2 + 1)$, $4/2^2\\times 2 + 1$ ? verifier avec Python.\n",
    "2. Un pere a une somme d'argent de 1554 dh, il veut la partager sur ses 9 enfants de maniere equitable et s'il reste quelque dirham, il va acheter des chocolat a 1 dh l'unite. combien chanque enfant va recevoir? combien d'unite de chocolat peut-il acheter avec le reste?\n",
    "3. Quel est le type de donnees de valeurs suivantes:\n",
    "    - `1`\n",
    "    - `1.`\n",
    "    - `False`\n",
    "    - `\"False\"`\n",
    "    - `var1/var2` avec `var1 = 1` et `var2 = 2`"
   ]
  },
  {
   "cell_type": "code",
   "execution_count": 35,
   "metadata": {},
   "outputs": [],
   "source": [
    "# votre code ici"
   ]
  },
  {
   "cell_type": "markdown",
   "metadata": {},
   "source": [
    "There is a lot more that you can do with outputs (such as including interactive outputs)\n",
    "with your book. For more information about this, see [the Jupyter Book documentation](https://jupyterbook.org)"
   ]
  }
 ],
 "metadata": {
  "kernelspec": {
   "display_name": "Python 3 (ipykernel)",
   "language": "python",
   "name": "python3"
  },
  "language_info": {
   "codemirror_mode": {
    "name": "ipython",
    "version": 3
   },
   "file_extension": ".py",
   "mimetype": "text/x-python",
   "name": "python",
   "nbconvert_exporter": "python",
   "pygments_lexer": "ipython3",
   "version": "3.7.3"
  },
  "widgets": {
   "application/vnd.jupyter.widget-state+json": {
    "state": {},
    "version_major": 2,
    "version_minor": 0
   }
  }
 },
 "nbformat": 4,
 "nbformat_minor": 4
}
