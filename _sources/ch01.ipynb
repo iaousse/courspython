{
 "cells": [
  {
   "cell_type": "markdown",
   "metadata": {
    "tags": []
   },
   "source": [
    "# Interpréteur Python, IPython, et notebooks\n",
    "\n",
    "## Interpréteur Python\n",
    "\n",
    "Apres l'installation de python sur machine, On peut utiliser l'interpréteur Python de manière interactive. On tape `python` dans le terminal et on y est. Ensuite, on peut directement lui fournir du code Python à exécuter et nous allons recevoir les résultats immédiatement. \n",
    "\n",
    ":::{figure-md} markdown-fig\n",
    "<img src=\"interpwindows.PNG\" alt=\"interpwin\" class=\"bg-primary mb-1\" width=\"400px\">\n",
    "\n",
    "Lancer l'interpréteur Python dans le terminal Windows\n",
    ":::\n",
    "\n",
    "\n",
    "Cette option est très utile si on souhaite tester rapidement des bouts de code ou pour l'apprentissage.\n",
    "En revanche, si on souhaite écrire un programme relativement long, on devrait écrire notre programme dans un éditeur de texte (simple comme Notepad, vim, ... ou un éditeur avance comme vscode, pycharm, atom, ....) et on enregistre le fichier sous un intitulé qui se termine par l'extension `.py`. \n",
    "\n",
    ":::{figure-md} markdown-fig1\n",
    "<img src=\"scriptnote.PNG\" alt=\"interpwin\" class=\"bg-primary mb-1\" width=\"400px\">\n",
    "\n",
    "Les étapes pour écrire et exécuter un programme avec Notepad\n",
    ":::\n",
    "\n",
    "\n",
    "## IPython\n",
    "IPython est un terminal interactif plus développé qui propose des fonctionnalités telles que l'introspection, une syntaxe additionnelle, la complétion et un historique riche. IPython doit être installe à l'aide de la commande `pip install ipython` (voir [ici](https://ipython.org/install.html) pour plus de détails).\n",
    "\n",
    "## Jupyter notebook\n",
    "Les `notebooks Jupyter` sont des cahiers électroniques dont on peut, à la fois, produire du texte, insérer des images, des formules mathématiques et du code informatique exécutable. Ils sont manipulables interactivement dans un navigateur web. Jupyter a été développé dans un premier temps pour les langages de programmation Julia, Python et R (d'où le nom Jupyter). Actuellement les notebooks supportent près de 40 langages différents.\n",
    "\n",
    "La cellule est l'élément de base d'un notebook Jupyter. Elle peut contenir du texte formaté au format Markdown ou du code informatique qui pourra être exécuté. Le présent cours est écrit avec `jupyterbook` et chaque chapitre est un `notebook Jupyter`. Le présent texte est écrit dans une cellule Markdown. La cellule suivante une cellule code (qui est par défaut l'interpréteur IPython)."
   ]
  },
  {
   "cell_type": "code",
   "execution_count": 1,
   "metadata": {},
   "outputs": [
    {
     "name": "stdout",
     "output_type": "stream",
     "text": [
      "Hello world!\n"
     ]
    },
    {
     "data": {
      "text/plain": [
       "7"
      ]
     },
     "execution_count": 1,
     "metadata": {},
     "output_type": "execute_result"
    }
   ],
   "source": [
    "# La présente cellule est une cellule code, en dessous de la cellule s'affiche le résultat du code\n",
    "print(\"Hello world!\")\n",
    "5+2"
   ]
  },
  {
   "cell_type": "markdown",
   "metadata": {},
   "source": [
    "Voir [ici](https://docs.jupyter.org/en/latest/) pour plus de détails sur le projet `Jupyter`.\n",
    "## Google Colab\n",
    "\n",
    "Etant un projet incontournable dans le domaine du `machine learning` et `l'intelligence artificielle`, Google propose une version cloud de `Jupyter`: **Google Colab**  ou **Colaboratory**: il s'agit un service cloud, offert par Google qui est essentiellement destiné à la formation et à la recherche dans les domaines susmentionnés. Google Colab permet d'entraîner des modèles de Machine Learning directement dans le cloud. Ceci dit, nous n'avons besoin d'installer quoi que ce soit (python, anaconda, éditeur...) sur la machine, la seule chose requise est un navigateur. (Voir la section liens utiles pour les personnes intéressées)."
   ]
  }
 ],
 "metadata": {
  "kernelspec": {
   "display_name": "Python 3 (ipykernel)",
   "language": "python",
   "name": "python3"
  },
  "language_info": {
   "codemirror_mode": {
    "name": "ipython",
    "version": 3
   },
   "file_extension": ".py",
   "mimetype": "text/x-python",
   "name": "python",
   "nbconvert_exporter": "python",
   "pygments_lexer": "ipython3",
   "version": "3.7.3"
  },
  "widgets": {
   "application/vnd.jupyter.widget-state+json": {
    "state": {},
    "version_major": 2,
    "version_minor": 0
   }
  }
 },
 "nbformat": 4,
 "nbformat_minor": 4
}
